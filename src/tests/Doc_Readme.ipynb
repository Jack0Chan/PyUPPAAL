{
 "cells": [
  {
   "cell_type": "markdown",
   "metadata": {},
   "source": [
    "# Introduction\n",
    "\n",
    "[![Documentation Status](https://readthedocs.org/projects/pyuppaal/badge/?version=latest)](https://pyuppaal.readthedocs.io/en/latest/?badge=latest)    [![Licence](https://img.shields.io/github/license/jack0chan/pyuppaal)](https://opensource.org/licenses/mit-license.php)    [![](https://img.shields.io/badge/github-Jack0Chan-blue)](https://github.com/Jack0Chan)    [![](https://img.shields.io/badge/group-HCPS-blue)](https://www.yuque.com/hcps) \n",
    "\n",
    "`pyuppaal` is a research tool that helps you do most things that you can do with UPPAAL GUI. Basic coding flow is:\n",
    "\n",
    "1. load a .xml model, just like you open a model in UPPAAL GUI;\n",
    "2. set the query, just like you edit the queries in UPPAAL GUI;\n",
    "3. verify a model with the query and options (e.g., shortest path), just like you click the \"Verify\" button in UPPAAL GUI.\n",
    "\n",
    "In addition to the above functions, you can also\n",
    "\n",
    "- load a .xtr trace, and get the formatted trace data;\n",
    "- modify templates, declaration and systems;\n",
    "- add built-in templates such as Input, Observer, and Monitors; \n",
    "- find all patterns of the model with certain query.\n",
    "- [todo] analyze the *SMC* simulation results. \n",
    "\n",
    "A [MiniProject_PipeNet](https://github.com/Jack0Chan/pyuppaal/blob/main/src/tests/Doc_MiniProject_PipeNet.ipynb) is provided to help understand how `pauppaal` can contribute to scientific research."
   ]
  },
  {
   "cell_type": "markdown",
   "metadata": {},
   "source": [
    "# Quickstart\n",
    "\n",
    "## Installation\n",
    "To install `pyuppaal`, simply run this simple command:\n",
    "\n",
    "`pip install pyuppaal`\n",
    "\n",
    "## Before Coding\n",
    "\n",
    "Remember to set the `verifyta_path` in your first line of code.\n",
    "\n",
    "```python\n",
    "\n",
    "pyuppaal.set_verifyta_path(\"your/path/to/verifyta.exe\")\n",
    "\n",
    "```"
   ]
  },
  {
   "cell_type": "markdown",
   "metadata": {},
   "source": [
    "\n",
    "## Verify a Model, and Get the Verifycation Result\n",
    "\n",
    "Lets take the following model P1 with query `A[] not deadlock` as the example. You can download this file via [this_link].\n",
    "\n",
    "<img src=https://raw.githubusercontent.com/Jack0Chan/pyuppaal/main/src/tests/figs/demo.png width=250 />"
   ]
  },
  {
   "cell_type": "code",
   "execution_count": 2,
   "metadata": {},
   "outputs": [
    {
     "name": "stdout",
     "output_type": "stream",
     "text": [
      "['Options for the verification:\\n  Generating no trace\\n  Search order is breadth first\\n  Using conservative space optimisation\\n  Seed is 1668171327\\n  State space representation uses minimal constraint systems\\n\\x1b[2K\\nVerifying formula 1 at /nta/queries/query[1]/formula\\n\\x1b[2K -- Formula is NOT satisfied.\\n']\n"
     ]
    }
   ],
   "source": [
    "import pyuppaal as pyu\n",
    "\n",
    "VERIFYTA_PATH = \"uppaal\\\\Win_Linux-uppaal64-4.1.26\\\\bin-Windows\\\\verifyta.exe\"\n",
    "# set verifyta path\n",
    "pyu.set_verifyta_path(VERIFYTA_PATH)\n",
    "\n",
    "demo_path = 'demo.xml'\n",
    "\n",
    "# verify and return the terminal result\n",
    "terminal_res = pyu.verify(demo_path)\n",
    "print(terminal_res)\n",
    "\n",
    "# another method\n",
    "umod = pyu.UModel(demo_path)\n",
    "assert terminal_res[0] == umod.verify()"
   ]
  },
  {
   "cell_type": "markdown",
   "metadata": {},
   "source": [
    "You can also edit the model and get all possible patterns that satisfy the query.\n",
    "\n",
    "The red line is pattern1, and the green line is pattern2.\n",
    "\n",
    "<img src=https://raw.githubusercontent.com/Jack0Chan/pyuppaal/main/src/tests/figs/demo_patterns.png width=250 />"
   ]
  },
  {
   "cell_type": "code",
   "execution_count": 16,
   "metadata": {},
   "outputs": [
    {
     "name": "stdout",
     "output_type": "stream",
     "text": [
      "broadcast channels:  ['a', 'd', 'b', 'c']\n",
      "queries:  ['E<> P1.pass']\n",
      "\n",
      " State [0]: ['P1.start']\n",
      "global_variables [0]: None\n",
      "Clock_constraints [0]: [t(0) - P1.t ≤ 0; P1.t - t(0) ≤ 10; ]\n",
      "transitions [0]: a: P1 -> []; P1.start -> P1._id2; \n",
      "-----------------------------------\n",
      "State [1]: ['P1._id2']\n",
      "global_variables [1]: None\n",
      "Clock_constraints [1]: [t(0) - P1.t ≤ -10; ]\n",
      "transitions [1]: b: P1 -> []; P1._id2 -> P1.pass; \n",
      "-----------------------------------\n",
      "State [2]: ['P1.pass']\n",
      "global_variables [2]: None\n",
      "Clock_constraints [2]: [t(0) - P1.t ≤ -10; ]\n",
      "\n",
      "pattern1:  ['a', 'b']\n",
      "pattern2:  ['c', 'd']\n"
     ]
    }
   ],
   "source": [
    "# save as a new file because find_all_patterns will modify the file\n",
    "umod = umod.save_as('demo_new.xml')\n",
    "# set the queries of the xml model.\n",
    "umod.set_queries('E<> P1.pass')\n",
    "\n",
    "print(\"broadcast channels: \", umod.broadcast_chan)\n",
    "print(\"queries: \", umod.queries)\n",
    "# get one trace\n",
    "print('\\n', umod.easy_verify())\n",
    "# find all patterns\n",
    "all_patterns = umod.find_all_patterns()\n",
    "for i, pattern in enumerate(all_patterns):\n",
    "    print(f'pattern{i+1}: ', pattern.untime_pattern)"
   ]
  },
  {
   "cell_type": "markdown",
   "metadata": {},
   "source": [
    "## Verify Models with Multi-threads"
   ]
  },
  {
   "cell_type": "code",
   "execution_count": 21,
   "metadata": {},
   "outputs": [
    {
     "name": "stdout",
     "output_type": "stream",
     "text": [
      "Verify with for loop, time usage 8.65420126914978\n",
      "Verify with multi-threads, time usage 1.9333720207214355\n"
     ]
    }
   ],
   "source": [
    "import pyuppaal as pyu\n",
    "import time\n",
    "\n",
    "# set verifyta path\n",
    "pyu.set_verifyta_path(VERIFYTA_PATH)\n",
    "\n",
    "model_path_list = ['demo.xml', 'demo_new.xml'] * 100\n",
    "trace_path_list = ['demo_trace.xtr', 'demo_new_grace.xtr'] * 100\n",
    "# for loop\n",
    "t0 = time.time()\n",
    "for model, trace in zip(model_path_list, trace_path_list):\n",
    "    pyu.easy_verify(model_path=model, trace_path=trace)\n",
    "print(f'Verify with for loop, time usage {time.time() - t0}')\n",
    "\n",
    "# multi-threads\n",
    "t0 = time.time()\n",
    "pyu.easy_verify(model_path=model_path_list, trace_path=trace_path_list, num_threads=20)\n",
    "print(f'Verify with multi-threads, time usage {time.time() - t0}')"
   ]
  },
  {
   "cell_type": "markdown",
   "metadata": {},
   "source": [
    "## Get Communication Graph\n",
    "\n",
    "For models with multiple processes, you can use `pyuppaal.get_communication_graph(model_path)` or `umod.get_communication_graph()` method to visualize the sturcture of the model.\n",
    "\n",
    "An example communication graph of a complex model in [MiniProject_PipeNet](https://github.com/Jack0Chan/pyuppaal/blob/main/src/tests/Doc_MiniProject_PipeNet.ipynb) is shown below:\n",
    "\n",
    "[![](https://mermaid.ink/img/pako:eNpVjs0KwjAQhF-l7Lk56DEHT714UUGPC7JttjaQpCHdiFL67kYo_pxmmG8GZoZuNAwaboniUF0aDCcb-cCCYR9iLnJsJ053TmuglH3LtSXnlNp92qtRih9WtoV8d39o84OgBs_JkzXlwYyhqhBkYM8IuljDPWUnCBiWUqUs4_kZOtCSMteQoyHhxlL57kH35CZeXq-ESg8?type=png)](https://mermaid.live/edit#pako:eNpVjs0KwjAQhF-l7Lk56DEHT714UUGPC7JttjaQpCHdiFL67kYo_pxmmG8GZoZuNAwaboniUF0aDCcb-cCCYR9iLnJsJ053TmuglH3LtSXnlNp92qtRih9WtoV8d39o84OgBs_JkzXlwYyhqhBkYM8IuljDPWUnCBiWUqUs4_kZOtCSMteQoyHhxlL57kH35CZeXq-ESg8)"
   ]
  },
  {
   "cell_type": "markdown",
   "metadata": {},
   "source": []
  }
 ],
 "metadata": {
  "kernelspec": {
   "display_name": "Python 3.9.12 ('base')",
   "language": "python",
   "name": "python3"
  },
  "language_info": {
   "codemirror_mode": {
    "name": "ipython",
    "version": 3
   },
   "file_extension": ".py",
   "mimetype": "text/x-python",
   "name": "python",
   "nbconvert_exporter": "python",
   "pygments_lexer": "ipython3",
   "version": "3.9.12"
  },
  "orig_nbformat": 4,
  "vscode": {
   "interpreter": {
    "hash": "cbab80897c756e21206e83b1602264f7bed4b229d7a86fb97552ee165cb35ec2"
   }
  }
 },
 "nbformat": 4,
 "nbformat_minor": 2
}
