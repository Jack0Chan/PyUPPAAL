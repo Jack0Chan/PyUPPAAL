{
 "cells": [
  {
   "cell_type": "markdown",
   "metadata": {},
   "source": [
    "# Verifyta Demo"
   ]
  },
  {
   "cell_type": "code",
   "execution_count": 1,
   "metadata": {},
   "outputs": [],
   "source": [
    "import os\n",
    "# import sys\n",
    "# sys.path.append('/Users/22215/OneDrive/Coding/PlayGround/Github/pyuppaal/src/pyuppaal')\n",
    "import time\n",
    "import pyuppaal as pyu\n",
    "from verifyta_path import * "
   ]
  },
  {
   "cell_type": "code",
   "execution_count": 3,
   "metadata": {},
   "outputs": [
    {
     "ename": "FileNotFoundError",
     "evalue": "model_path verifyta_demo1.xml not found.",
     "output_type": "error",
     "traceback": [
      "\u001b[1;31m---------------------------------------------------------------------------\u001b[0m",
      "\u001b[1;31mFileNotFoundError\u001b[0m                         Traceback (most recent call last)",
      "\u001b[1;32mh:\\Project\\Repository\\HCPSLab\\pyuppaal\\src\\tests\\demo.ipynb Cell 3\u001b[0m in \u001b[0;36m<cell line: 10>\u001b[1;34m()\u001b[0m\n\u001b[0;32m      <a href='vscode-notebook-cell:/h%3A/Project/Repository/HCPSLab/pyuppaal/src/tests/demo.ipynb#W2sZmlsZQ%3D%3D?line=7'>8</a>\u001b[0m p1_model_path \u001b[39m=\u001b[39m \u001b[39m'\u001b[39m\u001b[39mverifyta_demo1.xml\u001b[39m\u001b[39m'\u001b[39m\n\u001b[0;32m      <a href='vscode-notebook-cell:/h%3A/Project/Repository/HCPSLab/pyuppaal/src/tests/demo.ipynb#W2sZmlsZQ%3D%3D?line=8'>9</a>\u001b[0m p1_trace_path \u001b[39m=\u001b[39m \u001b[39m'\u001b[39m\u001b[39mverifyta_demo1_trace.xml\u001b[39m\u001b[39m'\u001b[39m\n\u001b[1;32m---> <a href='vscode-notebook-cell:/h%3A/Project/Repository/HCPSLab/pyuppaal/src/tests/demo.ipynb#W2sZmlsZQ%3D%3D?line=9'>10</a>\u001b[0m res1 \u001b[39m=\u001b[39m v\u001b[39m.\u001b[39;49measy_verify(model_path\u001b[39m=\u001b[39;49mp1_model_path, trace_path\u001b[39m=\u001b[39;49mp1_trace_path)\n\u001b[0;32m     <a href='vscode-notebook-cell:/h%3A/Project/Repository/HCPSLab/pyuppaal/src/tests/demo.ipynb#W2sZmlsZQ%3D%3D?line=10'>11</a>\u001b[0m \u001b[39m# print(res1)\u001b[39;00m\n\u001b[0;32m     <a href='vscode-notebook-cell:/h%3A/Project/Repository/HCPSLab/pyuppaal/src/tests/demo.ipynb#W2sZmlsZQ%3D%3D?line=11'>12</a>\u001b[0m \n\u001b[0;32m     <a href='vscode-notebook-cell:/h%3A/Project/Repository/HCPSLab/pyuppaal/src/tests/demo.ipynb#W2sZmlsZQ%3D%3D?line=12'>13</a>\u001b[0m \u001b[39m# verify P2 (verifyta_demo2.xml), save .xtr file and print result\u001b[39;00m\n\u001b[0;32m     <a href='vscode-notebook-cell:/h%3A/Project/Repository/HCPSLab/pyuppaal/src/tests/demo.ipynb#W2sZmlsZQ%3D%3D?line=13'>14</a>\u001b[0m p2_model_path \u001b[39m=\u001b[39m \u001b[39m'\u001b[39m\u001b[39mverifyta_demo2.xml\u001b[39m\u001b[39m'\u001b[39m\n",
      "File \u001b[1;32mh:\\project\\repository\\hcpslab\\pyuppaal\\src\\pyuppaal\\verifyta.py:359\u001b[0m, in \u001b[0;36mVerifyta.easy_verify\u001b[1;34m(self, model_path, trace_path, verify_options, num_threads)\u001b[0m\n\u001b[0;32m    357\u001b[0m         error_info \u001b[39m=\u001b[39m \u001b[39mf\u001b[39m\u001b[39m'\u001b[39m\u001b[39mtrace_path should end with \u001b[39m\u001b[39m\"\u001b[39m\u001b[39m.xml\u001b[39m\u001b[39m\"\u001b[39m\u001b[39m or \u001b[39m\u001b[39m\"\u001b[39m\u001b[39m.xtr\u001b[39m\u001b[39m\"\u001b[39m\u001b[39m, current trace_path = \u001b[39m\u001b[39m{\u001b[39;00mtrace_i\u001b[39m}\u001b[39;00m\u001b[39m.\u001b[39m\u001b[39m'\u001b[39m\n\u001b[0;32m    358\u001b[0m         \u001b[39mraise\u001b[39;00m \u001b[39mValueError\u001b[39;00m(error_info)\n\u001b[1;32m--> 359\u001b[0m \u001b[39mreturn\u001b[39;00m \u001b[39mself\u001b[39;49m\u001b[39m.\u001b[39;49mverify(model_path\u001b[39m=\u001b[39;49mmodel_path, verify_options\u001b[39m=\u001b[39;49moptions, num_threads\u001b[39m=\u001b[39;49mnum_threads)\n",
      "File \u001b[1;32mh:\\project\\repository\\hcpslab\\pyuppaal\\src\\pyuppaal\\verifyta.py:259\u001b[0m, in \u001b[0;36mVerifyta.verify\u001b[1;34m(self, model_path, verify_options, num_threads)\u001b[0m\n\u001b[0;32m    257\u001b[0m \u001b[39mif\u001b[39;00m \u001b[39mnot\u001b[39;00m os\u001b[39m.\u001b[39mpath\u001b[39m.\u001b[39mexists(model_i):\n\u001b[0;32m    258\u001b[0m     error_info \u001b[39m=\u001b[39m \u001b[39mf\u001b[39m\u001b[39m'\u001b[39m\u001b[39mmodel_path \u001b[39m\u001b[39m{\u001b[39;00mmodel_i\u001b[39m}\u001b[39;00m\u001b[39m not found.\u001b[39m\u001b[39m'\u001b[39m\n\u001b[1;32m--> 259\u001b[0m     \u001b[39mraise\u001b[39;00m \u001b[39mFileNotFoundError\u001b[39;00m(error_info)\n\u001b[0;32m    260\u001b[0m \u001b[39m# 构造命令\u001b[39;00m\n\u001b[0;32m    261\u001b[0m cmd \u001b[39m=\u001b[39m cmd_env\u001b[39m+\u001b[39m\u001b[39m'\u001b[39m\u001b[39m&&\u001b[39m\u001b[39m'\u001b[39m\u001b[39m+\u001b[39m\u001b[39mf\u001b[39m\u001b[39m'\u001b[39m\u001b[39m{\u001b[39;00m\u001b[39mself\u001b[39m\u001b[39m.\u001b[39m__verifyta_path\u001b[39m}\u001b[39;00m\u001b[39m \u001b[39m\u001b[39m{\u001b[39;00mmodel_i\u001b[39m}\u001b[39;00m\u001b[39m \u001b[39m\u001b[39m{\u001b[39;00mverify_options_i\u001b[39m}\u001b[39;00m\u001b[39m'\u001b[39m\n",
      "\u001b[1;31mFileNotFoundError\u001b[0m: model_path verifyta_demo1.xml not found."
     ]
    }
   ],
   "source": [
    "# You MUST set the verifyta path firstly!\n",
    "pyu.set_verifyta_path(VERIFYTA_PATH)\n",
    "\n",
    "# 创建一个verifyta实例\n",
    "v = pyu.Verifyta()\n",
    "\n",
    "# verify P1 (verifyta_demo1.xml), save .xml file and print result\n",
    "p1_model_path = 'verifyta_demo1.xml'\n",
    "p1_trace_path = 'verifyta_demo1_trace.xml'\n",
    "res1 = v.easy_verify(model_path=p1_model_path, trace_path=p1_trace_path)\n",
    "# print(res1)\n",
    "\n",
    "# verify P2 (verifyta_demo2.xml), save .xtr file and print result\n",
    "p2_model_path = 'verifyta_demo2.xml'\n",
    "p2_trace_path = 'verifyta_demo2_trace.xtr'\n",
    "res2 = v.easy_verify(model_path=p2_model_path, trace_path=p2_trace_path)\n",
    "print(res2)\n",
    "\n",
    "#  use mutithreads verify model list\n",
    "model_path_list = [p1_model_path, p2_model_path] * 2\n",
    "trace_path_list = [p1_trace_path, p2_trace_path] * 2\n",
    "res3 = v.easy_verify(model_path=model_path_list, trace_path=trace_path_list, parallel='threads')\n",
    "# print(res3)"
   ]
  },
  {
   "cell_type": "code",
   "execution_count": 2,
   "metadata": {},
   "outputs": [
    {
     "ename": "FileNotFoundError",
     "evalue": "model_path verifyta_demo1.xml not found.",
     "output_type": "error",
     "traceback": [
      "\u001b[1;31m---------------------------------------------------------------------------\u001b[0m",
      "\u001b[1;31mFileNotFoundError\u001b[0m                         Traceback (most recent call last)",
      "\u001b[1;32mh:\\Project\\Repository\\HCPSLab\\pyuppaal\\src\\tests\\demo.ipynb Cell 4\u001b[0m in \u001b[0;36m<cell line: 11>\u001b[1;34m()\u001b[0m\n\u001b[0;32m      <a href='vscode-notebook-cell:/h%3A/Project/Repository/HCPSLab/pyuppaal/src/tests/demo.ipynb#W3sZmlsZQ%3D%3D?line=8'>9</a>\u001b[0m p1_model_path \u001b[39m=\u001b[39m \u001b[39m'\u001b[39m\u001b[39mverifyta_demo1.xml\u001b[39m\u001b[39m'\u001b[39m\n\u001b[0;32m     <a href='vscode-notebook-cell:/h%3A/Project/Repository/HCPSLab/pyuppaal/src/tests/demo.ipynb#W3sZmlsZQ%3D%3D?line=9'>10</a>\u001b[0m p1_trace_path \u001b[39m=\u001b[39m \u001b[39m'\u001b[39m\u001b[39mverifyta_demo1_trace.xml\u001b[39m\u001b[39m'\u001b[39m\n\u001b[1;32m---> <a href='vscode-notebook-cell:/h%3A/Project/Repository/HCPSLab/pyuppaal/src/tests/demo.ipynb#W3sZmlsZQ%3D%3D?line=10'>11</a>\u001b[0m res1 \u001b[39m=\u001b[39m pyu\u001b[39m.\u001b[39;49measy_verify(model_path\u001b[39m=\u001b[39;49mp1_model_path, trace_path\u001b[39m=\u001b[39;49mp1_trace_path)\n\u001b[0;32m     <a href='vscode-notebook-cell:/h%3A/Project/Repository/HCPSLab/pyuppaal/src/tests/demo.ipynb#W3sZmlsZQ%3D%3D?line=11'>12</a>\u001b[0m \u001b[39mprint\u001b[39m(res1)\n\u001b[0;32m     <a href='vscode-notebook-cell:/h%3A/Project/Repository/HCPSLab/pyuppaal/src/tests/demo.ipynb#W3sZmlsZQ%3D%3D?line=13'>14</a>\u001b[0m \u001b[39m# verify P2 (verifyta_demo2.xml), save .xtr file and print result\u001b[39;00m\n",
      "File \u001b[1;32mh:\\project\\repository\\hcpslab\\pyuppaal\\src\\pyuppaal\\pyuppaal.py:34\u001b[0m, in \u001b[0;36measy_verify\u001b[1;34m(model_path, trace_path, verify_options, num_threads)\u001b[0m\n\u001b[0;32m     24\u001b[0m \u001b[39mdef\u001b[39;00m \u001b[39measy_verify\u001b[39m(model_path: \u001b[39mstr\u001b[39m \u001b[39m|\u001b[39m List[\u001b[39mstr\u001b[39m], trace_path: \u001b[39mstr\u001b[39m \u001b[39m|\u001b[39m List[\u001b[39mstr\u001b[39m], verify_options: \u001b[39mstr\u001b[39m\u001b[39m=\u001b[39m\u001b[39m\"\u001b[39m\u001b[39m-t 1\u001b[39m\u001b[39m\"\u001b[39m, num_threads\u001b[39m=\u001b[39m\u001b[39m1\u001b[39m):\n\u001b[0;32m     25\u001b[0m     \u001b[39m\"\"\"\u001b[39;00m\n\u001b[0;32m     26\u001b[0m \u001b[39m    Easy verification with default options, return to the shortest diagnostic path. \u001b[39;00m\n\u001b[0;32m     27\u001b[0m \u001b[39m    Verify the model in model_path and save the verification results to trace_path.\u001b[39;00m\n\u001b[1;32m   (...)\u001b[0m\n\u001b[0;32m     32\u001b[0m \u001b[39m        None(default): run in sequence, 'process':use multiprocessing, 'threads': use multithreads.\u001b[39;00m\n\u001b[0;32m     33\u001b[0m \u001b[39m    \"\"\"\u001b[39;00m\n\u001b[1;32m---> 34\u001b[0m     \u001b[39mreturn\u001b[39;00m Verifyta()\u001b[39m.\u001b[39;49measy_verify(model_path, trace_path, verify_options, num_threads)\n",
      "File \u001b[1;32mh:\\project\\repository\\hcpslab\\pyuppaal\\src\\pyuppaal\\verifyta.py:359\u001b[0m, in \u001b[0;36mVerifyta.easy_verify\u001b[1;34m(self, model_path, trace_path, verify_options, num_threads)\u001b[0m\n\u001b[0;32m    357\u001b[0m         error_info \u001b[39m=\u001b[39m \u001b[39mf\u001b[39m\u001b[39m'\u001b[39m\u001b[39mtrace_path should end with \u001b[39m\u001b[39m\"\u001b[39m\u001b[39m.xml\u001b[39m\u001b[39m\"\u001b[39m\u001b[39m or \u001b[39m\u001b[39m\"\u001b[39m\u001b[39m.xtr\u001b[39m\u001b[39m\"\u001b[39m\u001b[39m, current trace_path = \u001b[39m\u001b[39m{\u001b[39;00mtrace_i\u001b[39m}\u001b[39;00m\u001b[39m.\u001b[39m\u001b[39m'\u001b[39m\n\u001b[0;32m    358\u001b[0m         \u001b[39mraise\u001b[39;00m \u001b[39mValueError\u001b[39;00m(error_info)\n\u001b[1;32m--> 359\u001b[0m \u001b[39mreturn\u001b[39;00m \u001b[39mself\u001b[39;49m\u001b[39m.\u001b[39;49mverify(model_path\u001b[39m=\u001b[39;49mmodel_path, verify_options\u001b[39m=\u001b[39;49moptions, num_threads\u001b[39m=\u001b[39;49mnum_threads)\n",
      "File \u001b[1;32mh:\\project\\repository\\hcpslab\\pyuppaal\\src\\pyuppaal\\verifyta.py:259\u001b[0m, in \u001b[0;36mVerifyta.verify\u001b[1;34m(self, model_path, verify_options, num_threads)\u001b[0m\n\u001b[0;32m    257\u001b[0m \u001b[39mif\u001b[39;00m \u001b[39mnot\u001b[39;00m os\u001b[39m.\u001b[39mpath\u001b[39m.\u001b[39mexists(model_i):\n\u001b[0;32m    258\u001b[0m     error_info \u001b[39m=\u001b[39m \u001b[39mf\u001b[39m\u001b[39m'\u001b[39m\u001b[39mmodel_path \u001b[39m\u001b[39m{\u001b[39;00mmodel_i\u001b[39m}\u001b[39;00m\u001b[39m not found.\u001b[39m\u001b[39m'\u001b[39m\n\u001b[1;32m--> 259\u001b[0m     \u001b[39mraise\u001b[39;00m \u001b[39mFileNotFoundError\u001b[39;00m(error_info)\n\u001b[0;32m    260\u001b[0m \u001b[39m# 构造命令\u001b[39;00m\n\u001b[0;32m    261\u001b[0m cmd \u001b[39m=\u001b[39m cmd_env\u001b[39m+\u001b[39m\u001b[39m'\u001b[39m\u001b[39m&&\u001b[39m\u001b[39m'\u001b[39m\u001b[39m+\u001b[39m\u001b[39mf\u001b[39m\u001b[39m'\u001b[39m\u001b[39m{\u001b[39;00m\u001b[39mself\u001b[39m\u001b[39m.\u001b[39m__verifyta_path\u001b[39m}\u001b[39;00m\u001b[39m \u001b[39m\u001b[39m{\u001b[39;00mmodel_i\u001b[39m}\u001b[39;00m\u001b[39m \u001b[39m\u001b[39m{\u001b[39;00mverify_options_i\u001b[39m}\u001b[39;00m\u001b[39m'\u001b[39m\n",
      "\u001b[1;31mFileNotFoundError\u001b[0m: model_path verifyta_demo1.xml not found."
     ]
    }
   ],
   "source": [
    "\"\"\"\n",
    "NEW VERSION without verifyta\n",
    "\"\"\"\n",
    "\n",
    "# You MUST set the verifyta path firstly!\n",
    "pyu.set_verifyta_path(VERIFYTA_PATH)\n",
    "\n",
    "# verify P1 (verifyta_demo1.xml), save .xml file and print result\n",
    "p1_model_path = 'verifyta_demo1.xml'\n",
    "p1_trace_path = 'verifyta_demo1_trace.xml'\n",
    "res1 = pyu.easy_verify(model_path=p1_model_path, trace_path=p1_trace_path)\n",
    "print(res1)\n",
    "\n",
    "# verify P2 (verifyta_demo2.xml), save .xtr file and print result\n",
    "p2_model_path = 'verifyta_demo2.xml'\n",
    "p2_trace_path = 'verifyta_demo2_trace.xtr'\n",
    "res2 = pyu.easy_verify(model_path=p2_model_path, trace_path=p2_trace_path)\n",
    "# print(res2)\n",
    "\n",
    "#  use mutithreads verify model list\n",
    "model_path_list = [p1_model_path, p2_model_path] * 2\n",
    "trace_path_list = [p1_trace_path, p2_trace_path] * 2\n",
    "res3 = pyu.easy_verify(model_path=model_path_list, trace_path=trace_path_list, parallel='threads')\n",
    "# print(res3)"
   ]
  },
  {
   "cell_type": "code",
   "execution_count": 3,
   "metadata": {},
   "outputs": [
    {
     "ename": "NameError",
     "evalue": "name 'p2_model_path' is not defined",
     "output_type": "error",
     "traceback": [
      "\u001b[1;31m---------------------------------------------------------------------------\u001b[0m",
      "\u001b[1;31mNameError\u001b[0m                                 Traceback (most recent call last)",
      "\u001b[1;32mh:\\Project\\Repository\\HCPSLab\\pyuppaal\\src\\tests\\demo.ipynb Cell 5\u001b[0m in \u001b[0;36m<cell line: 1>\u001b[1;34m()\u001b[0m\n\u001b[1;32m----> <a href='vscode-notebook-cell:/h%3A/Project/Repository/HCPSLab/pyuppaal/src/tests/demo.ipynb#W4sZmlsZQ%3D%3D?line=0'>1</a>\u001b[0m model_path_list \u001b[39m=\u001b[39m [p1_model_path, p2_model_path] \u001b[39m*\u001b[39m \u001b[39m100\u001b[39m\n\u001b[0;32m      <a href='vscode-notebook-cell:/h%3A/Project/Repository/HCPSLab/pyuppaal/src/tests/demo.ipynb#W4sZmlsZQ%3D%3D?line=1'>2</a>\u001b[0m trace_path_list \u001b[39m=\u001b[39m [p1_trace_path, p2_trace_path] \u001b[39m*\u001b[39m \u001b[39m100\u001b[39m\n\u001b[0;32m      <a href='vscode-notebook-cell:/h%3A/Project/Repository/HCPSLab/pyuppaal/src/tests/demo.ipynb#W4sZmlsZQ%3D%3D?line=2'>3</a>\u001b[0m \u001b[39m# for loop\u001b[39;00m\n",
      "\u001b[1;31mNameError\u001b[0m: name 'p2_model_path' is not defined"
     ]
    }
   ],
   "source": [
    "model_path_list = [p1_model_path, p2_model_path] * 100\n",
    "trace_path_list = [p1_trace_path, p2_trace_path] * 100\n",
    "# for loop\n",
    "t0 = time.time()\n",
    "for model, trace in zip(model_path_list, trace_path_list):\n",
    "    v.easy_verify(model_path=model, trace_path=trace)\n",
    "print(f'Verify with for loop, time usage {time.time() - t0}')\n",
    "\n",
    "# multi-threads\n",
    "t0 = time.time()\n",
    "v.easy_verify(model_path=model_path_list, trace_path=trace_path_list, parallel='threads')\n",
    "print(f'Verify with multi-threads, time usage {time.time() - t0}')\n",
    "\n",
    "# multi-process\n",
    "t0 = time.time()\n",
    "v.easy_verify(model_path=model_path_list, trace_path=trace_path_list, parallel='process')\n",
    "print(f'Verify with multi-process, time usage {time.time() - t0}')"
   ]
  },
  {
   "cell_type": "markdown",
   "metadata": {},
   "source": [
    "# Tracer Demo"
   ]
  },
  {
   "cell_type": "code",
   "execution_count": 5,
   "metadata": {},
   "outputs": [
    {
     "ename": "FileNotFoundError",
     "evalue": "model_path verifyta_demo2.xml not found.",
     "output_type": "error",
     "traceback": [
      "\u001b[1;31m---------------------------------------------------------------------------\u001b[0m",
      "\u001b[1;31mFileNotFoundError\u001b[0m                         Traceback (most recent call last)",
      "\u001b[1;32mh:\\Project\\Repository\\HCPSLab\\pyuppaal\\src\\tests\\demo.ipynb Cell 7\u001b[0m in \u001b[0;36m<cell line: 16>\u001b[1;34m()\u001b[0m\n\u001b[0;32m     <a href='vscode-notebook-cell:/h%3A/Project/Repository/HCPSLab/pyuppaal/src/tests/demo.ipynb#W6sZmlsZQ%3D%3D?line=12'>13</a>\u001b[0m p1_trace_path \u001b[39m=\u001b[39m \u001b[39m'\u001b[39m\u001b[39mverifyta_demo2_trace-1.xtr\u001b[39m\u001b[39m'\u001b[39m\n\u001b[0;32m     <a href='vscode-notebook-cell:/h%3A/Project/Repository/HCPSLab/pyuppaal/src/tests/demo.ipynb#W6sZmlsZQ%3D%3D?line=14'>15</a>\u001b[0m \u001b[39m# load timed trace -> SimTrace，读取一个xtr文件，生成一个SimTrace类的实例\u001b[39;00m\n\u001b[1;32m---> <a href='vscode-notebook-cell:/h%3A/Project/Repository/HCPSLab/pyuppaal/src/tests/demo.ipynb#W6sZmlsZQ%3D%3D?line=15'>16</a>\u001b[0m simtracer \u001b[39m=\u001b[39m Tracer\u001b[39m.\u001b[39;49mget_timed_trace(p1_model_path, p1_trace_path)\n\u001b[0;32m     <a href='vscode-notebook-cell:/h%3A/Project/Repository/HCPSLab/pyuppaal/src/tests/demo.ipynb#W6sZmlsZQ%3D%3D?line=16'>17</a>\u001b[0m \u001b[39mprint\u001b[39m(simtracer)\n",
      "File \u001b[1;32mh:\\project\\repository\\hcpslab\\pyuppaal\\src\\pyuppaal\\tracer.py:600\u001b[0m, in \u001b[0;36mTracer.get_timed_trace\u001b[1;34m(model_path, xtr_trace_path)\u001b[0m\n\u001b[0;32m    598\u001b[0m verifyta \u001b[39m=\u001b[39m Verifyta()\n\u001b[0;32m    599\u001b[0m \u001b[39m# use Verifta to compile model_path to if format file\u001b[39;00m\n\u001b[1;32m--> 600\u001b[0m if_file \u001b[39m=\u001b[39m verifyta\u001b[39m.\u001b[39;49mcompile_to_if(model_path\u001b[39m=\u001b[39;49mmodel_path)\n\u001b[0;32m    601\u001b[0m \u001b[39m# .if 文件名和拓展名\u001b[39;00m\n\u001b[0;32m    602\u001b[0m \u001b[39m# file_path, file_ext = os.path.splitext(if_file)\u001b[39;00m\n\u001b[0;32m    603\u001b[0m \u001b[39m# construct command\u001b[39;00m\n\u001b[0;32m    604\u001b[0m cmd_command \u001b[39m=\u001b[39m \u001b[39mf\u001b[39m\u001b[39m'\u001b[39m\u001b[39m{\u001b[39;00mTRACER_CUSTOM_PATH\u001b[39m}\u001b[39;00m\u001b[39m \u001b[39m\u001b[39m{\u001b[39;00mif_file\u001b[39m}\u001b[39;00m\u001b[39m \u001b[39m\u001b[39m{\u001b[39;00mtrace_path\u001b[39m}\u001b[39;00m\u001b[39m'\u001b[39m\n",
      "File \u001b[1;32mh:\\project\\repository\\hcpslab\\pyuppaal\\src\\pyuppaal\\verifyta.py:22\u001b[0m, in \u001b[0;36mcheck_is_verifyta_path_empty.<locals>.checker_wrapper\u001b[1;34m(*args, **kwargs)\u001b[0m\n\u001b[0;32m     18\u001b[0m \u001b[39m@functools\u001b[39m\u001b[39m.\u001b[39mwraps(func)\n\u001b[0;32m     19\u001b[0m \u001b[39mdef\u001b[39;00m \u001b[39mchecker_wrapper\u001b[39m(\u001b[39m*\u001b[39margs, \u001b[39m*\u001b[39m\u001b[39m*\u001b[39mkwargs):\n\u001b[0;32m     20\u001b[0m     \u001b[39m# 注意verifyta是singleton，因此可以直接用Verifyta()调用到唯一的实例\u001b[39;00m\n\u001b[0;32m     21\u001b[0m     \u001b[39mif\u001b[39;00m Verifyta()\u001b[39m.\u001b[39mverifyta_path:\n\u001b[1;32m---> 22\u001b[0m         \u001b[39mreturn\u001b[39;00m func(\u001b[39m*\u001b[39margs, \u001b[39m*\u001b[39m\u001b[39m*\u001b[39mkwargs)\n\u001b[0;32m     23\u001b[0m     \u001b[39melse\u001b[39;00m:\n\u001b[0;32m     24\u001b[0m         error_info \u001b[39m=\u001b[39m \u001b[39m'\u001b[39m\u001b[39mVerifyta path is not set.\u001b[39m\u001b[39m'\u001b[39m\n",
      "File \u001b[1;32mh:\\project\\repository\\hcpslab\\pyuppaal\\src\\pyuppaal\\verifyta.py:167\u001b[0m, in \u001b[0;36mVerifyta.compile_to_if\u001b[1;34m(self, model_path)\u001b[0m\n\u001b[0;32m    165\u001b[0m \u001b[39mif\u001b[39;00m \u001b[39mnot\u001b[39;00m os\u001b[39m.\u001b[39mpath\u001b[39m.\u001b[39mexists(model_path):\n\u001b[0;32m    166\u001b[0m     error_info \u001b[39m=\u001b[39m \u001b[39mf\u001b[39m\u001b[39m'\u001b[39m\u001b[39mmodel_path \u001b[39m\u001b[39m{\u001b[39;00mmodel_path\u001b[39m}\u001b[39;00m\u001b[39m not found.\u001b[39m\u001b[39m'\u001b[39m\n\u001b[1;32m--> 167\u001b[0m     \u001b[39mraise\u001b[39;00m \u001b[39mFileNotFoundError\u001b[39;00m(error_info)\n\u001b[0;32m    168\u001b[0m file_path, file_ext \u001b[39m=\u001b[39m os\u001b[39m.\u001b[39mpath\u001b[39m.\u001b[39msplitext(model_path)\n\u001b[0;32m    169\u001b[0m if_path \u001b[39m=\u001b[39m file_path \u001b[39m+\u001b[39m \u001b[39m'\u001b[39m\u001b[39m.if\u001b[39m\u001b[39m'\u001b[39m\n",
      "\u001b[1;31mFileNotFoundError\u001b[0m: model_path verifyta_demo2.xml not found."
     ]
    }
   ],
   "source": [
    "import pyuppaal as pyu\n",
    "from pyuppaal import Tracer\n",
    "\n",
    "# You MUST set the verifyta path firstly!\n",
    "# pyu.set_verifyta_path(r'D:/Softwares/uppaal64-4.1.25-5/bin-Windows/verifyta.exe')\n",
    "# pyu.set_verifyta_path(r'/Users/chenguangyao/Downloads/uppaal64-4.1.26/bin-Darwin/verifyta')\n",
    "pyu.set_verifyta_path(VERIFYTA_PATH)\n",
    "\n",
    "\n",
    "# v = pyu.Verifyta()\n",
    "# model path and trace path\n",
    "p1_model_path = 'verifyta_demo2.xml'\n",
    "p1_trace_path = 'verifyta_demo2_trace-1.xtr'\n",
    "\n",
    "# load timed trace -> SimTrace，读取一个xtr文件，生成一个SimTrace类的实例\n",
    "simtracer = Tracer.get_timed_trace(p1_model_path, p1_trace_path)\n",
    "print(simtracer)"
   ]
  },
  {
   "cell_type": "code",
   "execution_count": 2,
   "metadata": {},
   "outputs": [
    {
     "name": "stdout",
     "output_type": "stream",
     "text": [
      "State [0]: ['P2.A']\n",
      "global_variables [0]: []\n",
      "Clock_constraints [0]: [t(0) - P2.t ≤ 0; P2.t - t(0) ≤ 10; ]\n",
      "transitions [0]: None: P2.A -> P2.B\n",
      "-----------------------------------\n",
      "State [1]: ['P2.B']\n",
      "global_variables [1]: []\n",
      "Clock_constraints [1]: [t(0) - P2.t ≤ -10; P2.t - t(0) ≤ 10; ]\n",
      "transitions [1]: None: P2.B -> P2.C\n",
      "-----------------------------------\n",
      "State [2]: ['P2.C']\n",
      "global_variables [2]: []\n",
      "Clock_constraints [2]: [t(0) - P2.t ≤ -10; P2.t - t(0) ≤ 20; ]\n",
      "\n"
     ]
    }
   ],
   "source": [
    "\"\"\"\n",
    "NEW VERSION without verifyta\n",
    "\"\"\"\n",
    "\n",
    "import pyuppaal as pyu\n",
    "\n",
    "# You MUST set the verifyta path firstly!\n",
    "pyu.set_verifyta_path(VERIFYTA_PATH)\n",
    "\n",
    "# v = pyu.Verifyta()\n",
    "# model path and trace path\n",
    "p1_model_path = 'verifyta_demo2.xml'\n",
    "p1_trace_path = 'verifyta_demo2_trace-1.xtr'\n",
    "\n",
    "# load timed trace -> SimTrace，读取一个xtr文件，生成一个SimTrace类的实例\n",
    "simtracer = pyu.get_timed_trace(p1_model_path, p1_trace_path)\n",
    "print(simtracer)"
   ]
  },
  {
   "cell_type": "code",
   "execution_count": 6,
   "metadata": {},
   "outputs": [
    {
     "data": {
      "text/plain": [
       "(['E<> Monitor0.pass'],\n",
       " ['input_ball',\n",
       "  'input_ball',\n",
       "  'hidden_path1',\n",
       "  'hidden_path3',\n",
       "  'exit1',\n",
       "  'input_ball',\n",
       "  'input_ball',\n",
       "  'hidden_path1',\n",
       "  'hidden_path4',\n",
       "  'exit2'])"
      ]
     },
     "execution_count": 6,
     "metadata": {},
     "output_type": "execute_result"
    }
   ],
   "source": [
    "# pipeNet_example\n",
    "model_path = 'pyuppaal_demo_PipeNet.xml'\n",
    "umod = pyu.UModel(model_path=model_path)\n",
    "# {action1: [occur_time1, occur_time2]}\n",
    "inputs = pyu.TimedActions(actions=['input_ball', 'input_ball'], lb=[0, 1000], ub=[0,1000])\n",
    "observations = pyu.TimedActions(actions=['exit1', 'exit2'], lb=[500, 1550], ub=[500, 1550])\n",
    "hidden_actions = ['hidden_path1', 'hidden_path2', 'hidden_path3', 'hidden_path4', 'hidden_path5', 'hidden_path6']\n",
    "input_actions = ['input_ball']\n",
    "observe_actions = ['exit1','exit2','exit3']\n",
    "focused_actions = list(set(hidden_actions+input_actions+observe_actions))\n",
    "umod.find_a_pattern(inputs, observations, observe_actions=observe_actions, focused_actions=None, hold=False)"
   ]
  },
  {
   "cell_type": "code",
   "execution_count": 7,
   "metadata": {},
   "outputs": [
    {
     "data": {
      "text/plain": [
       "[(['E<> Monitor0.pass'],\n",
       "  ['input_ball',\n",
       "   'input_ball',\n",
       "   'hidden_path1',\n",
       "   'hidden_path3',\n",
       "   'exit1',\n",
       "   'input_ball',\n",
       "   'input_ball',\n",
       "   'hidden_path1',\n",
       "   'hidden_path4',\n",
       "   'exit2']),\n",
       " ('E<> Monitor0.pass && !Monitor1.pass',\n",
       "  ['input_ball',\n",
       "   'input_ball',\n",
       "   'hidden_path1',\n",
       "   'hidden_path3',\n",
       "   'exit1',\n",
       "   'input_ball',\n",
       "   'input_ball',\n",
       "   'hidden_path2',\n",
       "   'hidden_path5',\n",
       "   'exit2'])]"
      ]
     },
     "execution_count": 7,
     "metadata": {},
     "output_type": "execute_result"
    }
   ],
   "source": [
    "umod.find_all_patterns(inputs, observations, observe_actions=observe_actions, hold=False, max_patterns = 2)"
   ]
  },
  {
   "cell_type": "code",
   "execution_count": 3,
   "metadata": {},
   "outputs": [
    {
     "ename": "ValueError",
     "evalue": "Verifyta path is not set. Please use \"Verifyta().set_verifyta_path(verifyta_path: str)\" to set the path of verifyta.",
     "output_type": "error",
     "traceback": [
      "\u001b[1;31m---------------------------------------------------------------------------\u001b[0m",
      "\u001b[1;31mValueError\u001b[0m                                Traceback (most recent call last)",
      "\u001b[1;32mc:\\Users\\22215\\OneDrive\\Coding\\Github\\pyuppaal\\src\\tests\\demo.ipynb Cell 11\u001b[0m in \u001b[0;36m<cell line: 12>\u001b[1;34m()\u001b[0m\n\u001b[0;32m     <a href='vscode-notebook-cell:/c%3A/Users/22215/OneDrive/Coding/Github/pyuppaal/src/tests/demo.ipynb#X13sZmlsZQ%3D%3D?line=9'>10</a>\u001b[0m observe_actions \u001b[39m=\u001b[39m [\u001b[39m'\u001b[39m\u001b[39mexit1\u001b[39m\u001b[39m'\u001b[39m,\u001b[39m'\u001b[39m\u001b[39mexit2\u001b[39m\u001b[39m'\u001b[39m,\u001b[39m'\u001b[39m\u001b[39mexit3\u001b[39m\u001b[39m'\u001b[39m]\n\u001b[0;32m     <a href='vscode-notebook-cell:/c%3A/Users/22215/OneDrive/Coding/Github/pyuppaal/src/tests/demo.ipynb#X13sZmlsZQ%3D%3D?line=10'>11</a>\u001b[0m focused_actions \u001b[39m=\u001b[39m \u001b[39mlist\u001b[39m(\u001b[39mset\u001b[39m(hidden_actions\u001b[39m+\u001b[39minput_actions\u001b[39m+\u001b[39mobserve_actions))\n\u001b[1;32m---> <a href='vscode-notebook-cell:/c%3A/Users/22215/OneDrive/Coding/Github/pyuppaal/src/tests/demo.ipynb#X13sZmlsZQ%3D%3D?line=11'>12</a>\u001b[0m pyu\u001b[39m.\u001b[39;49mfind_a_pattern(model_path, inputs, observations, observe_actions\u001b[39m=\u001b[39;49mobserve_actions, focused_actions\u001b[39m=\u001b[39;49m\u001b[39mNone\u001b[39;49;00m, hold\u001b[39m=\u001b[39;49m\u001b[39mFalse\u001b[39;49;00m)\n\u001b[0;32m     <a href='vscode-notebook-cell:/c%3A/Users/22215/OneDrive/Coding/Github/pyuppaal/src/tests/demo.ipynb#X13sZmlsZQ%3D%3D?line=12'>13</a>\u001b[0m pyu\u001b[39m.\u001b[39mfind_all_patterns(model_path,inputs, observations, observe_actions\u001b[39m=\u001b[39mobserve_actions, hold\u001b[39m=\u001b[39m\u001b[39mFalse\u001b[39;00m, max_patterns \u001b[39m=\u001b[39m \u001b[39m2\u001b[39m)\n",
      "File \u001b[1;32mc:\\Python310\\lib\\site-packages\\pyuppaal\\pyuppaal.py:116\u001b[0m, in \u001b[0;36mfind_a_pattern\u001b[1;34m(model_path, inputs, observes, observe_actions, focused_actions, hold, options)\u001b[0m\n\u001b[0;32m    105\u001b[0m \u001b[39m\"\"\"\u001b[39;00m\n\u001b[0;32m    106\u001b[0m \u001b[39m:param str model_path: path to the model file\u001b[39;00m\n\u001b[0;32m    107\u001b[0m \u001b[39m:param TimedActions inputs: TimedActions of input signal model\u001b[39;00m\n\u001b[1;32m   (...)\u001b[0m\n\u001b[0;32m    113\u001b[0m \u001b[39m:return: query, pattern_seq.actions @yhc SimTrace？\u001b[39;00m\n\u001b[0;32m    114\u001b[0m \u001b[39m\"\"\"\u001b[39;00m\n\u001b[0;32m    115\u001b[0m u \u001b[39m=\u001b[39m UModel(model_path)\n\u001b[1;32m--> 116\u001b[0m \u001b[39mreturn\u001b[39;00m u\u001b[39m.\u001b[39;49mfind_a_pattern(inputs, observes, observe_actions, focused_actions, hold, options)\n",
      "File \u001b[1;32mc:\\Python310\\lib\\site-packages\\pyuppaal\\umodel.py:390\u001b[0m, in \u001b[0;36mUModel.find_a_pattern\u001b[1;34m(self, inputs, observes, observe_actions, focused_actions, hold, options)\u001b[0m\n\u001b[0;32m    388\u001b[0m new_umodel\u001b[39m.\u001b[39msave()\n\u001b[0;32m    389\u001b[0m \u001b[39m# 获取第0个pattern\u001b[39;00m\n\u001b[1;32m--> 390\u001b[0m Verifyta()\u001b[39m.\u001b[39;49msimple_verify(new_model_path, options\u001b[39m=\u001b[39;49moptions)\n\u001b[0;32m    391\u001b[0m trace_path \u001b[39m=\u001b[39m os\u001b[39m.\u001b[39mpath\u001b[39m.\u001b[39msplitext(new_model_path)[\u001b[39m0\u001b[39m] \u001b[39m+\u001b[39m \u001b[39m'\u001b[39m\u001b[39m-1.xtr\u001b[39m\u001b[39m'\u001b[39m\n\u001b[0;32m    392\u001b[0m \u001b[39mif\u001b[39;00m \u001b[39mnot\u001b[39;00m os\u001b[39m.\u001b[39mpath\u001b[39m.\u001b[39mexists(trace_path):\n",
      "File \u001b[1;32mc:\\Python310\\lib\\site-packages\\pyuppaal\\verifyta.py:27\u001b[0m, in \u001b[0;36mcheck_is_verifyta_path_empty.<locals>.checker_wrapper\u001b[1;34m(*args, **kwargs)\u001b[0m\n\u001b[0;32m     25\u001b[0m error_info \u001b[39m=\u001b[39m \u001b[39m'\u001b[39m\u001b[39mVerifyta path is not set.\u001b[39m\u001b[39m'\u001b[39m\n\u001b[0;32m     26\u001b[0m error_info \u001b[39m+\u001b[39m\u001b[39m=\u001b[39m \u001b[39m'\u001b[39m\u001b[39m Please use \u001b[39m\u001b[39m\"\u001b[39m\u001b[39mVerifyta().set_verifyta_path(verifyta_path: str)\u001b[39m\u001b[39m\"\u001b[39m\u001b[39m to set the path of verifyta.\u001b[39m\u001b[39m'\u001b[39m\n\u001b[1;32m---> 27\u001b[0m \u001b[39mraise\u001b[39;00m \u001b[39mValueError\u001b[39;00m(error_info)\n",
      "\u001b[1;31mValueError\u001b[0m: Verifyta path is not set. Please use \"Verifyta().set_verifyta_path(verifyta_path: str)\" to set the path of verifyta."
     ]
    }
   ],
   "source": [
    "\"\"\"\n",
    "NEW VERSION without umodel\n",
    "\"\"\"\n",
    "\n",
    "model_path = 'pyuppaal_demo_PipeNet.xml'\n",
    "inputs = pyu.TimedActions(actions=['input_ball', 'input_ball'], lb=[0, 1000], ub=[0,1000])\n",
    "observations = pyu.TimedActions(actions=['exit1', 'exit2'], lb=[500, 1550], ub=[500, 1550])\n",
    "hidden_actions = ['hidden_path1', 'hidden_path2', 'hidden_path3', 'hidden_path4', 'hidden_path5', 'hidden_path6']\n",
    "input_actions = ['input_ball']\n",
    "observe_actions = ['exit1','exit2','exit3']\n",
    "focused_actions = list(set(hidden_actions+input_actions+observe_actions))\n",
    "pyu.find_a_pattern(model_path, inputs, observations, observe_actions=observe_actions, focused_actions=None, hold=False)\n",
    "pyu.find_all_patterns(model_path,inputs, observations, observe_actions=observe_actions, hold=False, max_patterns = 2)"
   ]
  },
  {
   "cell_type": "markdown",
   "metadata": {},
   "source": [
    "# 处理查询语句 find_all_patterns"
   ]
  },
  {
   "cell_type": "code",
   "execution_count": 8,
   "metadata": {},
   "outputs": [],
   "source": [
    "import pyuppaal as pyu\n",
    "from verifyta_path import * \n",
    "# from pyuppaal import Tracer\n",
    "# pyu.set_verifyta_path(r'D:/Softwares/uppaal64-4.1.25-5/bin-Windows/verifyta.exe')\n",
    "pyu.set_verifyta_path(VERIFYTA_PATH)\n",
    "\n"
   ]
  },
  {
   "cell_type": "code",
   "execution_count": 11,
   "metadata": {},
   "outputs": [
    {
     "data": {
      "text/plain": [
       "(['A[] not (LV1Pedestrian2.Crossing and Cars.Crossing)'],\n",
       " ['pWantCrss', 'pGreen', 'pCrss', 'cWantCrss', 'cGreen'])"
      ]
     },
     "execution_count": 11,
     "metadata": {},
     "output_type": "execute_result"
    }
   ],
   "source": [
    "model_path = 'Pedestrian.xml'\n",
    "umod = pyu.UModel(model_path=model_path)\n",
    "query = f'A[] not (LV1Pedestrian2.Crossing and Cars.Crossing)'\n",
    "umod.find_a_pattern_with_query(query=query, focused_actions=None, hold=True)"
   ]
  },
  {
   "cell_type": "code",
   "execution_count": 13,
   "metadata": {},
   "outputs": [
    {
     "data": {
      "text/plain": [
       "['pYellow',\n",
       " 'pGreen',\n",
       " 'cCheckLight',\n",
       " 'cRed',\n",
       " 'pCrss',\n",
       " 'cCrss',\n",
       " 'cYellow',\n",
       " 'pFinish',\n",
       " 'cGreen',\n",
       " 'pCheckLight',\n",
       " 'pRed']"
      ]
     },
     "execution_count": 13,
     "metadata": {},
     "output_type": "execute_result"
    }
   ],
   "source": [
    "# test get_broadcast_chan\n",
    "umod.get_broadcast_chan()"
   ]
  },
  {
   "cell_type": "markdown",
   "metadata": {},
   "source": [
    "# Find_all_patterns"
   ]
  },
  {
   "cell_type": "code",
   "execution_count": 1,
   "metadata": {},
   "outputs": [
    {
     "name": "stdout",
     "output_type": "stream",
     "text": [
      "=====================start now==================\n",
      "1\n",
      "[]\n"
     ]
    },
    {
     "data": {
      "text/plain": [
       "[(['E<> (PPedestrian.Crossing and PCar.Crossing)'], ['pGreen', 'pCrss'])]"
      ]
     },
     "execution_count": 1,
     "metadata": {},
     "output_type": "execute_result"
    }
   ],
   "source": [
    "import pyuppaal as pyu\n",
    "from verifyta_path import * \n",
    "# from pyuppaal import Tracer\n",
    "# pyu.set_verifyta_path(r'D:/Softwares/uppaal64-4.1.25-5/bin-Windows/verifyta.exe')\n",
    "pyu.set_verifyta_path(VERIFYTA_PATH)\n",
    "\n",
    "umod = pyu.UModel(model_path='Pedestrian.xml') # Set UPPAAL model path and creat an UModel instance.\n",
    "query = f'E<> (PPedestrian.Crossing and PCar.Crossing)' # property query\n",
    "focused_actions = [\"pCheckLight\", \"pGreen\", \"pRed\", \"pYellow\", \"pCrss\", \"cCrss\"] # focused actions\n",
    "umod.find_all_patterns_with_query(query=query, focused_actions=focused_actions, hold=True)"
   ]
  },
  {
   "cell_type": "code",
   "execution_count": 3,
   "metadata": {},
   "outputs": [
    {
     "name": "stdout",
     "output_type": "stream",
     "text": [
      "1\n",
      "[]\n"
     ]
    },
    {
     "data": {
      "text/plain": [
       "[(['E<> (PPedestrian.Crossing and PCar.Crossing)'], ['pGreen', 'pCrss'])]"
      ]
     },
     "execution_count": 3,
     "metadata": {},
     "output_type": "execute_result"
    }
   ],
   "source": [
    "\"\"\"\n",
    "NEW VERSION without umodel\n",
    "\"\"\"\n",
    "import pyuppaal as pyu\n",
    "\n",
    "pyu.set_verifyta_path(VERIFYTA_PATH)\n",
    "\n",
    "pyu.find_all_patterns_with_query('Pedestrian.xml',f'E<> (PPedestrian.Crossing and PCar.Crossing)', [\"pCheckLight\", \"pGreen\", \"pRed\", \"pYellow\", \"pCrss\", \"cCrss\"], hold=True)"
   ]
  },
  {
   "cell_type": "markdown",
   "metadata": {},
   "source": [
    "# Simple verification"
   ]
  },
  {
   "cell_type": "markdown",
   "metadata": {},
   "source": [
    "diagnostic:<0|1|2>   Generate diagnostic information on \n",
    "\n",
    "                        stderr.\n",
    "\n",
    "                        0: Some trace\n",
    "\n",
    "                        1: Shortest trace (disables reuse)\n",
    "\n",
    "                        2: Fastest trace (disables reuse)\n",
    "search-order:  <0|1|2|3|4>  Select search order.  Only 0 and 1 for\n",
    "                            \n",
    "                            TIGA properties.\n",
    "                            \n",
    "                            0: Breadth first (short-hand -b)\n",
    "                            \n",
    "                            1: Depth first (short-hand -d)\n",
    "                            \n",
    "                            2: Random depth first\n",
    "                            \n",
    "                            3: Optimal first (requires -t1 or -t2)\n",
    "                            \n",
    "                            4: Random optimal depth first\n",
    "                                       (requires -t1 or -t2)\n",
    "statespace-consumption: <0|1|2|3>   Optimize space consumption \n",
    "                                        \n",
    "                                    0 = none,\n",
    "                                    \n",
    "                                    1 = default\n",
    "                                    \n",
    "                                    2 = aggressive\n",
    "\n",
    "                                    3 = extreme"
   ]
  },
  {
   "cell_type": "code",
   "execution_count": 16,
   "metadata": {},
   "outputs": [],
   "source": [
    "diagnostic = ['Some trace', 'Shortest trace (disables reuse)', 'Fastest trace (disables reuse)']\n",
    "search_order = ['Breadth first (short-hand -b)', 'Depth first (short-hand -d)', 'Random depth first', 'Optimal first (requires -t1 or -t2)', 'Random optimal depth first (requires -t1 or -t2)']\n",
    "statespace_consumption = ['none', 'default', 'aggressive', 'extreme']"
   ]
  },
  {
   "cell_type": "code",
   "execution_count": 17,
   "metadata": {},
   "outputs": [
    {
     "name": "stdout",
     "output_type": "stream",
     "text": [
      "-------------------------------------\n",
      "['--diagnostic', '0', '--search-order', '0']\n",
      "diagnostic: 0-Some trace; search_order: 0-Breadth first (short-hand -b);\n",
      "('E<> (PPedestrian.Crossing and PCar.Crossing)', ['pCheckLight', 'pRed', 'pCrss', 'cCrss'])\n",
      "-------------------------------------\n",
      "['--diagnostic', '0', '--search-order', '1']\n",
      "diagnostic: 0-Some trace; search_order: 1-Depth first (short-hand -d);\n",
      "('E<> (PPedestrian.Crossing and PCar.Crossing)', ['cCrss', 'pCheckLight', 'pRed', 'pCrss'])\n",
      "-------------------------------------\n",
      "['--diagnostic', '0', '--search-order', '2']\n",
      "diagnostic: 0-Some trace; search_order: 2-Random depth first;\n",
      "('E<> (PPedestrian.Crossing and PCar.Crossing)', ['pCheckLight', 'pRed', 'pCrss', 'cCrss'])\n",
      "-------------------------------------\n",
      "['--diagnostic', '1', '--search-order', '0']\n",
      "diagnostic: 1-Shortest trace (disables reuse); search_order: 0-Breadth first (short-hand -b);\n",
      "('E<> (PPedestrian.Crossing and PCar.Crossing)', ['pCheckLight', 'pRed', 'pCrss', 'cCrss'])\n",
      "-------------------------------------\n",
      "['--diagnostic', '1', '--search-order', '1']\n",
      "diagnostic: 1-Shortest trace (disables reuse); search_order: 1-Depth first (short-hand -d);\n",
      "('E<> (PPedestrian.Crossing and PCar.Crossing)', ['cCrss', 'pCheckLight', 'pRed', 'pCrss'])\n",
      "-------------------------------------\n",
      "['--diagnostic', '1', '--search-order', '2']\n",
      "diagnostic: 1-Shortest trace (disables reuse); search_order: 2-Random depth first;\n",
      "('E<> (PPedestrian.Crossing and PCar.Crossing)', ['pCheckLight', 'pRed', 'pCrss', 'cCrss'])\n",
      "-------------------------------------\n",
      "['--diagnostic', '1', '--search-order', '3']\n",
      "diagnostic: 1-Shortest trace (disables reuse); search_order: 3-Optimal first (requires -t1 or -t2);\n",
      "('E<> (PPedestrian.Crossing and PCar.Crossing)', ['pCheckLight', 'pRed', 'pCrss', 'cCrss'])\n",
      "-------------------------------------\n",
      "['--diagnostic', '1', '--search-order', '4']\n",
      "diagnostic: 1-Shortest trace (disables reuse); search_order: 4-Random optimal depth first (requires -t1 or -t2);\n",
      "('E<> (PPedestrian.Crossing and PCar.Crossing)', ['pCheckLight', 'pRed', 'pCrss', 'cCrss'])\n",
      "-------------------------------------\n",
      "['--diagnostic', '2', '--search-order', '0']\n",
      "diagnostic: 2-Fastest trace (disables reuse); search_order: 0-Breadth first (short-hand -b);\n",
      "('E<> (PPedestrian.Crossing and PCar.Crossing)', ['pCheckLight', 'pRed', 'pCrss', 'cCrss'])\n",
      "-------------------------------------\n",
      "['--diagnostic', '2', '--search-order', '1']\n",
      "diagnostic: 2-Fastest trace (disables reuse); search_order: 1-Depth first (short-hand -d);\n",
      "('E<> (PPedestrian.Crossing and PCar.Crossing)', ['cCrss', 'pCheckLight', 'pRed', 'pCrss'])\n",
      "-------------------------------------\n",
      "['--diagnostic', '2', '--search-order', '2']\n",
      "diagnostic: 2-Fastest trace (disables reuse); search_order: 2-Random depth first;\n",
      "('E<> (PPedestrian.Crossing and PCar.Crossing)', ['pCheckLight', 'pRed', 'pCrss', 'cCrss'])\n",
      "-------------------------------------\n",
      "['--diagnostic', '2', '--search-order', '3']\n",
      "diagnostic: 2-Fastest trace (disables reuse); search_order: 3-Optimal first (requires -t1 or -t2);\n",
      "('E<> (PPedestrian.Crossing and PCar.Crossing)', ['pCheckLight', 'pRed', 'pCrss', 'cCrss'])\n",
      "-------------------------------------\n",
      "['--diagnostic', '2', '--search-order', '4']\n",
      "diagnostic: 2-Fastest trace (disables reuse); search_order: 4-Random optimal depth first (requires -t1 or -t2);\n",
      "('E<> (PPedestrian.Crossing and PCar.Crossing)', ['pCheckLight', 'pRed', 'pCrss', 'cCrss'])\n"
     ]
    }
   ],
   "source": [
    "for t in range(3):\n",
    "    for s in range(5):\n",
    "        if (s == 3 and t ==0) or (s == 4 and t == 0):\n",
    "                continue\n",
    "        options = [\"--diagnostic\", str(t), \"--search-order\", str(s)]\n",
    "        res = umod.find_a_pattern_with_query(query = query, focused_actions=focused_actions, options = options, hold =True)\n",
    "        print('-------------------------------------')\n",
    "        print(options)\n",
    "        print(f'diagnostic: {t}-{diagnostic[t]}; search_order: {s}-{search_order[s]};')\n",
    "        print(res)"
   ]
  },
  {
   "cell_type": "markdown",
   "metadata": {},
   "source": [
    "# 存在的问题(bugs)"
   ]
  },
  {
   "cell_type": "markdown",
   "metadata": {},
   "source": [
    "1. boardcast chan 需要设置在declarations里，如果设置在system里，会导致创建的monitor中的chan无法识别。\n",
    "2. add_system函数是简单的在system的末尾追加新的monitor名称，如果system的末尾是注释或其他则回出错"
   ]
  },
  {
   "cell_type": "code",
   "execution_count": 7,
   "metadata": {},
   "outputs": [
    {
     "name": "stdout",
     "output_type": "stream",
     "text": [
      "9\n",
      "9\n"
     ]
    }
   ],
   "source": [
    "class A:\n",
    "    def __init__(self, x = 6) -> None:\n",
    "        self.__a = x\n",
    "\n",
    "    def __test(self):\n",
    "        b = A(9)\n",
    "        print(b.__a)\n",
    "\n",
    "dir(A)\n",
    "a = A()\n",
    "a._A__test()\n",
    "a._A__a = 7\n",
    "a._A__test()\n"
   ]
  }
 ],
 "metadata": {
  "kernelspec": {
   "display_name": "Python 3.10.0 ('uppaal-controller')",
   "language": "python",
   "name": "python3"
  },
  "language_info": {
   "codemirror_mode": {
    "name": "ipython",
    "version": 3
   },
   "file_extension": ".py",
   "mimetype": "text/x-python",
   "name": "python",
   "nbconvert_exporter": "python",
   "pygments_lexer": "ipython3",
   "version": "3.10.0"
  },
  "orig_nbformat": 4,
  "vscode": {
   "interpreter": {
    "hash": "56566df51fada5dbe94783a4cf73a4d7ff5e19d113ce2a7b25aa204aee2829c7"
   }
  }
 },
 "nbformat": 4,
 "nbformat_minor": 2
}
