{
 "cells": [
  {
   "cell_type": "markdown",
   "metadata": {},
   "source": [
    "# Verifyta Demo"
   ]
  },
  {
   "cell_type": "code",
   "execution_count": 1,
   "metadata": {},
   "outputs": [],
   "source": [
    "import pyuppaal as pyu\n",
    "import os\n",
    "import time"
   ]
  },
  {
   "cell_type": "code",
   "execution_count": 2,
   "metadata": {},
   "outputs": [
    {
     "name": "stdout",
     "output_type": "stream",
     "text": [
      "[('set UPPAAL_COMPILE_ONLY=&&D:/Softwares/uppaal64-4.1.25-5/bin-Windows/verifyta.exe -t 1 -X verifyta_demo1_trace verifyta_demo1.xml', 'Options for the verification:\\n  Generating shortest trace\\n  Search order is breadth first\\n  Using conservative space optimisation\\n  Seed is 1661343343\\n  State space representation uses minimal constraint systems\\n\\x1b[2K\\nVerifying formula 1 at /nta/queries/query[1]/formula\\n\\x1b[2K -- Formula is NOT satisfied.\\nXMLTrace outputted to: verifyta_demo1_trace1.xml\\n')]\n",
      "[('set UPPAAL_COMPILE_ONLY=&&D:/Softwares/uppaal64-4.1.25-5/bin-Windows/verifyta.exe -t 1 -f verifyta_demo2_trace verifyta_demo2.xml', 'Options for the verification:\\n  Generating shortest trace\\n  Search order is breadth first\\n  Using conservative space optimisation\\n  Seed is 1661343343\\n  State space representation uses minimal constraint systems\\n\\x1b[2K\\nVerifying formula 1 at /nta/queries/query[1]/formula\\n\\x1b[2K -- Formula is NOT satisfied.\\n')]\n",
      "[('set UPPAAL_COMPILE_ONLY=&&D:/Softwares/uppaal64-4.1.25-5/bin-Windows/verifyta.exe -t 1 -X verifyta_demo1_trace verifyta_demo1.xml', 'Options for the verification:\\n  Generating shortest trace\\n  Search order is breadth first\\n  Using conservative space optimisation\\n  Seed is 1661343343\\n  State space representation uses minimal constraint systems\\n\\x1b[2K\\nVerifying formula 1 at /nta/queries/query[1]/formula\\n\\x1b[2K -- Formula is NOT satisfied.\\nXMLTrace outputted to: verifyta_demo1_trace1.xml\\n'), ('set UPPAAL_COMPILE_ONLY=&&D:/Softwares/uppaal64-4.1.25-5/bin-Windows/verifyta.exe -t 1 -f verifyta_demo2_trace verifyta_demo2.xml', 'Options for the verification:\\n  Generating shortest trace\\n  Search order is breadth first\\n  Using conservative space optimisation\\n  Seed is 1661343343\\n  State space representation uses minimal constraint systems\\n\\x1b[2K\\nVerifying formula 1 at /nta/queries/query[1]/formula\\n\\x1b[2K -- Formula is NOT satisfied.\\n'), ('set UPPAAL_COMPILE_ONLY=&&D:/Softwares/uppaal64-4.1.25-5/bin-Windows/verifyta.exe -t 1 -X verifyta_demo1_trace verifyta_demo1.xml', 'Options for the verification:\\n  Generating shortest trace\\n  Search order is breadth first\\n  Using conservative space optimisation\\n  Seed is 1661343343\\n  State space representation uses minimal constraint systems\\n\\x1b[2K\\nVerifying formula 1 at /nta/queries/query[1]/formula\\n\\x1b[2K -- Formula is NOT satisfied.\\nXMLTrace outputted to: verifyta_demo1_trace1.xml\\n'), ('set UPPAAL_COMPILE_ONLY=&&D:/Softwares/uppaal64-4.1.25-5/bin-Windows/verifyta.exe -t 1 -f verifyta_demo2_trace verifyta_demo2.xml', 'Options for the verification:\\n  Generating shortest trace\\n  Search order is breadth first\\n  Using conservative space optimisation\\n  Seed is 1661343343\\n  State space representation uses minimal constraint systems\\n\\x1b[2K\\nVerifying formula 1 at /nta/queries/query[1]/formula\\n\\x1b[2K -- Formula is NOT satisfied.\\n')]\n"
     ]
    }
   ],
   "source": [
    "# You MUST set the verifyta path firstly!\n",
    "pyu.set_verifyta_path(r'D:/Softwares/uppaal64-4.1.25-5/bin-Windows/verifyta.exe')\n",
    "# pyu.set_verifyta_path(r'/Users/chenguangyao/Downloads/uppaal64-4.1.26/bin-Darwin/verifyta')\n",
    "\n",
    "# 创建一个verifyta实例\n",
    "v = pyu.Verifyta()\n",
    "\n",
    "# verify P1 (verifyta_demo1.xml), save .xml file and print result\n",
    "p1_model_path = 'verifyta_demo1.xml'\n",
    "p1_trace_path = 'verifyta_demo1_trace.xml'\n",
    "res1 = v.simple_verify(model_path=p1_model_path, trace_path=p1_trace_path)\n",
    "print(res1)\n",
    "\n",
    "# verify P2 (verifyta_demo2.xml), save .xtr file and print result\n",
    "p2_model_path = 'verifyta_demo2.xml'\n",
    "p2_trace_path = 'verifyta_demo2_trace.xtr'\n",
    "res2 = v.simple_verify(model_path=p2_model_path, trace_path=p2_trace_path)\n",
    "print(res2)\n",
    "\n",
    "#  use mutithreads verify model list\n",
    "model_path_list = [p1_model_path, p2_model_path] * 2\n",
    "trace_path_list = [p1_trace_path, p2_trace_path] * 2\n",
    "res3 = v.simple_verify(model_path=model_path_list, trace_path=trace_path_list, parallel='threads')\n",
    "print(res3)\n"
   ]
  },
  {
   "cell_type": "code",
   "execution_count": 3,
   "metadata": {},
   "outputs": [
    {
     "name": "stdout",
     "output_type": "stream",
     "text": [
      "Verify with for loop, time usage 7.731590986251831\n",
      "Verify with multi-threads, time usage 2.2852656841278076\n",
      "Verify with multi-process, time usage 3.302170753479004\n"
     ]
    }
   ],
   "source": [
    "model_path_list = [p1_model_path, p2_model_path] * 100\n",
    "trace_path_list = [p1_trace_path, p2_trace_path] * 100\n",
    "# for loop\n",
    "t0 = time.time()\n",
    "for model, trace in zip(model_path_list, trace_path_list):\n",
    "    v.simple_verify(model_path=model, trace_path=trace)\n",
    "print(f'Verify with for loop, time usage {time.time() - t0}')\n",
    "\n",
    "# multi-threads\n",
    "t0 = time.time()\n",
    "v.simple_verify(model_path=model_path_list, trace_path=trace_path_list, parallel='threads')\n",
    "print(f'Verify with multi-threads, time usage {time.time() - t0}')\n",
    "\n",
    "# multi-process\n",
    "t0 = time.time()\n",
    "v.simple_verify(model_path=model_path_list, trace_path=trace_path_list, parallel='process')\n",
    "print(f'Verify with multi-process, time usage {time.time() - t0}')"
   ]
  },
  {
   "cell_type": "markdown",
   "metadata": {},
   "source": [
    "# Tracer Demo"
   ]
  },
  {
   "cell_type": "code",
   "execution_count": 4,
   "metadata": {},
   "outputs": [
    {
     "name": "stdout",
     "output_type": "stream",
     "text": [
      "State [0]: ['P2.A']\n",
      "global_variables [0]: []\n",
      "Clock_constraints [0]: [t(0) - P2.t ≤ 0; P2.t - t(0) ≤ 10; ]\n",
      "transitions [0]: None: P2.A -> P2.B\n",
      "-----------------------------------\n",
      "State [1]: ['P2.B']\n",
      "global_variables [1]: []\n",
      "Clock_constraints [1]: [t(0) - P2.t ≤ -10; P2.t - t(0) ≤ 10; ]\n",
      "transitions [1]: None: P2.B -> P2.C\n",
      "-----------------------------------\n",
      "State [2]: ['P2.C']\n",
      "global_variables [2]: []\n",
      "Clock_constraints [2]: [t(0) - P2.t ≤ -10; P2.t - t(0) ≤ 20; ]\n",
      "\n"
     ]
    }
   ],
   "source": [
    "import pyuppaal as pyu\n",
    "from pyuppaal import Tracer\n",
    "\n",
    "# You MUST set the verifyta path firstly!\n",
    "pyu.set_verifyta_path(r'D:/Softwares/uppaal64-4.1.25-5/bin-Windows/verifyta.exe')\n",
    "# pyu.set_verifyta_path(r'/Users/chenguangyao/Downloads/uppaal64-4.1.26/bin-Darwin/verifyta')\n",
    "\n",
    "# v = pyu.Verifyta()\n",
    "# model path and trace path\n",
    "p1_model_path = 'verifyta_demo2.xml'\n",
    "p1_trace_path = 'verifyta_demo2_trace-1.xtr'\n",
    "\n",
    "# load timed trace -> SimTrace，读取一个xtr文件，生成一个SimTrace类的实例\n",
    "simtracer = Tracer.get_timed_trace(p1_model_path, p1_trace_path,hold=True)\n",
    "print(simtracer)"
   ]
  },
  {
   "cell_type": "code",
   "execution_count": 2,
   "metadata": {},
   "outputs": [
    {
     "ename": "AttributeError",
     "evalue": "can't set attribute",
     "output_type": "error",
     "traceback": [
      "\u001b[1;31m---------------------------------------------------------------------------\u001b[0m",
      "\u001b[1;31mAttributeError\u001b[0m                            Traceback (most recent call last)",
      "\u001b[1;32md:\\OneDrive\\Programs\\pyuppaal-master\\pyuppaal\\src\\tests\\demo.ipynb Cell 7\u001b[0m in \u001b[0;36m<cell line: 11>\u001b[1;34m()\u001b[0m\n\u001b[0;32m      <a href='vscode-notebook-cell:/d%3A/OneDrive/Programs/pyuppaal-master/pyuppaal/src/tests/demo.ipynb#W6sZmlsZQ%3D%3D?line=8'>9</a>\u001b[0m observe_actions \u001b[39m=\u001b[39m [\u001b[39m'\u001b[39m\u001b[39mexit1\u001b[39m\u001b[39m'\u001b[39m,\u001b[39m'\u001b[39m\u001b[39mexit2\u001b[39m\u001b[39m'\u001b[39m,\u001b[39m'\u001b[39m\u001b[39mexit3\u001b[39m\u001b[39m'\u001b[39m]\n\u001b[0;32m     <a href='vscode-notebook-cell:/d%3A/OneDrive/Programs/pyuppaal-master/pyuppaal/src/tests/demo.ipynb#W6sZmlsZQ%3D%3D?line=9'>10</a>\u001b[0m focused_actions \u001b[39m=\u001b[39m \u001b[39mlist\u001b[39m(\u001b[39mset\u001b[39m(hidden_actions\u001b[39m+\u001b[39minput_actions\u001b[39m+\u001b[39mobserve_actions))\n\u001b[1;32m---> <a href='vscode-notebook-cell:/d%3A/OneDrive/Programs/pyuppaal-master/pyuppaal/src/tests/demo.ipynb#W6sZmlsZQ%3D%3D?line=10'>11</a>\u001b[0m umod\u001b[39m.\u001b[39;49mfind_a_pattern(inputs, observations, observe_actions\u001b[39m=\u001b[39;49mobserve_actions, focused_actions\u001b[39m=\u001b[39;49m\u001b[39mNone\u001b[39;49;00m, hold\u001b[39m=\u001b[39;49m\u001b[39mFalse\u001b[39;49;00m)\n",
      "File \u001b[1;32md:\\onedrive\\programs\\pyuppaal-master\\pyuppaal\\src\\pyuppaal\\umodel.py:321\u001b[0m, in \u001b[0;36mUModel.find_a_pattern\u001b[1;34m(self, inputs, observes, observe_actions, focused_actions, hold, options)\u001b[0m\n\u001b[0;32m    318\u001b[0m \u001b[39m# 设置路径\u001b[39;00m\n\u001b[0;32m    319\u001b[0m \u001b[39m# 新模型路径，不覆盖原模型\u001b[39;00m\n\u001b[0;32m    320\u001b[0m new_model_path \u001b[39m=\u001b[39m os\u001b[39m.\u001b[39mpath\u001b[39m.\u001b[39msplitext(\u001b[39mself\u001b[39m\u001b[39m.\u001b[39mmodel_path)[\u001b[39m0\u001b[39m] \u001b[39m+\u001b[39m \u001b[39m'\u001b[39m\u001b[39m_pattern.xml\u001b[39m\u001b[39m'\u001b[39m\n\u001b[1;32m--> 321\u001b[0m \u001b[39mself\u001b[39m\u001b[39m.\u001b[39mcopy_as(new_model_path\u001b[39m=\u001b[39mnew_model_path)\n\u001b[0;32m    322\u001b[0m new_umodel \u001b[39m=\u001b[39m UModel(new_model_path)\n\u001b[0;32m    323\u001b[0m \u001b[39m# 将要保存的path路径\u001b[39;00m\n\u001b[0;32m    324\u001b[0m \u001b[39m# trace_path = f\"{new_model_path.replace('.xml', '')}\"\u001b[39;00m\n",
      "File \u001b[1;32md:\\onedrive\\programs\\pyuppaal-master\\pyuppaal\\src\\pyuppaal\\umodel.py:61\u001b[0m, in \u001b[0;36mUModel.save_as\u001b[1;34m(self, new_model_path)\u001b[0m\n\u001b[0;32m     59\u001b[0m \u001b[39mwith\u001b[39;00m \u001b[39mopen\u001b[39m(new_model_path, \u001b[39m'\u001b[39m\u001b[39mw\u001b[39m\u001b[39m'\u001b[39m) \u001b[39mas\u001b[39;00m f:\n\u001b[0;32m     60\u001b[0m     \u001b[39mself\u001b[39m\u001b[39m.\u001b[39m__element_tree\u001b[39m.\u001b[39mwrite(new_model_path, encoding\u001b[39m=\u001b[39m\u001b[39m\"\u001b[39m\u001b[39mutf-8\u001b[39m\u001b[39m\"\u001b[39m, xml_declaration\u001b[39m=\u001b[39m\u001b[39mTrue\u001b[39;00m)\n\u001b[1;32m---> 61\u001b[0m \u001b[39mself\u001b[39m\u001b[39m.\u001b[39mmodel_path \u001b[39m=\u001b[39m new_model_path\n\u001b[0;32m     62\u001b[0m \u001b[39mreturn\u001b[39;00m UModel(new_model_path)\n",
      "\u001b[1;31mAttributeError\u001b[0m: can't set attribute"
     ]
    }
   ],
   "source": [
    "# pipeNet_example\n",
    "model_path = 'pyuppaal_demo_PipeNet.xml'\n",
    "umod = pyu.UModel(model_path=model_path)\n",
    "# {action1: [occur_time1, occur_time2]}\n",
    "inputs = pyu.TimedActions(actions=['input_ball', 'input_ball'], lb=[0, 1000], ub=[0,1000])\n",
    "observations = pyu.TimedActions(actions=['exit1', 'exit2'], lb=[500, 1550], ub=[500, 1550])\n",
    "hidden_actions = ['hidden_path1', 'hidden_path2', 'hidden_path3', 'hidden_path4', 'hidden_path5', 'hidden_path6']\n",
    "input_actions = ['input_ball']\n",
    "observe_actions = ['exit1','exit2','exit3']\n",
    "focused_actions = list(set(hidden_actions+input_actions+observe_actions))\n",
    "umod.find_a_pattern(inputs, observations, observe_actions=observe_actions, focused_actions=None, hold=False)"
   ]
  },
  {
   "cell_type": "code",
   "execution_count": null,
   "metadata": {},
   "outputs": [
    {
     "data": {
      "text/plain": [
       "[('E<> Monitor0.pass',\n",
       "  ['input_ball',\n",
       "   'hidden_path1',\n",
       "   'hidden_path3',\n",
       "   'exit1',\n",
       "   'input_ball',\n",
       "   'hidden_path1',\n",
       "   'hidden_path4',\n",
       "   'exit2']),\n",
       " ('E<> Monitor0.pass && !Monitor1.pass',\n",
       "  ['input_ball',\n",
       "   'hidden_path1',\n",
       "   'hidden_path3',\n",
       "   'exit1',\n",
       "   'input_ball',\n",
       "   'hidden_path2',\n",
       "   'hidden_path5',\n",
       "   'exit2'])]"
      ]
     },
     "execution_count": 11,
     "metadata": {},
     "output_type": "execute_result"
    }
   ],
   "source": [
    "umod.find_all_patterns(inputs, observations, observe_actions=observe_actions, hold=False, max_patterns = 2)"
   ]
  },
  {
   "cell_type": "markdown",
   "metadata": {},
   "source": [
    "# 处理查询语句 find_all_patterns"
   ]
  },
  {
   "cell_type": "code",
   "execution_count": null,
   "metadata": {},
   "outputs": [],
   "source": [
    "import pyuppaal as pyu\n",
    "# from pyuppaal import Tracer\n",
    "pyu.set_verifyta_path(r'D:/Softwares/uppaal64-4.1.25-5/bin-Windows/verifyta.exe')\n"
   ]
  },
  {
   "cell_type": "code",
   "execution_count": null,
   "metadata": {},
   "outputs": [
    {
     "data": {
      "text/plain": [
       "('A[] not (LV1Pedestrian2.Crossing and Cars.Crossing)',\n",
       " ['pCheckLight', 'pRed', 'cCheckLight', 'cGreen'])"
      ]
     },
     "execution_count": 3,
     "metadata": {},
     "output_type": "execute_result"
    }
   ],
   "source": [
    "model_path = 'Pedestrian_3.xml'\n",
    "umod = pyu.UModel(model_path=model_path)\n",
    "query = f'A[] not (LV1Pedestrian2.Crossing and Cars.Crossing)'\n",
    "umod.find_a_pattern_with_query(query=query, focused_actions=None, hold=True)"
   ]
  },
  {
   "cell_type": "code",
   "execution_count": null,
   "metadata": {},
   "outputs": [
    {
     "data": {
      "text/plain": [
       "['pRed',\n",
       " 'pFinish',\n",
       " 'cRed',\n",
       " 'pGreen',\n",
       " 'cGreen',\n",
       " 'cCheckLight',\n",
       " 'pCheckLight',\n",
       " 'pYellow',\n",
       " 'cYellow',\n",
       " 'cCrss',\n",
       " 'pCrss']"
      ]
     },
     "execution_count": 4,
     "metadata": {},
     "output_type": "execute_result"
    }
   ],
   "source": [
    "# test get_broadcast_chan\n",
    "umod.get_broadcast_chan()"
   ]
  },
  {
   "cell_type": "markdown",
   "metadata": {},
   "source": [
    "# Find_all_pattern"
   ]
  },
  {
   "cell_type": "code",
   "execution_count": null,
   "metadata": {},
   "outputs": [
    {
     "data": {
      "text/plain": [
       "[('E<> (PPedestrian.Crossing and PCar.Crossing)',\n",
       "  ['pCheckLight', 'pRed', 'pCrss', 'cCrss']),\n",
       " ('E<> (PPedestrian.Crossing and PCar.Crossing) && !Monitor1.pass',\n",
       "  ['cCrss', 'pCheckLight', 'pRed', 'pCrss']),\n",
       " ('E<> (PPedestrian.Crossing and PCar.Crossing) && !Monitor1.pass && !Monitor2.pass',\n",
       "  ['pCheckLight', 'pGreen', 'pCrss', 'cCrss']),\n",
       " ('E<> (PPedestrian.Crossing and PCar.Crossing) && !Monitor1.pass && !Monitor2.pass && !Monitor3.pass',\n",
       "  ['pCheckLight', 'pYellow', 'pCrss', 'cCrss'])]"
      ]
     },
     "execution_count": 4,
     "metadata": {},
     "output_type": "execute_result"
    }
   ],
   "source": [
    "import pyuppaal as pyu\n",
    "pyu.set_verifyta_path(r'D:/Softwares/uppaal64-4.1.25-5/bin-Windows/verifyta.exe')\n",
    "umod = pyu.UModel(model_path='Pedestrian_new.xml') # Set UPPAAL model path and creat an UModel instance.\n",
    "query = f'E<> (PPedestrian.Crossing and PCar.Crossing)' # property query\n",
    "focused_actions = [\"pCheckLight\", \"pGreen\", \"pRed\", \"pYellow\", \"pCrss\", \"cCrss\"] # focused actions\n",
    "umod.find_all_patterns_with_query(query=query, focused_actions=focused_actions, hold=True)"
   ]
  },
  {
   "cell_type": "markdown",
   "metadata": {},
   "source": [
    "# Simple verification"
   ]
  },
  {
   "cell_type": "markdown",
   "metadata": {},
   "source": [
    "diagnostic:<0|1|2>   Generate diagnostic information on \n",
    "\n",
    "                        stderr.\n",
    "\n",
    "                        0: Some trace\n",
    "\n",
    "                        1: Shortest trace (disables reuse)\n",
    "\n",
    "                        2: Fastest trace (disables reuse)\n",
    "search-order:  <0|1|2|3|4>  Select search order.  Only 0 and 1 for\n",
    "                            \n",
    "                            TIGA properties.\n",
    "                            \n",
    "                            0: Breadth first (short-hand -b)\n",
    "                            \n",
    "                            1: Depth first (short-hand -d)\n",
    "                            \n",
    "                            2: Random depth first\n",
    "                            \n",
    "                            3: Optimal first (requires -t1 or -t2)\n",
    "                            \n",
    "                            4: Random optimal depth first\n",
    "                                       (requires -t1 or -t2)\n",
    "statespace-consumption: <0|1|2|3>   Optimize space consumption \n",
    "                                        \n",
    "                                    0 = none,\n",
    "                                    \n",
    "                                    1 = default\n",
    "                                    \n",
    "                                    2 = aggressive\n",
    "\n",
    "                                    3 = extreme"
   ]
  },
  {
   "cell_type": "code",
   "execution_count": null,
   "metadata": {},
   "outputs": [],
   "source": [
    "diagnostic = ['Some trace', 'Shortest trace (disables reuse)', 'Fastest trace (disables reuse)']\n",
    "search_order = ['Breadth first (short-hand -b)', 'Depth first (short-hand -d)', 'Random depth first', 'Optimal first (requires -t1 or -t2)', 'Random optimal depth first (requires -t1 or -t2)']\n",
    "statespace_consumption = ['none', 'default', 'aggressive', 'extreme']"
   ]
  },
  {
   "cell_type": "code",
   "execution_count": null,
   "metadata": {},
   "outputs": [
    {
     "name": "stdout",
     "output_type": "stream",
     "text": [
      "-------------------------------------\n",
      "['--diagnostic', '0', '--search-order', '0']\n",
      "diagnostic: 0-Some trace; search_order: 0-Breadth first (short-hand -b);\n",
      "('A[] not (PPedestrian.Crossing and PCar.Crossing)', ['pCheckLight', 'pRed', 'cGreen'])\n",
      "-------------------------------------\n",
      "['--diagnostic', '0', '--search-order', '1']\n",
      "diagnostic: 0-Some trace; search_order: 1-Depth first (short-hand -d);\n",
      "('A[] not (PPedestrian.Crossing and PCar.Crossing)', ['cGreen', 'pCheckLight', 'pRed'])\n",
      "-------------------------------------\n",
      "['--diagnostic', '0', '--search-order', '2']\n",
      "diagnostic: 0-Some trace; search_order: 2-Random depth first;\n",
      "('A[] not (PPedestrian.Crossing and PCar.Crossing)', ['pCheckLight', 'pYellow', 'cGreen'])\n",
      "-------------------------------------\n",
      "['--diagnostic', '1', '--search-order', '0']\n",
      "diagnostic: 1-Shortest trace (disables reuse); search_order: 0-Breadth first (short-hand -b);\n",
      "('A[] not (PPedestrian.Crossing and PCar.Crossing)', ['pCheckLight', 'pRed', 'cGreen'])\n",
      "-------------------------------------\n",
      "['--diagnostic', '1', '--search-order', '1']\n",
      "diagnostic: 1-Shortest trace (disables reuse); search_order: 1-Depth first (short-hand -d);\n",
      "('A[] not (PPedestrian.Crossing and PCar.Crossing)', ['cGreen', 'pCheckLight', 'pRed'])\n",
      "-------------------------------------\n",
      "['--diagnostic', '1', '--search-order', '2']\n",
      "diagnostic: 1-Shortest trace (disables reuse); search_order: 2-Random depth first;\n",
      "('A[] not (PPedestrian.Crossing and PCar.Crossing)', ['cGreen', 'pCheckLight', 'pRed'])\n",
      "-------------------------------------\n",
      "['--diagnostic', '1', '--search-order', '3']\n",
      "diagnostic: 1-Shortest trace (disables reuse); search_order: 3-Optimal first (requires -t1 or -t2);\n",
      "('A[] not (PPedestrian.Crossing and PCar.Crossing)', ['cGreen', 'pCheckLight', 'pRed'])\n",
      "-------------------------------------\n",
      "['--diagnostic', '1', '--search-order', '4']\n",
      "diagnostic: 1-Shortest trace (disables reuse); search_order: 4-Random optimal depth first (requires -t1 or -t2);\n",
      "('A[] not (PPedestrian.Crossing and PCar.Crossing)', ['pCheckLight', 'pRed', 'cGreen'])\n",
      "-------------------------------------\n",
      "['--diagnostic', '2', '--search-order', '0']\n",
      "diagnostic: 2-Fastest trace (disables reuse); search_order: 0-Breadth first (short-hand -b);\n",
      "('A[] not (PPedestrian.Crossing and PCar.Crossing)', ['pCheckLight', 'pRed', 'cGreen'])\n",
      "-------------------------------------\n",
      "['--diagnostic', '2', '--search-order', '1']\n",
      "diagnostic: 2-Fastest trace (disables reuse); search_order: 1-Depth first (short-hand -d);\n",
      "('A[] not (PPedestrian.Crossing and PCar.Crossing)', ['cGreen', 'pCheckLight', 'pRed'])\n",
      "-------------------------------------\n",
      "['--diagnostic', '2', '--search-order', '2']\n",
      "diagnostic: 2-Fastest trace (disables reuse); search_order: 2-Random depth first;\n",
      "('A[] not (PPedestrian.Crossing and PCar.Crossing)', ['pCheckLight', 'pRed', 'cGreen'])\n",
      "-------------------------------------\n",
      "['--diagnostic', '2', '--search-order', '3']\n",
      "diagnostic: 2-Fastest trace (disables reuse); search_order: 3-Optimal first (requires -t1 or -t2);\n",
      "('A[] not (PPedestrian.Crossing and PCar.Crossing)', ['pCheckLight', 'pRed', 'cGreen'])\n",
      "-------------------------------------\n",
      "['--diagnostic', '2', '--search-order', '4']\n",
      "diagnostic: 2-Fastest trace (disables reuse); search_order: 4-Random optimal depth first (requires -t1 or -t2);\n",
      "('A[] not (PPedestrian.Crossing and PCar.Crossing)', ['pCheckLight', 'pRed', 'cGreen'])\n"
     ]
    }
   ],
   "source": [
    "for t in range(3):\n",
    "    for s in range(5):\n",
    "        if (s == 3 and t ==0) or (s == 4 and t == 0):\n",
    "                continue\n",
    "        options = [\"--diagnostic\", str(t), \"--search-order\", str(s)]\n",
    "        res = umod.find_a_pattern_with_query(query = query, focused_actions=focused_actions, options = options, hold =True)\n",
    "        print('-------------------------------------')\n",
    "        print(options)\n",
    "        print(f'diagnostic: {t}-{diagnostic[t]}; search_order: {s}-{search_order[s]};')\n",
    "        print(res)"
   ]
  },
  {
   "cell_type": "markdown",
   "metadata": {},
   "source": [
    "# 存在的问题(bugs)"
   ]
  },
  {
   "cell_type": "markdown",
   "metadata": {},
   "source": [
    "1. boardcast chan 需要设置在declarations里，如果设置在system里，会导致创建的monitor中的chan无法识别。\n",
    "2. add_system函数是简单的在system的末尾追加新的monitor名称，如果system的末尾是注释或其他则回出错"
   ]
  }
 ],
 "metadata": {
  "kernelspec": {
   "display_name": "Python 3.9.12 ('pyuppaal-ccc')",
   "language": "python",
   "name": "python3"
  },
  "language_info": {
   "codemirror_mode": {
    "name": "ipython",
    "version": 3
   },
   "file_extension": ".py",
   "mimetype": "text/x-python",
   "name": "python",
   "nbconvert_exporter": "python",
   "pygments_lexer": "ipython3",
   "version": "3.9.12"
  },
  "orig_nbformat": 4,
  "vscode": {
   "interpreter": {
    "hash": "1de20bac059050ace55b3e8d184db813263ef93dd310ceb6a093cea21a236f18"
   }
  }
 },
 "nbformat": 4,
 "nbformat_minor": 2
}
