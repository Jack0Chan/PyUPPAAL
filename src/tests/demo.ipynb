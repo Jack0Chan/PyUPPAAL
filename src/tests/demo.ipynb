{
 "cells": [
  {
   "cell_type": "markdown",
   "metadata": {},
   "source": [
    "# Verifyta Demo"
   ]
  },
  {
   "cell_type": "code",
   "execution_count": 3,
   "metadata": {},
   "outputs": [],
   "source": [
    "from pyuppaal import Verifyta\n",
    "import os\n",
    "import time"
   ]
  },
  {
   "cell_type": "code",
   "execution_count": 8,
   "metadata": {},
   "outputs": [
    {
     "name": "stdout",
     "output_type": "stream",
     "text": [
      "[('set UPPAAL_COMPILE_ONLY=&&D:/Softwares/uppaal64-4.1.25-5/bin-Windows/verifyta.exe -t 1 -X verifyta_demo1_trace verifyta_demo1.xml', 'Options for the verification:\\n  Generating shortest trace\\n  Search order is breadth first\\n  Using conservative space optimisation\\n  Seed is 1657985118\\n  State space representation uses minimal constraint systems\\n\\x1b[2K\\nVerifying formula 1 at /nta/queries/query[1]/formula\\n\\x1b[2K -- Formula is NOT satisfied.\\nXMLTrace outputted to: verifyta_demo1_trace1.xml\\n')]\n",
      "[('set UPPAAL_COMPILE_ONLY=&&D:/Softwares/uppaal64-4.1.25-5/bin-Windows/verifyta.exe -t 1 -f verifyta_demo2_trace verifyta_demo2.xml', 'Options for the verification:\\n  Generating shortest trace\\n  Search order is breadth first\\n  Using conservative space optimisation\\n  Seed is 1657985118\\n  State space representation uses minimal constraint systems\\n\\x1b[2K\\nVerifying formula 1 at /nta/queries/query[1]/formula\\n\\x1b[2K -- Formula is NOT satisfied.\\n')]\n",
      "[('set UPPAAL_COMPILE_ONLY=&&D:/Softwares/uppaal64-4.1.25-5/bin-Windows/verifyta.exe -t 1 -X verifyta_demo1_trace verifyta_demo1.xml', 'Options for the verification:\\n  Generating shortest trace\\n  Search order is breadth first\\n  Using conservative space optimisation\\n  Seed is 1657985119\\n  State space representation uses minimal constraint systems\\n\\x1b[2K\\nVerifying formula 1 at /nta/queries/query[1]/formula\\n\\x1b[2K -- Formula is NOT satisfied.\\nXMLTrace outputted to: verifyta_demo1_trace1.xml\\n'), ('set UPPAAL_COMPILE_ONLY=&&D:/Softwares/uppaal64-4.1.25-5/bin-Windows/verifyta.exe -t 1 -f verifyta_demo2_trace verifyta_demo2.xml', 'Options for the verification:\\n  Generating shortest trace\\n  Search order is breadth first\\n  Using conservative space optimisation\\n  Seed is 1657985119\\n  State space representation uses minimal constraint systems\\n\\x1b[2K\\nVerifying formula 1 at /nta/queries/query[1]/formula\\n\\x1b[2K -- Formula is NOT satisfied.\\n'), ('set UPPAAL_COMPILE_ONLY=&&D:/Softwares/uppaal64-4.1.25-5/bin-Windows/verifyta.exe -t 1 -X verifyta_demo1_trace verifyta_demo1.xml', 'Options for the verification:\\n  Generating shortest trace\\n  Search order is breadth first\\n  Using conservative space optimisation\\n  Seed is 1657985119\\n  State space representation uses minimal constraint systems\\n\\x1b[2K\\nVerifying formula 1 at /nta/queries/query[1]/formula\\n\\x1b[2K -- Formula is NOT satisfied.\\nXMLTrace outputted to: verifyta_demo1_trace1.xml\\n'), ('set UPPAAL_COMPILE_ONLY=&&D:/Softwares/uppaal64-4.1.25-5/bin-Windows/verifyta.exe -t 1 -f verifyta_demo2_trace verifyta_demo2.xml', 'Options for the verification:\\n  Generating shortest trace\\n  Search order is breadth first\\n  Using conservative space optimisation\\n  Seed is 1657985119\\n  State space representation uses minimal constraint systems\\n\\x1b[2K\\nVerifying formula 1 at /nta/queries/query[1]/formula\\n\\x1b[2K -- Formula is NOT satisfied.\\n')]\n"
     ]
    }
   ],
   "source": [
    "v = Verifyta()\n",
    "# You MUST set the verifyta path firstly!\n",
    "v.set_verifyta_path(r'D:/Softwares/uppaal64-4.1.25-5/bin-Windows/verifyta.exe')\n",
    "\n",
    "# verify P1 (verifyta_demo1.xml), save .xml file and print result\n",
    "p1_model_path = 'verifyta_demo1.xml'\n",
    "p1_trace_path = 'verifyta_demo1_trace.xml'\n",
    "res1 = v.simple_verify(model_path=p1_model_path, trace_path=p1_trace_path)\n",
    "print(res1)\n",
    "\n",
    "# verify P2 (verifyta_demo2.xml), save .xtr file and print result\n",
    "p2_model_path = 'verifyta_demo2.xml'\n",
    "p2_trace_path = 'verifyta_demo2_trace.xtr'\n",
    "res2 = v.simple_verify(model_path=p2_model_path, trace_path=p2_trace_path)\n",
    "print(res2)\n",
    "\n",
    "#  use mutithreads verify model list\n",
    "model_path_list = [p1_model_path, p2_model_path] * 2\n",
    "trace_path_list = [p1_trace_path, p2_trace_path] * 2\n",
    "res3 = v.simple_verify(model_path=model_path_list, trace_path=trace_path_list, parallel='threads')\n",
    "print(res3)\n"
   ]
  },
  {
   "cell_type": "code",
   "execution_count": 9,
   "metadata": {},
   "outputs": [
    {
     "name": "stdout",
     "output_type": "stream",
     "text": [
      "Verify with for loop, time usage 3.230355978012085\n",
      "Verify with multi-threads, time usage 1.2027826309204102\n",
      "Verify with multi-process, time usage 1.7692656517028809\n"
     ]
    }
   ],
   "source": [
    "model_path_list = [p1_model_path, p2_model_path] * 100\n",
    "trace_path_list = [p1_trace_path, p2_trace_path] * 100\n",
    "# for loop\n",
    "t0 = time.time()\n",
    "for model, trace in zip(model_path_list, trace_path_list):\n",
    "    v.simple_verify(model_path=model, trace_path=trace)\n",
    "print(f'Verify with for loop, time usage {time.time() - t0}')\n",
    "\n",
    "# multi-threads\n",
    "t0 = time.time()\n",
    "v.simple_verify(model_path=model_path_list, trace_path=trace_path_list, parallel='threads')\n",
    "print(f'Verify with multi-threads, time usage {time.time() - t0}')\n",
    "\n",
    "# multi-process\n",
    "t0 = time.time()\n",
    "v.simple_verify(model_path=model_path_list, trace_path=trace_path_list, parallel='process')\n",
    "print(f'Verify with multi-process, time usage {time.time() - t0}')"
   ]
  },
  {
   "cell_type": "markdown",
   "metadata": {},
   "source": [
    "# Tracer Demo"
   ]
  },
  {
   "cell_type": "code",
   "execution_count": null,
   "metadata": {},
   "outputs": [],
   "source": [
    "from pyuppaal import tracer"
   ]
  }
 ],
 "metadata": {
  "kernelspec": {
   "display_name": "Python 3.9.12 ('pyuppaal-dev')",
   "language": "python",
   "name": "python3"
  },
  "language_info": {
   "codemirror_mode": {
    "name": "ipython",
    "version": 3
   },
   "file_extension": ".py",
   "mimetype": "text/x-python",
   "name": "python",
   "nbconvert_exporter": "python",
   "pygments_lexer": "ipython3",
   "version": "3.9.12"
  },
  "orig_nbformat": 4,
  "vscode": {
   "interpreter": {
    "hash": "a4b7093dbd55b3c340acbdaa7386ef98afbe96552bac27ce3478d6f0dd02dd29"
   }
  }
 },
 "nbformat": 4,
 "nbformat_minor": 2
}
