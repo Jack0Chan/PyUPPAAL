{
 "cells": [
  {
   "cell_type": "markdown",
   "metadata": {},
   "source": [
    "# Verifyta Demo"
   ]
  },
  {
   "cell_type": "code",
   "execution_count": 4,
   "metadata": {},
   "outputs": [],
   "source": [
    "import os\n",
    "import sys\n",
    "sys.path.append('/Users/22215/OneDrive/Coding/PlayGround/Github/pyuppaal/src/pyuppaal')\n",
    "import time\n",
    "import pyuppaal as pyu"
   ]
  },
  {
   "cell_type": "code",
   "execution_count": null,
   "metadata": {},
   "outputs": [],
   "source": [
    "# You MUST set the verifyta path firstly!\n",
    "pyu.set_verifyta_path(r'C:/Users/22215/OneDrive/Software/UPPAAL/bin-Windows/verifyta.exe')\n",
    "\n",
    "# 创建一个verifyta实例\n",
    "v = pyu.Verifyta()\n",
    "\n",
    "# verify P1 (verifyta_demo1.xml), save .xml file and print result\n",
    "p1_model_path = 'verifyta_demo1.xml'\n",
    "p1_trace_path = 'verifyta_demo1_trace.xml'\n",
    "res1 = v.simple_verify(model_path=p1_model_path, trace_path=p1_trace_path)\n",
    "print(res1)\n",
    "\n",
    "# verify P2 (verifyta_demo2.xml), save .xtr file and print result\n",
    "p2_model_path = 'verifyta_demo2.xml'\n",
    "p2_trace_path = 'verifyta_demo2_trace.xtr'\n",
    "res2 = v.simple_verify(model_path=p2_model_path, trace_path=p2_trace_path)\n",
    "print(res2)\n",
    "\n",
    "#  use mutithreads verify model list\n",
    "model_path_list = [p1_model_path, p2_model_path] * 2\n",
    "trace_path_list = [p1_trace_path, p2_trace_path] * 2\n",
    "res3 = v.simple_verify(model_path=model_path_list, trace_path=trace_path_list, parallel='threads')\n",
    "print(res3)"
   ]
  },
  {
   "cell_type": "code",
   "execution_count": 1,
   "metadata": {},
   "outputs": [
    {
     "ename": "NameError",
     "evalue": "name 'p1_model_path' is not defined",
     "output_type": "error",
     "traceback": [
      "\u001b[1;31m---------------------------------------------------------------------------\u001b[0m",
      "\u001b[1;31mNameError\u001b[0m                                 Traceback (most recent call last)",
      "\u001b[1;32mc:\\Users\\22215\\OneDrive\\Coding\\PlayGround\\Github\\pyuppaal\\src\\tests\\demo.ipynb Cell 4\u001b[0m in \u001b[0;36m<cell line: 1>\u001b[1;34m()\u001b[0m\n\u001b[1;32m----> <a href='vscode-notebook-cell:/c%3A/Users/22215/OneDrive/Coding/PlayGround/Github/pyuppaal/src/tests/demo.ipynb#W3sZmlsZQ%3D%3D?line=0'>1</a>\u001b[0m model_path_list \u001b[39m=\u001b[39m [p1_model_path, p2_model_path] \u001b[39m*\u001b[39m \u001b[39m100\u001b[39m\n\u001b[0;32m      <a href='vscode-notebook-cell:/c%3A/Users/22215/OneDrive/Coding/PlayGround/Github/pyuppaal/src/tests/demo.ipynb#W3sZmlsZQ%3D%3D?line=1'>2</a>\u001b[0m trace_path_list \u001b[39m=\u001b[39m [p1_trace_path, p2_trace_path] \u001b[39m*\u001b[39m \u001b[39m100\u001b[39m\n\u001b[0;32m      <a href='vscode-notebook-cell:/c%3A/Users/22215/OneDrive/Coding/PlayGround/Github/pyuppaal/src/tests/demo.ipynb#W3sZmlsZQ%3D%3D?line=2'>3</a>\u001b[0m \u001b[39m# for loop\u001b[39;00m\n",
      "\u001b[1;31mNameError\u001b[0m: name 'p1_model_path' is not defined"
     ]
    }
   ],
   "source": [
    "model_path_list = [p1_model_path, p2_model_path] * 100\n",
    "trace_path_list = [p1_trace_path, p2_trace_path] * 100\n",
    "# for loop\n",
    "t0 = time.time()\n",
    "for model, trace in zip(model_path_list, trace_path_list):\n",
    "    v.simple_verify(model_path=model, trace_path=trace)\n",
    "print(f'Verify with for loop, time usage {time.time() - t0}')\n",
    "\n",
    "# multi-threads\n",
    "t0 = time.time()\n",
    "v.simple_verify(model_path=model_path_list, trace_path=trace_path_list, parallel='threads')\n",
    "print(f'Verify with multi-threads, time usage {time.time() - t0}')\n",
    "\n",
    "# multi-process\n",
    "t0 = time.time()\n",
    "v.simple_verify(model_path=model_path_list, trace_path=trace_path_list, parallel='process')\n",
    "print(f'Verify with multi-process, time usage {time.time() - t0}')"
   ]
  },
  {
   "cell_type": "markdown",
   "metadata": {},
   "source": [
    "# Tracer Demo"
   ]
  },
  {
   "cell_type": "code",
   "execution_count": null,
   "metadata": {},
   "outputs": [
    {
     "name": "stdout",
     "output_type": "stream",
     "text": [
      "State [0]: ['P2.A']\n",
      "global_variables [0]: []\n",
      "Clock_constraints [0]: [t(0) - P2.t ≤ 0; P2.t - t(0) ≤ 10; ]\n",
      "transitions [0]: None: P2.A -> P2.B\n",
      "-----------------------------------\n",
      "State [1]: ['P2.B']\n",
      "global_variables [1]: []\n",
      "Clock_constraints [1]: [t(0) - P2.t ≤ -10; P2.t - t(0) ≤ 10; ]\n",
      "transitions [1]: None: P2.B -> P2.C\n",
      "-----------------------------------\n",
      "State [2]: ['P2.C']\n",
      "global_variables [2]: []\n",
      "Clock_constraints [2]: [t(0) - P2.t ≤ -10; P2.t - t(0) ≤ 20; ]\n",
      "\n"
     ]
    }
   ],
   "source": [
    "import pyuppaal as pyu\n",
    "from pyuppaal import Tracer\n",
    "\n",
    "# You MUST set the verifyta path firstly!\n",
    "pyu.set_verifyta_path(r'D:/Softwares/uppaal64-4.1.25-5/bin-Windows/verifyta.exe')\n",
    "# pyu.set_verifyta_path(r'/Users/chenguangyao/Downloads/uppaal64-4.1.26/bin-Darwin/verifyta')\n",
    "\n",
    "# v = pyu.Verifyta()\n",
    "# model path and trace path\n",
    "p1_model_path = 'verifyta_demo2.xml'\n",
    "p1_trace_path = 'verifyta_demo2_trace-1.xtr'\n",
    "\n",
    "# load timed trace -> SimTrace，读取一个xtr文件，生成一个SimTrace类的实例\n",
    "simtracer = Tracer.get_timed_trace(p1_model_path, p1_trace_path,hold=True)\n",
    "print(simtracer)"
   ]
  },
  {
   "cell_type": "code",
   "execution_count": null,
   "metadata": {},
   "outputs": [
    {
     "data": {
      "text/plain": [
       "('E<> Monitor0.pass',\n",
       " ['input_ball',\n",
       "  'input_ball',\n",
       "  'hidden_path1',\n",
       "  'hidden_path3',\n",
       "  'exit1',\n",
       "  'input_ball',\n",
       "  'input_ball',\n",
       "  'hidden_path1',\n",
       "  'hidden_path4',\n",
       "  'exit2'])"
      ]
     },
     "execution_count": 4,
     "metadata": {},
     "output_type": "execute_result"
    }
   ],
   "source": [
    "# pipeNet_example\n",
    "model_path = 'pyuppaal_demo_PipeNet.xml'\n",
    "umod = pyu.UModel(model_path=model_path)\n",
    "# {action1: [occur_time1, occur_time2]}\n",
    "inputs = pyu.TimedActions(actions=['input_ball', 'input_ball'], lb=[0, 1000], ub=[0,1000])\n",
    "observations = pyu.TimedActions(actions=['exit1', 'exit2'], lb=[500, 1550], ub=[500, 1550])\n",
    "hidden_actions = ['hidden_path1', 'hidden_path2', 'hidden_path3', 'hidden_path4', 'hidden_path5', 'hidden_path6']\n",
    "input_actions = ['input_ball']\n",
    "observe_actions = ['exit1','exit2','exit3']\n",
    "focused_actions = list(set(hidden_actions+input_actions+observe_actions))\n",
    "umod.find_a_pattern(inputs, observations, observe_actions=observe_actions, focused_actions=None, hold=False)"
   ]
  },
  {
   "cell_type": "code",
   "execution_count": null,
   "metadata": {},
   "outputs": [
    {
     "data": {
      "text/plain": [
       "[('E<> Monitor0.pass',\n",
       "  ['input_ball',\n",
       "   'input_ball',\n",
       "   'hidden_path1',\n",
       "   'hidden_path3',\n",
       "   'exit1',\n",
       "   'input_ball',\n",
       "   'input_ball',\n",
       "   'hidden_path1',\n",
       "   'hidden_path4',\n",
       "   'exit2']),\n",
       " ('E<> Monitor0.pass && !Monitor1.pass',\n",
       "  ['input_ball',\n",
       "   'input_ball',\n",
       "   'hidden_path1',\n",
       "   'hidden_path3',\n",
       "   'exit1',\n",
       "   'input_ball',\n",
       "   'input_ball',\n",
       "   'hidden_path2',\n",
       "   'hidden_path5',\n",
       "   'exit2'])]"
      ]
     },
     "execution_count": 5,
     "metadata": {},
     "output_type": "execute_result"
    }
   ],
   "source": [
    "umod.find_all_patterns(inputs, observations, observe_actions=observe_actions, hold=False, max_patterns = 2)"
   ]
  },
  {
   "cell_type": "markdown",
   "metadata": {},
   "source": [
    "# 处理查询语句 find_all_patterns"
   ]
  },
  {
   "cell_type": "code",
   "execution_count": null,
   "metadata": {},
   "outputs": [],
   "source": [
    "import pyuppaal as pyu\n",
    "# from pyuppaal import Tracer\n",
    "pyu.set_verifyta_path(r'D:/Softwares/uppaal64-4.1.25-5/bin-Windows/verifyta.exe')\n"
   ]
  },
  {
   "cell_type": "code",
   "execution_count": null,
   "metadata": {},
   "outputs": [
    {
     "data": {
      "text/plain": [
       "('A[] not (LV1Pedestrian2.Crossing and Cars.Crossing)',\n",
       " ['pCheckLight', 'pRed', 'cCheckLight', 'cGreen'])"
      ]
     },
     "execution_count": 7,
     "metadata": {},
     "output_type": "execute_result"
    }
   ],
   "source": [
    "model_path = 'Pedestrian_3.xml'\n",
    "umod = pyu.UModel(model_path=model_path)\n",
    "query = f'A[] not (LV1Pedestrian2.Crossing and Cars.Crossing)'\n",
    "umod.find_a_pattern_with_query(query=query, focused_actions=None, hold=True)"
   ]
  },
  {
   "cell_type": "code",
   "execution_count": null,
   "metadata": {},
   "outputs": [
    {
     "data": {
      "text/plain": [
       "['cRed',\n",
       " 'cCheckLight',\n",
       " 'cYellow',\n",
       " 'pYellow',\n",
       " 'cCrss',\n",
       " 'pCheckLight',\n",
       " 'pGreen',\n",
       " 'pFinish',\n",
       " 'cGreen',\n",
       " 'pRed',\n",
       " 'pCrss']"
      ]
     },
     "execution_count": 8,
     "metadata": {},
     "output_type": "execute_result"
    }
   ],
   "source": [
    "# test get_broadcast_chan\n",
    "umod.get_broadcast_chan()"
   ]
  },
  {
   "cell_type": "markdown",
   "metadata": {},
   "source": [
    "# Find_all_pattern"
   ]
  },
  {
   "cell_type": "code",
   "execution_count": null,
   "metadata": {},
   "outputs": [
    {
     "data": {
      "text/plain": [
       "[('E<> (PPedestrian.Crossing and PCar.Crossing)',\n",
       "  ['pCheckLight', 'pRed', 'pCrss', 'cCrss']),\n",
       " ('E<> (PPedestrian.Crossing and PCar.Crossing) && !Monitor1.pass',\n",
       "  ['cCrss', 'pCheckLight', 'pRed', 'pCrss']),\n",
       " ('E<> (PPedestrian.Crossing and PCar.Crossing) && !Monitor1.pass && !Monitor2.pass',\n",
       "  ['pCheckLight', 'pGreen', 'pCrss', 'cCrss']),\n",
       " ('E<> (PPedestrian.Crossing and PCar.Crossing) && !Monitor1.pass && !Monitor2.pass && !Monitor3.pass',\n",
       "  ['pCheckLight', 'pYellow', 'pCrss', 'cCrss'])]"
      ]
     },
     "execution_count": 9,
     "metadata": {},
     "output_type": "execute_result"
    }
   ],
   "source": [
    "import pyuppaal as pyu\n",
    "pyu.set_verifyta_path(r'D:/Softwares/uppaal64-4.1.25-5/bin-Windows/verifyta.exe')\n",
    "umod = pyu.UModel(model_path='Pedestrian_new.xml') # Set UPPAAL model path and creat an UModel instance.\n",
    "query = f'E<> (PPedestrian.Crossing and PCar.Crossing)' # property query\n",
    "focused_actions = [\"pCheckLight\", \"pGreen\", \"pRed\", \"pYellow\", \"pCrss\", \"cCrss\"] # focused actions\n",
    "umod.find_all_patterns_with_query(query=query, focused_actions=focused_actions, hold=True)"
   ]
  },
  {
   "cell_type": "markdown",
   "metadata": {},
   "source": [
    "# Simple verification"
   ]
  },
  {
   "cell_type": "markdown",
   "metadata": {},
   "source": [
    "diagnostic:<0|1|2>   Generate diagnostic information on \n",
    "\n",
    "                        stderr.\n",
    "\n",
    "                        0: Some trace\n",
    "\n",
    "                        1: Shortest trace (disables reuse)\n",
    "\n",
    "                        2: Fastest trace (disables reuse)\n",
    "search-order:  <0|1|2|3|4>  Select search order.  Only 0 and 1 for\n",
    "                            \n",
    "                            TIGA properties.\n",
    "                            \n",
    "                            0: Breadth first (short-hand -b)\n",
    "                            \n",
    "                            1: Depth first (short-hand -d)\n",
    "                            \n",
    "                            2: Random depth first\n",
    "                            \n",
    "                            3: Optimal first (requires -t1 or -t2)\n",
    "                            \n",
    "                            4: Random optimal depth first\n",
    "                                       (requires -t1 or -t2)\n",
    "statespace-consumption: <0|1|2|3>   Optimize space consumption \n",
    "                                        \n",
    "                                    0 = none,\n",
    "                                    \n",
    "                                    1 = default\n",
    "                                    \n",
    "                                    2 = aggressive\n",
    "\n",
    "                                    3 = extreme"
   ]
  },
  {
   "cell_type": "code",
   "execution_count": null,
   "metadata": {},
   "outputs": [],
   "source": [
    "diagnostic = ['Some trace', 'Shortest trace (disables reuse)', 'Fastest trace (disables reuse)']\n",
    "search_order = ['Breadth first (short-hand -b)', 'Depth first (short-hand -d)', 'Random depth first', 'Optimal first (requires -t1 or -t2)', 'Random optimal depth first (requires -t1 or -t2)']\n",
    "statespace_consumption = ['none', 'default', 'aggressive', 'extreme']"
   ]
  },
  {
   "cell_type": "code",
   "execution_count": null,
   "metadata": {},
   "outputs": [
    {
     "name": "stdout",
     "output_type": "stream",
     "text": [
      "-------------------------------------\n",
      "['--diagnostic', '0', '--search-order', '0']\n",
      "diagnostic: 0-Some trace; search_order: 0-Breadth first (short-hand -b);\n",
      "('E<> (PPedestrian.Crossing and PCar.Crossing)', ['pCheckLight', 'pRed', 'pCrss', 'cCrss'])\n",
      "-------------------------------------\n",
      "['--diagnostic', '0', '--search-order', '1']\n",
      "diagnostic: 0-Some trace; search_order: 1-Depth first (short-hand -d);\n",
      "('E<> (PPedestrian.Crossing and PCar.Crossing)', ['cCrss', 'pCheckLight', 'pRed', 'pCrss'])\n",
      "-------------------------------------\n",
      "['--diagnostic', '0', '--search-order', '2']\n",
      "diagnostic: 0-Some trace; search_order: 2-Random depth first;\n",
      "('E<> (PPedestrian.Crossing and PCar.Crossing)', ['pCheckLight', 'pYellow', 'pCrss', 'cCrss'])\n",
      "-------------------------------------\n",
      "['--diagnostic', '1', '--search-order', '0']\n",
      "diagnostic: 1-Shortest trace (disables reuse); search_order: 0-Breadth first (short-hand -b);\n",
      "('E<> (PPedestrian.Crossing and PCar.Crossing)', ['pCheckLight', 'pRed', 'pCrss', 'cCrss'])\n",
      "-------------------------------------\n",
      "['--diagnostic', '1', '--search-order', '1']\n",
      "diagnostic: 1-Shortest trace (disables reuse); search_order: 1-Depth first (short-hand -d);\n",
      "('E<> (PPedestrian.Crossing and PCar.Crossing)', ['cCrss', 'pCheckLight', 'pRed', 'pCrss'])\n",
      "-------------------------------------\n",
      "['--diagnostic', '1', '--search-order', '2']\n",
      "diagnostic: 1-Shortest trace (disables reuse); search_order: 2-Random depth first;\n",
      "('E<> (PPedestrian.Crossing and PCar.Crossing)', ['pCheckLight', 'pRed', 'pCrss', 'cCrss'])\n",
      "-------------------------------------\n",
      "['--diagnostic', '1', '--search-order', '3']\n",
      "diagnostic: 1-Shortest trace (disables reuse); search_order: 3-Optimal first (requires -t1 or -t2);\n",
      "('E<> (PPedestrian.Crossing and PCar.Crossing)', ['pCheckLight', 'pRed', 'pCrss', 'cCrss'])\n",
      "-------------------------------------\n",
      "['--diagnostic', '1', '--search-order', '4']\n",
      "diagnostic: 1-Shortest trace (disables reuse); search_order: 4-Random optimal depth first (requires -t1 or -t2);\n",
      "('E<> (PPedestrian.Crossing and PCar.Crossing)', ['pCheckLight', 'pRed', 'pCrss', 'cCrss'])\n",
      "-------------------------------------\n",
      "['--diagnostic', '2', '--search-order', '0']\n",
      "diagnostic: 2-Fastest trace (disables reuse); search_order: 0-Breadth first (short-hand -b);\n",
      "('E<> (PPedestrian.Crossing and PCar.Crossing)', ['pCheckLight', 'pRed', 'pCrss', 'cCrss'])\n",
      "-------------------------------------\n",
      "['--diagnostic', '2', '--search-order', '1']\n",
      "diagnostic: 2-Fastest trace (disables reuse); search_order: 1-Depth first (short-hand -d);\n",
      "('E<> (PPedestrian.Crossing and PCar.Crossing)', ['cCrss', 'pCheckLight', 'pRed', 'pCrss'])\n",
      "-------------------------------------\n",
      "['--diagnostic', '2', '--search-order', '2']\n",
      "diagnostic: 2-Fastest trace (disables reuse); search_order: 2-Random depth first;\n",
      "('E<> (PPedestrian.Crossing and PCar.Crossing)', ['cCrss', 'pCheckLight', 'pRed', 'pCrss'])\n",
      "-------------------------------------\n",
      "['--diagnostic', '2', '--search-order', '3']\n",
      "diagnostic: 2-Fastest trace (disables reuse); search_order: 3-Optimal first (requires -t1 or -t2);\n",
      "('E<> (PPedestrian.Crossing and PCar.Crossing)', ['pCheckLight', 'pRed', 'pCrss', 'cCrss'])\n",
      "-------------------------------------\n",
      "['--diagnostic', '2', '--search-order', '4']\n",
      "diagnostic: 2-Fastest trace (disables reuse); search_order: 4-Random optimal depth first (requires -t1 or -t2);\n",
      "('E<> (PPedestrian.Crossing and PCar.Crossing)', ['pCheckLight', 'pRed', 'pCrss', 'cCrss'])\n"
     ]
    }
   ],
   "source": [
    "for t in range(3):\n",
    "    for s in range(5):\n",
    "        if (s == 3 and t ==0) or (s == 4 and t == 0):\n",
    "                continue\n",
    "        options = [\"--diagnostic\", str(t), \"--search-order\", str(s)]\n",
    "        res = umod.find_a_pattern_with_query(query = query, focused_actions=focused_actions, options = options, hold =True)\n",
    "        print('-------------------------------------')\n",
    "        print(options)\n",
    "        print(f'diagnostic: {t}-{diagnostic[t]}; search_order: {s}-{search_order[s]};')\n",
    "        print(res)"
   ]
  },
  {
   "cell_type": "markdown",
   "metadata": {},
   "source": [
    "# 存在的问题(bugs)"
   ]
  },
  {
   "cell_type": "markdown",
   "metadata": {},
   "source": [
    "1. boardcast chan 需要设置在declarations里，如果设置在system里，会导致创建的monitor中的chan无法识别。\n",
    "2. add_system函数是简单的在system的末尾追加新的monitor名称，如果system的末尾是注释或其他则回出错"
   ]
  }
 ],
 "metadata": {
  "kernelspec": {
   "display_name": "Python 3.10.6 64-bit",
   "language": "python",
   "name": "python3"
  },
  "language_info": {
   "codemirror_mode": {
    "name": "ipython",
    "version": 3
   },
   "file_extension": ".py",
   "mimetype": "text/x-python",
   "name": "python",
   "nbconvert_exporter": "python",
   "pygments_lexer": "ipython3",
   "version": "3.10.6"
  },
  "orig_nbformat": 4,
  "vscode": {
   "interpreter": {
    "hash": "369f2c481f4da34e4445cda3fffd2e751bd1c4d706f27375911949ba6bb62e1c"
   }
  }
 },
 "nbformat": 4,
 "nbformat_minor": 2
}
