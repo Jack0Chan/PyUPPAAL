{
 "cells": [
  {
   "cell_type": "markdown",
   "metadata": {},
   "source": [
    "# Mini Project - PipeNet\n",
    "\n",
    "We will use [pyuppaal_demo_PipeNet.xml](TBD) as an example to help understand how `pauppaal` can contribute to scientific research."
   ]
  },
  {
   "cell_type": "markdown",
   "metadata": {},
   "source": [
    "### 1. Problem Description\n",
    "\n",
    "There is a pipe-net that has invisible paths between the `Entry` and three different `Exits`. One day, two balls are put into the `Entry` at the global time (gclk) 0 and 1000, and are observed from `Exit1` and `Exit2` at the global time 500 and 1550. \n",
    "\n",
    "You want to know what happends to the balls -- all possible paths that can lead to such a input-observation."
   ]
  },
  {
   "cell_type": "markdown",
   "metadata": {},
   "source": [
    "### 2. Modeling the PipeNet\n",
    "\n",
    "We have modeled the PipeNet with UPPAAL, you can download via [this link].\n",
    "\n",
    "As shown in the figure below, the guard on the edge is the falling time for each path, e.g., if a ball goes through hidden_path1, it will take `T1_Min` to `T1_Max` seconds.\n",
    "\n",
    "<img src=https://raw.githubusercontent.com/Jack0Chan/pyuppaal/main/src/tests/figs/pipeNetModel.png width=550 />"
   ]
  },
  {
   "cell_type": "markdown",
   "metadata": {},
   "source": [
    "### 3. Load the Model and Set Inputs & Observations\n",
    "\n",
    "Now we will \n",
    "1. add an `Input` template that puts the balls into the `Entry` at `gclk==0` and `gclk==1000`.\n",
    "2. add an `Observet` template that indicates the observations from `Exit1` at `gclk==500`, and `Exit2` at `gclk==1550`.\n",
    "3. Get one possible pattern that simulates the inputs & observations.\n",
    "\n",
    "In pyuppaal, inputs & observations are described by `TimedActions`, which is a class with three lists:\n",
    "1. `actions: List[str]`, \n",
    "2. `lower bounds: List[int]`, suggesting the guard and \n",
    "3. `upper bounds: List[int]`, suggesting the invariant."
   ]
  },
  {
   "cell_type": "code",
   "execution_count": 1,
   "metadata": {},
   "outputs": [
    {
     "ename": "FileNotFoundError",
     "evalue": "[Errno 2] No such file or directory: 'demo_PipeNet.xml'",
     "output_type": "error",
     "traceback": [
      "\u001b[1;31m---------------------------------------------------------------------------\u001b[0m",
      "\u001b[1;31mFileNotFoundError\u001b[0m                         Traceback (most recent call last)",
      "\u001b[1;32mc:\\Users\\ccc\\Documents\\GitHub\\pyuppaal\\src\\tests\\Doc_MiniProject_PipeNet.ipynb Cell 5\u001b[0m in \u001b[0;36m<cell line: 7>\u001b[1;34m()\u001b[0m\n\u001b[0;32m      <a href='vscode-notebook-cell:/c%3A/Users/ccc/Documents/GitHub/pyuppaal/src/tests/Doc_MiniProject_PipeNet.ipynb#X10sZmlsZQ%3D%3D?line=3'>4</a>\u001b[0m pyu\u001b[39m.\u001b[39mset_verifyta_path(VERIFYTA_PATH)\n\u001b[0;32m      <a href='vscode-notebook-cell:/c%3A/Users/ccc/Documents/GitHub/pyuppaal/src/tests/Doc_MiniProject_PipeNet.ipynb#X10sZmlsZQ%3D%3D?line=5'>6</a>\u001b[0m \u001b[39m# Load the `xml` model\u001b[39;00m\n\u001b[1;32m----> <a href='vscode-notebook-cell:/c%3A/Users/ccc/Documents/GitHub/pyuppaal/src/tests/Doc_MiniProject_PipeNet.ipynb#X10sZmlsZQ%3D%3D?line=6'>7</a>\u001b[0m pipeNet \u001b[39m=\u001b[39m pyu\u001b[39m.\u001b[39;49mUModel(\u001b[39m\"\u001b[39;49m\u001b[39mdemo_PipeNet.xml\u001b[39;49m\u001b[39m\"\u001b[39;49m)\n\u001b[0;32m      <a href='vscode-notebook-cell:/c%3A/Users/ccc/Documents/GitHub/pyuppaal/src/tests/Doc_MiniProject_PipeNet.ipynb#X10sZmlsZQ%3D%3D?line=7'>8</a>\u001b[0m \u001b[39m# save as a new file in order not to overwrite current file\u001b[39;00m\n\u001b[0;32m      <a href='vscode-notebook-cell:/c%3A/Users/ccc/Documents/GitHub/pyuppaal/src/tests/Doc_MiniProject_PipeNet.ipynb#X10sZmlsZQ%3D%3D?line=8'>9</a>\u001b[0m pipeNet \u001b[39m=\u001b[39m pipeNet\u001b[39m.\u001b[39msave_as(\u001b[39m\"\u001b[39m\u001b[39mdemo_PipeNet_new.xml\u001b[39m\u001b[39m\"\u001b[39m)\n",
      "File \u001b[1;32mc:\\users\\ccc\\documents\\github\\pyuppaal\\src\\pyuppaal\\umodel.py:26\u001b[0m, in \u001b[0;36mUModel.__init__\u001b[1;34m(self, model_path, auto_save)\u001b[0m\n\u001b[0;32m     19\u001b[0m \u001b[39m\"\"\"_summary_\u001b[39;00m\n\u001b[0;32m     20\u001b[0m \n\u001b[0;32m     21\u001b[0m \u001b[39mArgs:\u001b[39;00m\n\u001b[0;32m     22\u001b[0m \u001b[39m    model_path (str): _description_\u001b[39;00m\n\u001b[0;32m     23\u001b[0m \u001b[39m    auto_save (bool, optional): whether auto save the model after each operation. Defaults to True.\u001b[39;00m\n\u001b[0;32m     24\u001b[0m \u001b[39m\"\"\"\u001b[39;00m\n\u001b[0;32m     25\u001b[0m \u001b[39mself\u001b[39m\u001b[39m.\u001b[39m__model_path: \u001b[39mstr\u001b[39m \u001b[39m=\u001b[39m model_path\n\u001b[1;32m---> 26\u001b[0m \u001b[39mself\u001b[39m\u001b[39m.\u001b[39m__element_tree: ET\u001b[39m.\u001b[39mElementTree \u001b[39m=\u001b[39m ET\u001b[39m.\u001b[39;49mElementTree(\n\u001b[0;32m     27\u001b[0m     file\u001b[39m=\u001b[39;49m\u001b[39mself\u001b[39;49m\u001b[39m.\u001b[39;49mmodel_path)\n\u001b[0;32m     28\u001b[0m \u001b[39mself\u001b[39m\u001b[39m.\u001b[39m__root_elem: ET\u001b[39m.\u001b[39mElement \u001b[39m=\u001b[39m \u001b[39mself\u001b[39m\u001b[39m.\u001b[39m__element_tree\u001b[39m.\u001b[39mgetroot()\n\u001b[0;32m     29\u001b[0m \u001b[39mself\u001b[39m\u001b[39m.\u001b[39mauto_save: \u001b[39mbool\u001b[39m \u001b[39m=\u001b[39m auto_save\n",
      "File \u001b[1;32mc:\\Users\\ccc\\anaconda3\\lib\\xml\\etree\\ElementTree.py:540\u001b[0m, in \u001b[0;36mElementTree.__init__\u001b[1;34m(self, element, file)\u001b[0m\n\u001b[0;32m    538\u001b[0m \u001b[39mself\u001b[39m\u001b[39m.\u001b[39m_root \u001b[39m=\u001b[39m element \u001b[39m# first node\u001b[39;00m\n\u001b[0;32m    539\u001b[0m \u001b[39mif\u001b[39;00m file:\n\u001b[1;32m--> 540\u001b[0m     \u001b[39mself\u001b[39;49m\u001b[39m.\u001b[39;49mparse(file)\n",
      "File \u001b[1;32mc:\\Users\\ccc\\anaconda3\\lib\\xml\\etree\\ElementTree.py:569\u001b[0m, in \u001b[0;36mElementTree.parse\u001b[1;34m(self, source, parser)\u001b[0m\n\u001b[0;32m    567\u001b[0m close_source \u001b[39m=\u001b[39m \u001b[39mFalse\u001b[39;00m\n\u001b[0;32m    568\u001b[0m \u001b[39mif\u001b[39;00m \u001b[39mnot\u001b[39;00m \u001b[39mhasattr\u001b[39m(source, \u001b[39m\"\u001b[39m\u001b[39mread\u001b[39m\u001b[39m\"\u001b[39m):\n\u001b[1;32m--> 569\u001b[0m     source \u001b[39m=\u001b[39m \u001b[39mopen\u001b[39;49m(source, \u001b[39m\"\u001b[39;49m\u001b[39mrb\u001b[39;49m\u001b[39m\"\u001b[39;49m)\n\u001b[0;32m    570\u001b[0m     close_source \u001b[39m=\u001b[39m \u001b[39mTrue\u001b[39;00m\n\u001b[0;32m    571\u001b[0m \u001b[39mtry\u001b[39;00m:\n",
      "\u001b[1;31mFileNotFoundError\u001b[0m: [Errno 2] No such file or directory: 'demo_PipeNet.xml'"
     ]
    }
   ],
   "source": [
    "import pyuppaal as pyu\n",
    "# set verifyta path\n",
    "VERIFYTA_PATH = \"uppaal\\\\Win_Linux-uppaal64-4.1.26\\\\bin-Windows\\\\verifyta.exe\"\n",
    "pyu.set_verifyta_path(VERIFYTA_PATH)\n",
    "\n",
    "# Load the `xml` model\n",
    "pipeNet = pyu.UModel(\"demo_PipeNet.xml\")\n",
    "# save as a new file in order not to overwrite current file\n",
    "pipeNet = pipeNet.save_as(\"demo_PipeNet_new.xml\")\n",
    "\n",
    "# Define the input.\n",
    "inputs = pyu.TimedActions(actions=['input_ball', 'input_ball'], lb=[0, 1000], ub=[0, 1000])\n",
    "# Define the observation.\n",
    "observations = pyu.TimedActions(actions=['exit1', 'exit2'], lb=[500, 1550], ub=[500, 1550])\n",
    "# Add input template.\n",
    "pipeNet.add_input_template(inputs)\n",
    "# Add observation template.\n",
    "pipeNet.add_observer_template(observations)\n",
    "\n",
    "# Query whether the model can simulate the inputs & observations\n",
    "pipeNet.set_queries('E<> Observer.pass')\n",
    "# Get one possible trace.\n",
    "trace = pipeNet.easy_verify()\n",
    "print(\"pattern:\", trace.untime_pattern)\n",
    "# Too long to show. Run it by yourself :)\n",
    "# print(\"trace:\", trace)"
   ]
  },
  {
   "cell_type": "markdown",
   "metadata": {},
   "source": [
    "The `Input` and `Observation` template created by `pyuppaal`. The cache file `*_pattern.xml` can be found in the same directory of the input model.\n",
    "<br><br>\n",
    "<img src=https://raw.githubusercontent.com/Jack0Chan/pyuppaal/main/src/tests/figs/pipeNetInput.png width=300 />\n",
    "<img src=https://raw.githubusercontent.com/Jack0Chan/pyuppaal/main/src/tests/figs/pipeNetObserver.png width=350 />\n",
    "<img src=https://raw.githubusercontent.com/Jack0Chan/pyuppaal/main/src/tests/figs/pipeNetModel.png width=350 />\n",
    "<br><br>\n",
    "In This example, we know the exact time of the inputs & observations, and thus `lower_bounds == upper_bounds`. If you are not sure about the exact time, or you just want to add uncertainty, e.g., the first ball goes from `Exit1` at gclk $\\in$ [490, 510], you can just set the lower bound to 490, and the upper bound to 510."
   ]
  },
  {
   "cell_type": "markdown",
   "metadata": {},
   "source": [
    "### 4. Visualize the Architecture\n",
    "\n",
    "You can visualize the architecture by getting the communication graph in [mermaid](https://mermaid.live/) format. "
   ]
  },
  {
   "cell_type": "code",
   "execution_count": 27,
   "metadata": {},
   "outputs": [
    {
     "name": "stdout",
     "output_type": "stream",
     "text": [
      "```mermaid\n",
      "graph TD\n",
      "PipeNet\n",
      "Input\n",
      "Observer```\n"
     ]
    }
   ],
   "source": [
    "# visualize via https://mermaid.live/\n",
    "cg = pipeNet.get_communication_graph(is_beautify=False)\n",
    "print(cg)"
   ]
  },
  {
   "attachments": {},
   "cell_type": "markdown",
   "metadata": {},
   "source": []
  },
  {
   "cell_type": "markdown",
   "metadata": {},
   "source": [
    "### 5. Find all patterns\n",
    "\n",
    "You can get all possible patterns by the following code, and all possible patterns are shown in the figure below. \n",
    "\n",
    "1. The first observation at `Exit1` is suggested by the red line. \n",
    "2. The second observation at `Exit2` is suggested by 2 the green and yellow line, meaning there are two possible patterns for this observation.\n",
    "   \n",
    "<img src=https://raw.githubusercontent.com/Jack0Chan/pyuppaal/main/src/tests/figs/pipeNetPatterns.png width=550 />"
   ]
  },
  {
   "cell_type": "code",
   "execution_count": 7,
   "metadata": {},
   "outputs": [
    {
     "name": "stdout",
     "output_type": "stream",
     "text": [
      "pattern1 ['input_ball', 'hidden_path1', 'hidden_path3', 'exit1', 'input_ball', 'hidden_path1', 'hidden_path4', 'exit2']\n",
      "pattern2 ['input_ball', 'hidden_path1', 'hidden_path3', 'exit1', 'input_ball', 'hidden_path2', 'hidden_path5', 'exit2']\n"
     ]
    }
   ],
   "source": [
    "# Find all possible traces.\n",
    "traces = pipeNet.find_all_patterns()\n",
    "# print patterns.\n",
    "for i, trace in enumerate(traces):\n",
    "    print(f'pattern{i+1}', trace.untime_pattern)"
   ]
  },
  {
   "cell_type": "markdown",
   "metadata": {},
   "source": [
    "While extracting all patterns, pyuppaal constructs Monitors based on historical patterns. The figure below shows one of the monitors constructed by pyuppaal. You can get more details from the cache file `*_pattern.xml` that is in the same directory of the input model.\n",
    "\n",
    "<img src=https://raw.githubusercontent.com/Jack0Chan/pyuppaal/main/src/tests/figs/pipeNetMonitor1.png width=100% />"
   ]
  },
  {
   "cell_type": "markdown",
   "metadata": {},
   "source": [
    "# Full Code"
   ]
  },
  {
   "cell_type": "code",
   "execution_count": 13,
   "metadata": {},
   "outputs": [
    {
     "name": "stdout",
     "output_type": "stream",
     "text": [
      "pattern: ['input_ball', 'hidden_path1', 'hidden_path3', 'exit1', 'input_ball', 'hidden_path1', 'hidden_path4', 'exit2']\n",
      "pattern1 ['input_ball', 'hidden_path1', 'hidden_path3', 'exit1', 'input_ball', 'hidden_path1', 'hidden_path4', 'exit2']\n",
      "pattern2 ['input_ball', 'hidden_path1', 'hidden_path3', 'exit1', 'input_ball', 'hidden_path2', 'hidden_path5', 'exit2']\n"
     ]
    }
   ],
   "source": [
    "import pyuppaal as pyu\n",
    "# set verifyta path\n",
    "VERIFYTA_PATH = \"uppaal\\\\Win_Linux-uppaal64-4.1.26\\\\bin-Windows\\\\verifyta.exe\"\n",
    "pyu.set_verifyta_path(VERIFYTA_PATH)\n",
    "\n",
    "# Load the `xml` model\n",
    "pipeNet = pyu.UModel(\"demo_PipeNet.xml\")\n",
    "# save as a new file in order not to overwrite current file\n",
    "pipeNet = pipeNet.save_as(\"demo_PipeNet_new.xml\")\n",
    "\n",
    "# Define the input.\n",
    "inputs = pyu.TimedActions(actions=['input_ball', 'input_ball'], lb=[0, 1000], ub=[0, 1000])\n",
    "# Define the observation.\n",
    "observations = pyu.TimedActions(actions=['exit1', 'exit2'], lb=[500, 1550], ub=[500, 1550])\n",
    "# Add input template.\n",
    "pipeNet.add_input_template(inputs)\n",
    "# Add observation template.\n",
    "pipeNet.add_observer_template(observations)\n",
    "\n",
    "# Query whether the model can simulate the inputs & observations\n",
    "pipeNet.set_queries('E<> Observer.pass')\n",
    "# Get one possible trace.\n",
    "trace = pipeNet.easy_verify()\n",
    "print(\"pattern:\", trace.untime_pattern)\n",
    "# Too long to show. Run it by yourself :)\n",
    "# print(\"trace:\", trace)"
   ]
  }
 ],
 "metadata": {
  "kernelspec": {
   "display_name": "Python 3.9.12 ('base')",
   "language": "python",
   "name": "python3"
  },
  "language_info": {
   "codemirror_mode": {
    "name": "ipython",
    "version": 3
   },
   "file_extension": ".py",
   "mimetype": "text/x-python",
   "name": "python",
   "nbconvert_exporter": "python",
   "pygments_lexer": "ipython3",
   "version": "3.9.12"
  },
  "orig_nbformat": 4,
  "vscode": {
   "interpreter": {
    "hash": "cbab80897c756e21206e83b1602264f7bed4b229d7a86fb97552ee165cb35ec2"
   }
  }
 },
 "nbformat": 4,
 "nbformat_minor": 2
}
