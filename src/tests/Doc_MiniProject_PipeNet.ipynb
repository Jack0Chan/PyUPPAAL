{
 "cells": [
  {
   "cell_type": "markdown",
   "metadata": {},
   "source": [
    "# Mini Project\n",
    "\n",
    "`pyuppaal` can help you do most things that you can do with UPPAAL GUI. Basic coding flow is:\n",
    "\n",
    "1. load a .xml model, just like you open a model in UPPAAL GUI;\n",
    "2. set the queries, just like you edit the queries in UPPAAL GUI;\n",
    "3. verify all the queries, just like you click the \"Verify\" button in UPPAAL GUI.\n",
    "\n",
    "In addition to the above, you can also\n",
    "\n",
    "4. load a .xtr trace, and get the formatted structure;\n",
    "5. add templates, modify declaration and systems, etc.;\n",
    "6. find all patterns of the model with certain query.\n",
    "\n",
    "This mini project aims to help users understand the core functions and the work flow of `pyuppaal`.\n",
    "\n",
    "- [ReadTheDocs](https://pyuppaal.readthedocs.io/en/latest/index.html)\n",
    "- [Github](https://github.com/Jack0Chan/pyuppaal)"
   ]
  },
  {
   "cell_type": "markdown",
   "metadata": {},
   "source": [
    "\n",
    "## Installation\n",
    "\n",
    "`pip install pyuppaal`"
   ]
  },
  {
   "cell_type": "markdown",
   "metadata": {},
   "source": [
    "## Before Coding\n",
    "\n",
    "Remember to set the `verifyta_path` in your first line of code.\n",
    "\n",
    "```python\n",
    "\n",
    "pyuppaal.set_verifyta_path(\"your/path/to/verifyta.exe\")\n",
    "\n",
    "```"
   ]
  },
  {
   "cell_type": "markdown",
   "metadata": {},
   "source": [
    "## PipeNet - A simple example\n",
    "\n",
    "Pyuppaal is designed as a tool to solve partially observable systems and provide counter examples for safety properties. With this purpose, pyuppaal provides a simple interface to create and manipulate UPPAAL models. The following example shows how to create a simple model and how to check if a given property is satisfied.\n",
    "\n",
    "We will use [pyuppaal_demo_PipeNet.xml](TBD) as an example model in the following usage examples to help understand how `pyuppaal` works."
   ]
  },
  {
   "cell_type": "markdown",
   "metadata": {},
   "source": [
    "### 1. Problem Description\n",
    "\n",
    "There is a pipe-net that has invisible paths between the `Entry` and three different `Exits`. One day, two balls are put into the `Entry` at the global time (gclk) 0 and 1000, and are observed from `Exit1` and `Exit2` at the global time 500 and 1550. \n",
    "\n",
    "You want to know what happends to the balls -- all possible paths that can lead to such a input-observation."
   ]
  },
  {
   "cell_type": "markdown",
   "metadata": {},
   "source": [
    "### 2. Modeling the PipeNet\n",
    "\n",
    "We have modeled the PipeNet with UPPAAL, you can download via [this link].\n",
    "\n",
    "As shown in the figure below, the guard on the edge is the falling time for each path, e.g., if a ball goes through hidden_path1, it will take `T1_Min` to `T1_Max` seconds.\n",
    "\n",
    "<img src=pipeNetModel.png width=550 />"
   ]
  },
  {
   "cell_type": "markdown",
   "metadata": {},
   "source": [
    "### 3. Load the Model and Set Inputs & Observations\n",
    "\n",
    "Now we will \n",
    "1. add an `Input` template that puts the balls into the `Entry` at `gclk==0` and `gclk==1000`.\n",
    "2. add an `Observet` template that indicates the observations from `Exit1` at `gclk==500`, and `Exit2` at `gclk==1550`.\n",
    "3. Get one possible pattern that simulates the inputs & observations.\n",
    "\n",
    "In pyuppaal, inputs & observations are described by `TimedActions`, which is a class with three lists:\n",
    "1. `actions: List[str]`, \n",
    "2. `lower bounds: List[int]`, suggesting the guard and \n",
    "3. `upper bounds: List[int]`, suggesting the invariant."
   ]
  },
  {
   "cell_type": "code",
   "execution_count": 25,
   "metadata": {},
   "outputs": [
    {
     "name": "stdout",
     "output_type": "stream",
     "text": [
      "pattern: ['input_ball', 'hidden_path1', 'hidden_path3', 'exit1', 'input_ball', 'hidden_path1', 'hidden_path4', 'exit2']\n"
     ]
    }
   ],
   "source": [
    "import pyuppaal as pyu\n",
    "# set verifyta path\n",
    "VERIFYTA_PATH = \"uppaal\\\\Win_Linux-uppaal64-4.1.26\\\\bin-Windows\\\\verifyta.exe\"\n",
    "pyu.set_verifyta_path(VERIFYTA_PATH)\n",
    "\n",
    "# Load the `xml` model\n",
    "pipeNet = pyu.UModel(\"demo_PipeNet.xml\")\n",
    "# save as a new file in order not to overwrite current file\n",
    "pipeNet = pipeNet.save_as(\"demo_PipeNet_new.xml\")\n",
    "\n",
    "# Define the input.\n",
    "inputs = pyu.TimedActions(actions=['input_ball', 'input_ball'], lb=[0, 1000], ub=[0, 1000])\n",
    "# Define the observation.\n",
    "observations = pyu.TimedActions(actions=['exit1', 'exit2'], lb=[500, 1550], ub=[500, 1550])\n",
    "# Add input template.\n",
    "pipeNet.add_input_template(inputs)\n",
    "# Add observation template.\n",
    "pipeNet.add_observer_template(observations)\n",
    "\n",
    "# Query whether the model can simulate the inputs & observations\n",
    "pipeNet.set_queries('E<> Observer.pass')\n",
    "# Get one possible trace.\n",
    "trace = pipeNet.easy_verify()\n",
    "print(\"pattern:\", trace.untime_pattern)\n",
    "# Too long to show. Run it by yourself :)\n",
    "# print(\"trace:\", trace)"
   ]
  },
  {
   "cell_type": "markdown",
   "metadata": {},
   "source": [
    "The `Input` and `Observation` template created by `pyuppaal`. The cache file `*_pattern.xml` can be found in the same directory of the input model.\n",
    "<br><br>\n",
    "<img src=pipeNetInput.png width=300 />\n",
    "<img src=pipeNetObserver.png width=350 />\n",
    "<br><br>\n",
    "In This example, we know the exact time of the inputs & observations, and thus `lower_bounds == upper_bounds`. If you are not sure about the exact time, or you just want to add uncertainty, e.g., the first ball goes from `Exit1` at gclk $\\in$ [490, 510], you can just set the lower bound to 490, and the upper bound to 510."
   ]
  },
  {
   "cell_type": "markdown",
   "metadata": {},
   "source": [
    "### 4. Visualize the Architecture\n",
    "\n",
    "You can visualize the architecture by getting the communication graph in [mermaid](https://mermaid.live/) format. "
   ]
  },
  {
   "cell_type": "code",
   "execution_count": 27,
   "metadata": {},
   "outputs": [
    {
     "name": "stdout",
     "output_type": "stream",
     "text": [
      "```mermaid\n",
      "graph TD\n",
      "PipeNet\n",
      "Input\n",
      "Observer```\n"
     ]
    }
   ],
   "source": [
    "# visualize via https://mermaid.live/\n",
    "cg = pipeNet.get_communication_graph(is_beautify=False)\n",
    "print(cg)"
   ]
  },
  {
   "attachments": {},
   "cell_type": "markdown",
   "metadata": {},
   "source": []
  },
  {
   "cell_type": "markdown",
   "metadata": {},
   "source": [
    "### 5. Find all patterns\n",
    "\n",
    "You can get all possible patterns by the following code, and all possible patterns are shown in the figure below. \n",
    "\n",
    "1. The first observation at `Exit1` is suggested by the red line. \n",
    "2. The second observation at `Exit2` is suggested by 2 the green and yellow line, meaning there are two possible patterns for this observation.\n",
    "   \n",
    "<img src=pipeNetPatterns.png width=550 />"
   ]
  },
  {
   "cell_type": "code",
   "execution_count": 7,
   "metadata": {},
   "outputs": [
    {
     "name": "stdout",
     "output_type": "stream",
     "text": [
      "pattern1 ['input_ball', 'hidden_path1', 'hidden_path3', 'exit1', 'input_ball', 'hidden_path1', 'hidden_path4', 'exit2']\n",
      "pattern2 ['input_ball', 'hidden_path1', 'hidden_path3', 'exit1', 'input_ball', 'hidden_path2', 'hidden_path5', 'exit2']\n"
     ]
    }
   ],
   "source": [
    "# Find all possible traces.\n",
    "traces = pipeNet.find_all_patterns()\n",
    "# print patterns.\n",
    "for i, trace in enumerate(traces):\n",
    "    print(f'pattern{i+1}', trace.untime_pattern)"
   ]
  },
  {
   "cell_type": "markdown",
   "metadata": {},
   "source": [
    "While extracting all patterns, pyuppaal constructs Monitors based on historical patterns. The figure below shows one of the monitors constructed by pyuppaal. You can get more details from the cache file `*_pattern.xml` that is in the same directory of the input model.\n",
    "\n",
    "<img src=pipeNetMonitor1.png width=100% />"
   ]
  },
  {
   "cell_type": "markdown",
   "metadata": {},
   "source": [
    "# Full Code"
   ]
  },
  {
   "cell_type": "code",
   "execution_count": 13,
   "metadata": {},
   "outputs": [
    {
     "name": "stdout",
     "output_type": "stream",
     "text": [
      "pattern: ['input_ball', 'hidden_path1', 'hidden_path3', 'exit1', 'input_ball', 'hidden_path1', 'hidden_path4', 'exit2']\n",
      "pattern1 ['input_ball', 'hidden_path1', 'hidden_path3', 'exit1', 'input_ball', 'hidden_path1', 'hidden_path4', 'exit2']\n",
      "pattern2 ['input_ball', 'hidden_path1', 'hidden_path3', 'exit1', 'input_ball', 'hidden_path2', 'hidden_path5', 'exit2']\n"
     ]
    }
   ],
   "source": [
    "import pyuppaal as pyu\n",
    "# set verifyta path\n",
    "VERIFYTA_PATH = \"uppaal\\\\Win_Linux-uppaal64-4.1.26\\\\bin-Windows\\\\verifyta.exe\"\n",
    "pyu.set_verifyta_path(VERIFYTA_PATH)\n",
    "\n",
    "# Load the `xml` model\n",
    "pipeNet = pyu.UModel(\"demo_PipeNet.xml\")\n",
    "# save as a new file in order not to overwrite current file\n",
    "pipeNet = pipeNet.save_as(\"demo_PipeNet_new.xml\")\n",
    "\n",
    "# Define the input.\n",
    "inputs = pyu.TimedActions(actions=['input_ball', 'input_ball'], lb=[0, 1000], ub=[0, 1000])\n",
    "# Define the observation.\n",
    "observations = pyu.TimedActions(actions=['exit1', 'exit2'], lb=[500, 1550], ub=[500, 1550])\n",
    "# Add input template.\n",
    "pipeNet.add_input_template(inputs)\n",
    "# Add observation template.\n",
    "pipeNet.add_observer_template(observations)\n",
    "\n",
    "# Query whether the model can simulate the inputs & observations\n",
    "pipeNet.set_queries('E<> Observer.pass')\n",
    "# Get one possible trace.\n",
    "trace = pipeNet.easy_verify()\n",
    "print(\"pattern:\", trace.untime_pattern)\n",
    "# Too long to show. Run it by yourself :)\n",
    "# print(\"trace:\", trace)"
   ]
  }
 ],
 "metadata": {
  "kernelspec": {
   "display_name": "Python 3.9.12 ('base')",
   "language": "python",
   "name": "python3"
  },
  "language_info": {
   "codemirror_mode": {
    "name": "ipython",
    "version": 3
   },
   "file_extension": ".py",
   "mimetype": "text/x-python",
   "name": "python",
   "nbconvert_exporter": "python",
   "pygments_lexer": "ipython3",
   "version": "3.9.12"
  },
  "orig_nbformat": 4,
  "vscode": {
   "interpreter": {
    "hash": "cbab80897c756e21206e83b1602264f7bed4b229d7a86fb97552ee165cb35ec2"
   }
  }
 },
 "nbformat": 4,
 "nbformat_minor": 2
}
