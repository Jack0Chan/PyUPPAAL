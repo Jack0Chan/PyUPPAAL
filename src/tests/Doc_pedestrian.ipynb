{
 "cells": [
  {
   "cell_type": "markdown",
   "metadata": {},
   "source": [
    "# Verifyta Demo"
   ]
  },
  {
   "cell_type": "code",
   "execution_count": 1,
   "metadata": {},
   "outputs": [],
   "source": [
    "import os\n",
    "import sys\n",
    "# sys.path.append('/Users/chenguangyao/Documents/GitHub/pyuppaal/src/')\n",
    "# sys.path.remove('/Users/chenguangyao/Documents/GitHub/pyuppaal/src/pyuppaal')\n",
    "import time\n",
    "import pyuppaal as pyu\n",
    "from verifyta_path import * "
   ]
  },
  {
   "cell_type": "markdown",
   "metadata": {},
   "source": [
    "# Verify\n",
    "\n",
    "Verify and return the cmd result."
   ]
  },
  {
   "cell_type": "code",
   "execution_count": 2,
   "metadata": {},
   "outputs": [
    {
     "name": "stdout",
     "output_type": "stream",
     "text": [
      "['Options for the verification:\\n  Generating shortest trace\\n  Search order is breadth first\\n  Using conservative space optimisation\\n  Seed is 1665485183\\n  State space representation uses minimal constraint systems\\n\\x1b[2K\\nVerifying formula 1 at /nta/queries/query[1]/formula\\n\\x1b[2K -- Formula is NOT satisfied.\\nXMLTrace outputted to: Pedestrian_trace1.xml\\n']\n"
     ]
    }
   ],
   "source": [
    "# You MUST set the verifyta path firstly!\n",
    "pyu.set_verifyta_path(VERIFYTA_PATH)\n",
    "\n",
    "# verify P1 (verifyta_demo1.xml), save .xml file and print result\n",
    "p1_model_path = 'Pedestrian.xml'\n",
    "p1_trace_path = 'Pedestrian_trace.xml'\n",
    "res1 = pyu.verify(model_path=p1_model_path, trace_path=p1_trace_path)\n",
    "print(res1)\n",
    "\n",
    "# you can also use UModel\n",
    "umod = pyu.UModel(model_path=p1_model_path)\n",
    "res2 = pyu.verify()\n",
    "assert res1 == res2"
   ]
  },
  {
   "cell_type": "markdown",
   "metadata": {},
   "source": [
    "# Easy verify\n",
    "\n",
    "easy verify and return the trace."
   ]
  },
  {
   "cell_type": "code",
   "execution_count": null,
   "metadata": {},
   "outputs": [],
   "source": [
    "# You MUST set the verifyta path firstly!\n",
    "pyu.set_verifyta_path(VERIFYTA_PATH)\n",
    "\n",
    "# verify P1 (verifyta_demo1.xml), save .xml file and print result\n",
    "p1_model_path = 'Pedestrian.xml'\n",
    "p1_trace_path = 'Pedestrian_trace.xml'\n",
    "res1 = pyu.easy_verify(model_path=p1_model_path, trace_path=p1_trace_path)\n",
    "print(res1)\n",
    "\n",
    "# you can also use UModel\n",
    "umod = pyu.UModel(model_path=p1_model_path)\n",
    "res2 = pyu.easy_verify()\n",
    "assert res1 == res2"
   ]
  },
  {
   "cell_type": "markdown",
   "metadata": {},
   "source": [
    "# Multi threads"
   ]
  },
  {
   "cell_type": "code",
   "execution_count": 3,
   "metadata": {},
   "outputs": [
    {
     "name": "stdout",
     "output_type": "stream",
     "text": [
      "Verify with for loop, time usage 7.117924690246582\n",
      "Verify with multi-threads, time usage 2.252810478210449\n"
     ]
    }
   ],
   "source": [
    "model_path_list = [p1_model_path] * 100\n",
    "trace_path_list = [p1_trace_path] * 100\n",
    "# for loop\n",
    "t0 = time.time()\n",
    "for model, trace in zip(model_path_list, trace_path_list):\n",
    "    pyu.easy_verify(model_path=model, trace_path=trace)\n",
    "print(f'Verify with for loop, time usage {time.time() - t0}')\n",
    "\n",
    "# multi-threads\n",
    "t0 = time.time()\n",
    "pyu.easy_verify(model_path=model_path_list, trace_path=trace_path_list, num_threads=5)\n",
    "print(f'Verify with multi-threads, time usage {time.time() - t0}')"
   ]
  },
  {
   "cell_type": "markdown",
   "metadata": {},
   "source": [
    "# Tracer Demo"
   ]
  },
  {
   "cell_type": "code",
   "execution_count": 4,
   "metadata": {},
   "outputs": [],
   "source": [
    "import pyuppaal as pyu\n",
    "from pyuppaal import Tracer"
   ]
  },
  {
   "cell_type": "code",
   "execution_count": 4,
   "metadata": {},
   "outputs": [],
   "source": [
    "# You MUST set the verifyta path firstly!\n",
    "pyu.set_verifyta_path(VERIFYTA_PATH)\n",
    "\n",
    "# v = pyu.Verifyta()\n",
    "# model path and trace path\n",
    "p1_model_path = 'verifyta_demo2.xml'\n",
    "p1_trace_path = 'verifyta_demo2_trace-1.xtr'\n",
    "\n",
    "# load timed trace -> SimTrace，读取一个xtr文件，生成一个SimTrace类的实例\n",
    "# simtracer = Tracer.get_timed_trace(p1_model_path, p1_trace_path)\n",
    "# print(simtracer)"
   ]
  },
  {
   "cell_type": "code",
   "execution_count": 5,
   "metadata": {},
   "outputs": [
    {
     "name": "stdout",
     "output_type": "stream",
     "text": [
      "['Options for the verification:\\n  Generating shortest trace\\n  Search order is breadth first\\n  Using conservative space optimisation\\n  Seed is 1665485207\\n  State space representation uses minimal constraint systems\\n\\x1b[2K\\nVerifying formula 1 at /nta/queries/query[1]/formula\\n\\x1b[2K -- Formula is NOT satisfied.\\nXMLTrace outputted to: Pedestrian_trace1.xml\\n']\n"
     ]
    }
   ],
   "source": [
    "import os\n",
    "import sys\n",
    "# sys.path.append('/Users/chenguangyao/Documents/GitHub/pyuppaal/src/')\n",
    "# sys.path.remove('/Users/chenguangyao/Documents/GitHub/pyuppaal/src/pyuppaal')\n",
    "import time\n",
    "import pyuppaal as pyu\n",
    "from verifyta_path import * \n",
    "\n",
    "# You MUST set the verifyta path firstly!\n",
    "pyu.set_verifyta_path(VERIFYTA_PATH)\n",
    "\n",
    "# verify P1 (verifyta_demo1.xml), save .xml file and print result\n",
    "p1_model_path = 'Pedestrian.xml'\n",
    "p1_trace_path = 'Pedestrian_trace.xml'\n",
    "res1 = pyu.easy_verify(model_path=p1_model_path, trace_path=p1_trace_path)\n",
    "print(res1)"
   ]
  },
  {
   "cell_type": "code",
   "execution_count": 8,
   "metadata": {},
   "outputs": [
    {
     "data": {
      "text/plain": [
       "[('E<> Monitor0.Obs2',\n",
       "  ['input_ball',\n",
       "   'hidden_path1',\n",
       "   'hidden_path3',\n",
       "   'exit1',\n",
       "   'input_ball',\n",
       "   'hidden_path1',\n",
       "   'hidden_path4',\n",
       "   'exit2']),\n",
       " ('E<> Monitor0.Obs2 && !Monitor1.pass',\n",
       "  ['input_ball',\n",
       "   'hidden_path1',\n",
       "   'hidden_path3',\n",
       "   'exit1',\n",
       "   'input_ball',\n",
       "   'hidden_path2',\n",
       "   'hidden_path5',\n",
       "   'exit2'])]"
      ]
     },
     "execution_count": 8,
     "metadata": {},
     "output_type": "execute_result"
    }
   ],
   "source": [
    "\n",
    "# pipeNet_example\n",
    "model_path = 'pyuppaal_demo_PipeNet.xml'\n",
    "umod = pyu.UModel(model_path=model_path)\n",
    "# {action1: [occur_time1, occur_time2]}\n",
    "inputs = pyu.TimedActions(actions=['input_ball', 'input_ball'], lb=['gclk>=0', 'gclk>=1000'], ub=[\"gclk<=0\", \"gclk<=1000\"])\n",
    "observations = pyu.TimedActions(actions=['exit1', 'exit2'], lb=['gclk>=500', 'gclk>=1550'], ub=[\"gclk<=500\", \"gclk<=1550\"])\n",
    "# hidden_actions = ['hidden_path1', 'hidden_path2', 'hidden_path3', 'hidden_path4', 'hidden_path5', 'hidden_path6']\n",
    "# input_actions = ['input_ball']\n",
    "observe_actions = ['exit1','exit2','exit3']\n",
    "# focused_actions = list(set(hidden_actions+input_actions+observe_actions))\n",
    "focused_actions = None # []\n",
    "base_query = 'E<> (LV1Pedestrian2.Crossing and Cars.Crossing)'\n",
    "# 找patterns时候，给一个选项，同时返回traces（detailed pattern）\n",
    "\n",
    "umod.add_input_template(inputs)\n",
    "umod.add_observer_template(observations)\n",
    "# umod.set_queries(base_query)\n",
    "\n",
    "umod.find_all_patterns(focused_actions=None, hold=True)\n",
    "# umod.find_a_pattern(inputs, observations, observe_actions=observe_actions, focused_actions=None,hold=True)\n",
    "\n",
    "# \"\"\"\n",
    "# 1. 处理focused_actions = []/None的情况，此时选取所有的action（不作过滤）\n",
    "# 2. (新函数，find_a_pattern_with_query)base_query，用户指定某一条语句（性质），没有input和obs，进行all pattern\n",
    "# 3. \n",
    "# E<> (Monitor0.pass and !Monitor1.pass) (通过时返回反例) \n",
    "\n",
    "# A[] (!Monitor0.pass or Monitor1.pass) (不通过时返回反例)\n",
    "\n",
    "# 下面A[] 后面的语句都不通过时，说明上面的E<> 后面的语句存在一个逆否通过\n",
    "# E[] 和 A<>先不考虑\n",
    "# 4. import的报错去掉\n",
    "# \"\"\""
   ]
  },
  {
   "cell_type": "code",
   "execution_count": 9,
   "metadata": {},
   "outputs": [
    {
     "name": "stdout",
     "output_type": "stream",
     "text": [
      "[('E<> Monitor0.Obs2', ['input_ball', 'hidden_path1', 'hidden_path3', 'exit1', 'input_ball', 'hidden_path1', 'hidden_path4', 'exit2']), ('E<> Monitor0.Obs2 && !Monitor1.pass', ['input_ball', 'hidden_path1', 'hidden_path3', 'exit1', 'input_ball', 'hidden_path2', 'hidden_path5', 'exit2'])]\n"
     ]
    }
   ],
   "source": [
    "print(umod.find_all_patterns(focused_actions=focused_actions, hold=True))"
   ]
  },
  {
   "cell_type": "code",
   "execution_count": null,
   "metadata": {},
   "outputs": [],
   "source": []
  }
 ],
 "metadata": {
  "kernelspec": {
   "display_name": "Python 3.9.15 64-bit",
   "language": "python",
   "name": "python3"
  },
  "language_info": {
   "codemirror_mode": {
    "name": "ipython",
    "version": 3
   },
   "file_extension": ".py",
   "mimetype": "text/x-python",
   "name": "python",
   "nbconvert_exporter": "python",
   "pygments_lexer": "ipython3",
   "version": "3.9.15"
  },
  "orig_nbformat": 4,
  "vscode": {
   "interpreter": {
    "hash": "a665b5d41d17b532ea9890333293a1b812fa0b73c9c25c950b3cedf1bebd0438"
   }
  }
 },
 "nbformat": 4,
 "nbformat_minor": 2
}
