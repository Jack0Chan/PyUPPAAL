{
 "cells": [
  {
   "cell_type": "markdown",
   "metadata": {},
   "source": [
    "# Introduction\n",
    "\n",
    "version1\n",
    "\n",
    "pyUPPAAL is a research tool that can simulate, verify and modify UPPAAL models with python. It can also help to analyze counter-examples in .xml format. Note that the implementations are based on verifyta and the built-in xml package.\n",
    "With this package, you can do\n",
    "\n",
    "1. run any UPPAAL commands with multi-process that is valid with verifyta.\n",
    "\n",
    "2. modify a .xml model, including templates, declarations, system declarations, and queries. It has a powerful method find_all_patterns that can get all different untimed traces that can explain current inputs-obs.\n",
    "\n",
    "3. analyze a counter-example file, and return input-observation-based analysis.\n",
    "\n",
    "4. analyze the *SMC* simulation results.\n",
    "\n",
    "\n",
    "================================================================\n",
    "\n",
    "version2\n",
    "\n",
    "`pyuppaal` can help you do most things that you can do with UPPAAL GUI. Basic coding flow is:\n",
    "\n",
    "1. load a .xml model, just like you open a model in UPPAAL GUI;\n",
    "2. set the queries, just like you edit the queries in UPPAAL GUI;\n",
    "3. verify all the queries, just like you click the \"Verify\" button in UPPAAL GUI.\n",
    "\n",
    "In addition to the above, you can also\n",
    "\n",
    "4. load a .xtr trace, and get the formatted structure;\n",
    "5. add templates, modify declaration and systems, etc.;\n",
    "6. find all patterns of the model with certain query.\n",
    "\n",
    "This mini project aims to help users understand the core functions and the work flow of `pyuppaal`.\n",
    "\n",
    "- [ReadTheDocs](https://pyuppaal.readthedocs.io/en/latest/index.html)\n",
    "- [Github](https://github.com/Jack0Chan/pyuppaal)\n",
    "\n",
    "We have provided \n",
    "\n",
    "1. a [Quickstart_link] section to help you get familiar with the basic usage of `pyuppaal`.\n",
    "\n",
    "2. a [MiniProject_link] section to help you get a inner sight of the core fuction and workflow of `pauppaal`."
   ]
  },
  {
   "cell_type": "markdown",
   "metadata": {},
   "source": [
    "# Quickstart\n",
    "\n",
    "## Installation\n",
    "To install `pyuppaal`, simply run this simple command:\n",
    "\n",
    "`pip install pyuppaal`\n",
    "\n",
    "## Before Coding\n",
    "\n",
    "Remember to set the `verifyta_path` in your first line of code.\n",
    "\n",
    "```python\n",
    "\n",
    "pyuppaal.set_verifyta_path(\"your/path/to/verifyta.exe\")\n",
    "\n",
    "```"
   ]
  },
  {
   "cell_type": "markdown",
   "metadata": {},
   "source": [
    "# brealine\n",
    "\n",
    "================================================\n",
    "\n",
    "================================================\n",
    "\n",
    "================================================\n",
    "\n",
    "Basic usage section and advance usage section."
   ]
  },
  {
   "cell_type": "code",
   "execution_count": null,
   "metadata": {},
   "outputs": [],
   "source": []
  },
  {
   "cell_type": "markdown",
   "metadata": {},
   "source": [
    "## Try some simple verification!\n",
    "\n",
    "Choose the model file you want to verify, as well as the path you want to save the result, you can complete a simple verifivation:"
   ]
  },
  {
   "cell_type": "code",
   "execution_count": 20,
   "metadata": {},
   "outputs": [
    {
     "name": "stdout",
     "output_type": "stream",
     "text": [
      "[('set UPPAAL_COMPILE_ONLY=&&C:/Users/22215/OneDrive/Software/UPPAAL/bin-Windows/verifyta.exe -t 1 -X C:\\\\Users\\\\22215\\\\OneDrive\\\\Coding\\\\Github\\\\pyuppaal\\\\src\\\\tests\\\\verifyta_demo1_trace C:\\\\Users\\\\22215\\\\OneDrive\\\\Coding\\\\Github\\\\pyuppaal\\\\src\\\\tests\\\\verifyta_demo1.xml', 'Options for the verification:\\n  Generating shortest trace\\n  Search order is breadth first\\n  Using conservative space optimisation\\n  Seed is 1662630868\\n  State space representation uses minimal constraint systems\\n\\x1b[2K\\nVerifying formula 1 at /nta/queries/query[1]/formula\\n\\x1b[2K -- Formula is NOT satisfied.\\nXMLTrace outputted to: C:\\\\Users\\\\22215\\\\OneDrive\\\\Coding\\\\Github\\\\pyuppaal\\\\src\\\\tests\\\\verifyta_demo1_trace1.xml\\n')]\n"
     ]
    }
   ],
   "source": [
    "import pyuppaal as pyu\n",
    "# set verifyta path\n",
    "pyu.set_verifyta_path(\"D:\\\\uppaal\\\\bin-Windows\\\\verifyta.exe\")\n",
    "\n",
    "# Two paths you choose\n",
    "p1_model_path = r'C:\\Users\\22215\\OneDrive\\Coding\\Github\\pyuppaal\\src\\tests\\verifyta_demo1.xml'\n",
    "p1_trace_path = r'C:\\Users\\22215\\OneDrive\\Coding\\Github\\pyuppaal\\src\\tests\\verifyta_demo1_trace.xml'\n",
    "# The result will be written in the target file, and the procedure information is saved in res1\n",
    "res1 = pyu.simple_verify(model_path=p1_model_path, trace_path=p1_trace_path)\n",
    "print(res1)"
   ]
  },
  {
   "cell_type": "markdown",
   "metadata": {},
   "source": [
    "## Verify a model, and get the trace\n",
    "\n",
    "You can also  get a timed trace with the same params:"
   ]
  },
  {
   "cell_type": "code",
   "execution_count": 21,
   "metadata": {},
   "outputs": [
    {
     "name": "stdout",
     "output_type": "stream",
     "text": [
      "State [0]: ['P2.A']\n",
      "global_variables [0]: []\n",
      "Clock_constraints [0]: [t(0) - P2.t ≤ 0; P2.t - t(0) ≤ 10; ]\n",
      "transitions [0]: None: P2.A -> P2.B\n",
      "-----------------------------------\n",
      "State [1]: ['P2.B']\n",
      "global_variables [1]: []\n",
      "Clock_constraints [1]: [t(0) - P2.t ≤ -10; P2.t - t(0) ≤ 10; ]\n",
      "transitions [1]: None: P2.B -> P2.C\n",
      "-----------------------------------\n",
      "State [2]: ['P2.C']\n",
      "global_variables [2]: []\n",
      "Clock_constraints [2]: [t(0) - P2.t ≤ -10; P2.t - t(0) ≤ 20; ]\n",
      "\n"
     ]
    }
   ],
   "source": [
    "p1_model_path =  r'C:\\Users\\22215\\OneDrive\\Coding\\Github\\pyuppaal\\src\\tests\\verifyta_demo2.xml'\n",
    "p1_trace_path =  r'C:\\Users\\22215\\OneDrive\\Coding\\Github\\pyuppaal\\src\\tests\\verifyta_demo2_trace-1.xtr'\n",
    "simtracer = pyu.get_timed_trace(p1_model_path, p1_trace_path,hold=True)\n",
    "print(simtracer)"
   ]
  },
  {
   "cell_type": "markdown",
   "metadata": {},
   "source": [
    "## Find a pattern\n",
    "\n",
    "You can quickly find a pattern with plentiful params, e.g., inputs, observations, actions:"
   ]
  },
  {
   "cell_type": "code",
   "execution_count": 22,
   "metadata": {},
   "outputs": [
    {
     "data": {
      "text/plain": [
       "('E<> Monitor0.pass',\n",
       " ['input_ball',\n",
       "  'input_ball',\n",
       "  'hidden_path1',\n",
       "  'hidden_path3',\n",
       "  'exit1',\n",
       "  'input_ball',\n",
       "  'input_ball',\n",
       "  'hidden_path1',\n",
       "  'hidden_path4',\n",
       "  'exit2'])"
      ]
     },
     "execution_count": 22,
     "metadata": {},
     "output_type": "execute_result"
    }
   ],
   "source": [
    "model_path = r'C:\\Users\\22215\\OneDrive\\Coding\\Lab\\pyuppaal\\src\\tests\\pyuppaal_demo_PipeNet.xml'\n",
    "# input at 0 and 1000\n",
    "inputs = pyu.TimedActions(actions=['input_ball', 'input_ball'], lb=[0, 1000], ub=[0,1000])\n",
    "# observe at 500 and 1550\n",
    "observations = pyu.TimedActions(actions=['exit1', 'exit2'], lb=[500, 1550], ub=[500, 1550])\n",
    "# concerned actions\n",
    "hidden_actions = ['hidden_path1', 'hidden_path2', 'hidden_path3', 'hidden_path4', 'hidden_path5', 'hidden_path6']\n",
    "input_actions = ['input_ball']\n",
    "observe_actions = ['exit1','exit2','exit3']\n",
    "focused_actions = list(set(hidden_actions+input_actions+observe_actions))\n",
    "# find a pattern\n",
    "pyu.find_a_pattern(model_path=model_path,inputs=inputs, observes=observations, observe_actions=observe_actions, focused_actions=None, hold=False)"
   ]
  },
  {
   "cell_type": "markdown",
   "metadata": {},
   "source": [
    "## Find all patterns\n",
    "\n",
    "You can also find all patterns:"
   ]
  },
  {
   "cell_type": "code",
   "execution_count": 23,
   "metadata": {},
   "outputs": [
    {
     "data": {
      "text/plain": [
       "[('E<> Monitor0.pass',\n",
       "  ['input_ball',\n",
       "   'input_ball',\n",
       "   'hidden_path1',\n",
       "   'hidden_path3',\n",
       "   'exit1',\n",
       "   'input_ball',\n",
       "   'input_ball',\n",
       "   'hidden_path1',\n",
       "   'hidden_path4',\n",
       "   'exit2']),\n",
       " ('E<> Monitor0.pass && !Monitor1.pass',\n",
       "  ['input_ball',\n",
       "   'input_ball',\n",
       "   'hidden_path1',\n",
       "   'hidden_path3',\n",
       "   'exit1',\n",
       "   'input_ball',\n",
       "   'input_ball',\n",
       "   'hidden_path2',\n",
       "   'hidden_path5',\n",
       "   'exit2'])]"
      ]
     },
     "execution_count": 23,
     "metadata": {},
     "output_type": "execute_result"
    }
   ],
   "source": [
    "pyu.find_all_patterns(model_path=model_path,inputs=inputs, observes=observations, observe_actions=observe_actions, hold=False, max_patterns = 2)"
   ]
  },
  {
   "cell_type": "markdown",
   "metadata": {},
   "source": [
    "## Generate communication graph\n",
    "\n",
    "You can easily generate your communication graph to plentiful type, e.g., `.md`, `.png`, `.svg` and `.pdf`:"
   ]
  },
  {
   "cell_type": "code",
   "execution_count": 24,
   "metadata": {},
   "outputs": [
    {
     "name": "stdout",
     "output_type": "stream",
     "text": [
      "Communication Graph has been created successfully, you can covert .md to .png/ .svg/ .pdf on https://mermaid.live/edit\n"
     ]
    }
   ],
   "source": [
    "model_path = r'C:\\Users\\22215\\OneDrive\\Coding\\Github\\pyuppaal\\src\\tests\\Pedestrian.xml'\n",
    "# just take .png as an example\n",
    "save_path = r'C:\\Users\\22215\\OneDrive\\Coding\\Github\\pyuppaal\\src\\tests\\Pedestrian.md'\n",
    "pyu.get_communication_graph(model_path,save_path)"
   ]
  }
 ],
 "metadata": {
  "kernelspec": {
   "display_name": "Python 3.9.15 64-bit",
   "language": "python",
   "name": "python3"
  },
  "language_info": {
   "codemirror_mode": {
    "name": "ipython",
    "version": 3
   },
   "file_extension": ".py",
   "mimetype": "text/x-python",
   "name": "python",
   "nbconvert_exporter": "python",
   "pygments_lexer": "ipython3",
   "version": "3.9.15"
  },
  "orig_nbformat": 4,
  "vscode": {
   "interpreter": {
    "hash": "a665b5d41d17b532ea9890333293a1b812fa0b73c9c25c950b3cedf1bebd0438"
   }
  }
 },
 "nbformat": 4,
 "nbformat_minor": 2
}
