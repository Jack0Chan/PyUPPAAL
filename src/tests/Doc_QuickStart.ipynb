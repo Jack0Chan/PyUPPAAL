{
 "cells": [
  {
   "cell_type": "markdown",
   "metadata": {},
   "source": [
    "# Introduction\n",
    "\n",
    "- [ReadTheDocs](https://pyuppaal.readthedocs.io/en/latest/index.html)\n",
    "- [Github](https://github.com/Jack0Chan/pyuppaal)\n",
    "\n",
    "`pyuppaal` is a research tool that helps you do most things that you can do with UPPAAL GUI. Basic coding flow is:\n",
    "\n",
    "1. load a .xml model, just like you open a model in UPPAAL GUI;\n",
    "2. set the query, just like you edit the queries in UPPAAL GUI;\n",
    "3. verify a model with the query and options (e.g., shortest path), just like you click the \"Verify\" button in UPPAAL GUI.\n",
    "\n",
    "In addition to the above, you can also\n",
    "\n",
    "- load a .xtr trace, and get the formatted trace data;\n",
    "- modify templates, declaration and systems;\n",
    "- add built-in templates such as Input, Observer, and Monitors; \n",
    "- find all patterns of the model with certain query.\n",
    "- [todo] analyze the *SMC* simulation results. \n",
    "\n",
    "We have also provided \n",
    "\n",
    "1. a [Quickstart_link] section to help you get familiar with the basic usage of `pyuppaal`.\n",
    "\n",
    "2. a [MiniProject_link] section to help you get a inner sight of the core fuction and workflow of `pauppaal`."
   ]
  },
  {
   "cell_type": "markdown",
   "metadata": {},
   "source": [
    "# Quickstart\n",
    "\n",
    "## Installation\n",
    "To install `pyuppaal`, simply run this simple command:\n",
    "\n",
    "`pip install pyuppaal`\n",
    "\n",
    "## Before Coding\n",
    "\n",
    "Remember to set the `verifyta_path` in your first line of code.\n",
    "\n",
    "```python\n",
    "\n",
    "pyuppaal.set_verifyta_path(\"your/path/to/verifyta.exe\")\n",
    "\n",
    "```"
   ]
  },
  {
   "cell_type": "markdown",
   "metadata": {},
   "source": [
    "\n",
    "## Verify a Model, and Get the Trace\n",
    "\n",
    "Lets take the following model P1 with query `A[] not deadlock` as the example. You can download this file via [this_link].\n",
    "\n",
    "<img src=demo.png width=250 />"
   ]
  },
  {
   "cell_type": "code",
   "execution_count": 20,
   "metadata": {},
   "outputs": [
    {
     "name": "stdout",
     "output_type": "stream",
     "text": [
      "[('set UPPAAL_COMPILE_ONLY=&&C:/Users/22215/OneDrive/Software/UPPAAL/bin-Windows/verifyta.exe -t 1 -X C:\\\\Users\\\\22215\\\\OneDrive\\\\Coding\\\\Github\\\\pyuppaal\\\\src\\\\tests\\\\verifyta_demo1_trace C:\\\\Users\\\\22215\\\\OneDrive\\\\Coding\\\\Github\\\\pyuppaal\\\\src\\\\tests\\\\verifyta_demo1.xml', 'Options for the verification:\\n  Generating shortest trace\\n  Search order is breadth first\\n  Using conservative space optimisation\\n  Seed is 1662630868\\n  State space representation uses minimal constraint systems\\n\\x1b[2K\\nVerifying formula 1 at /nta/queries/query[1]/formula\\n\\x1b[2K -- Formula is NOT satisfied.\\nXMLTrace outputted to: C:\\\\Users\\\\22215\\\\OneDrive\\\\Coding\\\\Github\\\\pyuppaal\\\\src\\\\tests\\\\verifyta_demo1_trace1.xml\\n')]\n"
     ]
    }
   ],
   "source": [
    "import pyuppaal as pyu\n",
    "\n",
    "# set verifyta path\n",
    "pyu.set_verifyta_path(\"D:\\\\uppaal\\\\bin-Windows\\\\verifyta.exe\")\n",
    "\n",
    "demo_path = 'demo.xml'\n",
    "\n",
    "# verify and return the terminal result\n",
    "terminal_res = pyu.verify(demo_path)\n",
    "print(terminal_res)\n",
    "# verify and return the trace\n",
    "trace = pyu.easy_verify(demo_path, verify_options='')\n",
    "print('pattern (untime trace):\\n', trace.untime())\n",
    "print('timed trace: \\n', trace)\n",
    "\n",
    "# another method\n",
    "umod = pyu.UModel(demo_path)\n",
    "assert terminal_res == umod.verify()\n",
    "assert str(trace) == str(umod.easy_verify())"
   ]
  },
  {
   "cell_type": "markdown",
   "metadata": {},
   "source": [
    "You can also edit the model and get all possible patterns that satisfy the query."
   ]
  },
  {
   "cell_type": "code",
   "execution_count": null,
   "metadata": {},
   "outputs": [],
   "source": [
    "# save as a new file because find_all_patterns will modify the file\n",
    "umod = umod.save_as('demo_new.xml')\n",
    "# set the queries of the xml model.\n",
    "umod.set_queries('E<> P1.pass')\n",
    "print(umod.broadcast_chan, umod.queries)\n",
    "print(umod.find_all_patterns())"
   ]
  },
  {
   "cell_type": "markdown",
   "metadata": {},
   "source": [
    "## Verify Models with Multi-threads"
   ]
  },
  {
   "cell_type": "code",
   "execution_count": null,
   "metadata": {},
   "outputs": [],
   "source": [
    "import pyuppaal as pyu\n",
    "import time\n",
    "\n",
    "# set verifyta path\n",
    "pyu.set_verifyta_path(\"D:\\\\uppaal\\\\bin-Windows\\\\verifyta.exe\")\n",
    "\n",
    "model_path_list = ['demo.xml', 'demo_new.xml'] * 100\n",
    "trace_path_list = ['demo_trace.xtr', 'demo_new_grace.xtr'] * 100\n",
    "# for loop\n",
    "t0 = time.time()\n",
    "for model, trace in zip(model_path_list, trace_path_list):\n",
    "    pyu.easy_verify(model_path=model, trace_path=trace)\n",
    "print(f'Verify with for loop, time usage {time.time() - t0}')\n",
    "\n",
    "# multi-threads\n",
    "t0 = time.time()\n",
    "pyu.easy_verify(model_path=model_path_list, trace_path=trace_path_list, num_threads=20)\n",
    "print(f'Verify with multi-threads, time usage {time.time() - t0}')"
   ]
  },
  {
   "cell_type": "markdown",
   "metadata": {},
   "source": [
    "## Get Communication Graph\n",
    "\n",
    "For models with multiple processes, you can use `pyuppaal.get_communication_graph(model_path)` or `umod.get_communication_graph()` method to visualize the sturcture of the model.\n",
    "\n",
    "An example communication graph of a complex model in [MiniProject_Pedestrain] is shown below:\n",
    "\n",
    "img"
   ]
  },
  {
   "cell_type": "markdown",
   "metadata": {},
   "source": [
    "# Advanced Usage\n",
    "\n",
    "You can also edit the `.xml` with pyuppaal, including\n",
    "\n",
    "1. set declaration, queries and system;\n",
    "2. remove template by name;\n",
    "3. add built-in templates such as Input, Observer, Monitor, etc.;\n",
    "\n",
    "We have provided 2 miniprojects that help you use advanced method of pyuppaal for scientific research.\n",
    "\n",
    "[MiniProject_PipeNet], and [MiniProject_Pedestrain]."
   ]
  },
  {
   "cell_type": "markdown",
   "metadata": {},
   "source": []
  }
 ],
 "metadata": {
  "kernelspec": {
   "display_name": "Python 3.9.12 ('base')",
   "language": "python",
   "name": "python3"
  },
  "language_info": {
   "codemirror_mode": {
    "name": "ipython",
    "version": 3
   },
   "file_extension": ".py",
   "mimetype": "text/x-python",
   "name": "python",
   "nbconvert_exporter": "python",
   "pygments_lexer": "ipython3",
   "version": "3.9.12"
  },
  "orig_nbformat": 4,
  "vscode": {
   "interpreter": {
    "hash": "cbab80897c756e21206e83b1602264f7bed4b229d7a86fb97552ee165cb35ec2"
   }
  }
 },
 "nbformat": 4,
 "nbformat_minor": 2
}
