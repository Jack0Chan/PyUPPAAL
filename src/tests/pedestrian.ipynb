{
 "cells": [
  {
   "cell_type": "markdown",
   "metadata": {},
   "source": [
    "# Verifyta Demo"
   ]
  },
  {
   "cell_type": "code",
   "execution_count": 1,
   "metadata": {},
   "outputs": [],
   "source": [
    "import os\n",
    "import sys\n",
    "# sys.path.append('/Users/chenguangyao/Documents/GitHub/pyuppaal/src/')\n",
    "# sys.path.remove('/Users/chenguangyao/Documents/GitHub/pyuppaal/src/pyuppaal')\n",
    "import time\n",
    "import pyuppaal as pyu"
   ]
  },
  {
   "cell_type": "code",
   "execution_count": 2,
   "metadata": {},
   "outputs": [
    {
     "name": "stdout",
     "output_type": "stream",
     "text": [
      "[('set UPPAAL_COMPILE_ONLY=&&D:/Softwares/uppaal64-4.1.25-5/bin-Windows/verifyta.exe -t 1 -X Pedestrian_trace Pedestrian.xml', 'Options for the verification:\\n  Generating shortest trace\\n  Search order is breadth first\\n  Using conservative space optimisation\\n  Seed is 1658713677\\n  State space representation uses minimal constraint systems\\n')]\n"
     ]
    }
   ],
   "source": [
    "# You MUST set the verifyta path firstly!\n",
    "pyu.set_verifyta_path(r'D:/Softwares/uppaal64-4.1.25-5/bin-Windows/verifyta.exe')\n",
    "\n",
    "# 创建一个verifyta实例\n",
    "v = pyu.Verifyta()\n",
    "\n",
    "# verify P1 (verifyta_demo1.xml), save .xml file and print result\n",
    "p1_model_path = 'Pedestrian.xml'\n",
    "p1_trace_path = 'Pedestrian_trace.xml'\n",
    "res1 = v.simple_verify(model_path=p1_model_path, trace_path=p1_trace_path)\n",
    "print(res1)"
   ]
  },
  {
   "cell_type": "code",
   "execution_count": 6,
   "metadata": {},
   "outputs": [
    {
     "ename": "NameError",
     "evalue": "name 'p2_model_path' is not defined",
     "output_type": "error",
     "traceback": [
      "\u001b[0;31m---------------------------------------------------------------------------\u001b[0m",
      "\u001b[0;31mNameError\u001b[0m                                 Traceback (most recent call last)",
      "\u001b[1;32m/Users/chenguangyao/Documents/GitHub/pyuppaal/src/tests/pedestrian.ipynb Cell 4\u001b[0m in \u001b[0;36m<cell line: 1>\u001b[0;34m()\u001b[0m\n\u001b[0;32m----> <a href='vscode-notebook-cell:/Users/chenguangyao/Documents/GitHub/pyuppaal/src/tests/pedestrian.ipynb#ch0000003?line=0'>1</a>\u001b[0m model_path_list \u001b[39m=\u001b[39m [p1_model_path, p2_model_path] \u001b[39m*\u001b[39m \u001b[39m100\u001b[39m\n\u001b[1;32m      <a href='vscode-notebook-cell:/Users/chenguangyao/Documents/GitHub/pyuppaal/src/tests/pedestrian.ipynb#ch0000003?line=1'>2</a>\u001b[0m trace_path_list \u001b[39m=\u001b[39m [p1_trace_path, p2_trace_path] \u001b[39m*\u001b[39m \u001b[39m100\u001b[39m\n\u001b[1;32m      <a href='vscode-notebook-cell:/Users/chenguangyao/Documents/GitHub/pyuppaal/src/tests/pedestrian.ipynb#ch0000003?line=2'>3</a>\u001b[0m \u001b[39m# for loop\u001b[39;00m\n",
      "\u001b[0;31mNameError\u001b[0m: name 'p2_model_path' is not defined"
     ]
    }
   ],
   "source": [
    "model_path_list = [p1_model_path, p2_model_path] * 100\n",
    "trace_path_list = [p1_trace_path, p2_trace_path] * 100\n",
    "# for loop\n",
    "t0 = time.time()\n",
    "for model, trace in zip(model_path_list, trace_path_list):\n",
    "    v.simple_verify(model_path=model, trace_path=trace)\n",
    "print(f'Verify with for loop, time usage {time.time() - t0}')\n",
    "\n",
    "# multi-threads\n",
    "t0 = time.time()\n",
    "v.simple_verify(model_path=model_path_list, trace_path=trace_path_list, parallel='threads')\n",
    "print(f'Verify with multi-threads, time usage {time.time() - t0}')\n",
    "\n",
    "# multi-process\n",
    "t0 = time.time()\n",
    "v.simple_verify(model_path=model_path_list, trace_path=trace_path_list, parallel='process')\n",
    "print(f'Verify with multi-process, time usage {time.time() - t0}')"
   ]
  },
  {
   "cell_type": "markdown",
   "metadata": {},
   "source": [
    "# Tracer Demo"
   ]
  },
  {
   "cell_type": "code",
   "execution_count": 3,
   "metadata": {},
   "outputs": [],
   "source": [
    "import pyuppaal as pyu\n",
    "from pyuppaal import Tracer"
   ]
  },
  {
   "cell_type": "code",
   "execution_count": null,
   "metadata": {},
   "outputs": [
    {
     "ename": "",
     "evalue": "",
     "output_type": "error",
     "traceback": [
      "\u001b[1;31mRunning cells with 'Python ('pyuppaal')' requires ipykernel package.\n",
      "Run the following command to install 'ipykernel' into the Python environment. \n",
      "Command: 'conda install -n pyuppaal ipykernel --update-deps --force-reinstall'"
     ]
    }
   ],
   "source": [
    "# You MUST set the verifyta path firstly!\n",
    "pyu.set_verifyta_path(r'D:/Softwares/uppaal64-4.1.25-5/bin-Windows/verifyta.exe')\n",
    "\n",
    "# v = pyu.Verifyta()\n",
    "# model path and trace path\n",
    "p1_model_path = 'verifyta_demo2.xml'\n",
    "p1_trace_path = 'verifyta_demo2_trace-1.xtr'\n",
    "\n",
    "# load timed trace -> SimTrace，读取一个xtr文件，生成一个SimTrace类的实例\n",
    "simtracer = Tracer.get_timed_trace(p1_model_path, p1_trace_path)\n",
    "print(simtracer)"
   ]
  },
  {
   "cell_type": "code",
   "execution_count": null,
   "metadata": {},
   "outputs": [],
   "source": []
  },
  {
   "cell_type": "code",
   "execution_count": null,
   "metadata": {},
   "outputs": [
    {
     "ename": "",
     "evalue": "",
     "output_type": "error",
     "traceback": [
      "\u001b[1;31mRunning cells with 'Python ('pyuppaal')' requires ipykernel package.\n",
      "Run the following command to install 'ipykernel' into the Python environment. \n",
      "Command: 'conda install -n pyuppaal ipykernel --update-deps --force-reinstall'"
     ]
    }
   ],
   "source": [
    "# pipeNet_example\n",
    "model_path = 'pyuppaal_demo_PipeNet.xml'\n",
    "umod = pyu.UModel(model_path=model_path)\n",
    "# {action1: [occur_time1, occur_time2]}\n",
    "inputs = pyu.TimedActions(actions=[], lb=[], ub=[])\n",
    "observations = pyu.TimedActions(actions=[], lb=[], ub=[])\n",
    "# hidden_actions = ['hidden_path1', 'hidden_path2', 'hidden_path3', 'hidden_path4', 'hidden_path5', 'hidden_path6']\n",
    "# input_actions = ['input_ball']\n",
    "observe_actions = ['exit1','exit2','exit3']\n",
    "# focused_actions = list(set(hidden_actions+input_actions+observe_actions))\n",
    "focused_actions = None # []\n",
    "base_query = 'E<> (LV1Pedestrian2.Crossing and Cars.Crossing)'\n",
    "# 找patterns时候，给一个选项，同时返回traces（detailed pattern）\n",
    "umod.find_a_pattern(inputs, observations, observe_actions=observe_actions, focused_actions=None,hold=True)\n",
    "\n",
    "\"\"\"\n",
    "1. 处理focused_actions = []/None的情况，此时选取所有的action（不作过滤）\n",
    "2. (新函数，find_a_pattern_with_query)base_query，用户指定某一条语句（性质），没有input和obs，进行all pattern\n",
    "3. \n",
    "E<> (Monitor0.pass and !Monitor1.pass) (通过时返回反例) \n",
    "\n",
    "A[] (!Monitor0.pass or Monitor1.pass) (不通过时返回反例)\n",
    "\n",
    "下面A[] 后面的语句都不通过时，说明上面的E<> 后面的语句存在一个逆否通过\n",
    "E[] 和 A<>先不考虑\n",
    "4. import的报错去掉\n",
    "\"\"\""
   ]
  },
  {
   "cell_type": "code",
   "execution_count": null,
   "metadata": {},
   "outputs": [
    {
     "ename": "",
     "evalue": "",
     "output_type": "error",
     "traceback": [
      "\u001b[1;31mRunning cells with 'Python ('pyuppaal')' requires ipykernel package.\n",
      "Run the following command to install 'ipykernel' into the Python environment. \n",
      "Command: 'conda install -n pyuppaal ipykernel --update-deps --force-reinstall'"
     ]
    }
   ],
   "source": [
    "umod.find_all_patterns(inputs, observations, focused_actions=focused_actions, observe_actions=observe_actions, hold=True)"
   ]
  },
  {
   "cell_type": "code",
   "execution_count": null,
   "metadata": {},
   "outputs": [
    {
     "ename": "",
     "evalue": "",
     "output_type": "error",
     "traceback": [
      "\u001b[1;31mRunning cells with 'Python ('pyuppaal')' requires ipykernel package.\n",
      "Run the following command to install 'ipykernel' into the Python environment. \n",
      "Command: 'conda install -n pyuppaal ipykernel --update-deps --force-reinstall'"
     ]
    }
   ],
   "source": []
  }
 ],
 "metadata": {
  "kernelspec": {
   "display_name": "Python 3.9.12 ('pyuppaal-dev')",
   "language": "python",
   "name": "python3"
  },
  "language_info": {
   "codemirror_mode": {
    "name": "ipython",
    "version": 3
   },
   "file_extension": ".py",
   "mimetype": "text/x-python",
   "name": "python",
   "nbconvert_exporter": "python",
   "pygments_lexer": "ipython3",
   "version": "3.9.12"
  },
  "orig_nbformat": 4,
  "vscode": {
   "interpreter": {
    "hash": "a4b7093dbd55b3c340acbdaa7386ef98afbe96552bac27ce3478d6f0dd02dd29"
   }
  }
 },
 "nbformat": 4,
 "nbformat_minor": 2
}
