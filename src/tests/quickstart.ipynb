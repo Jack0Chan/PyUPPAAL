{
 "cells": [
  {
   "cell_type": "markdown",
   "metadata": {},
   "source": [
    "# Quick start guide"
   ]
  },
  {
   "cell_type": "markdown",
   "metadata": {},
   "source": [
    "This tutorial covers some basic usage patterms and best practices to help you get started with pyuppaal. Before you start, make sure you have installed pyuppaal following the [installation guide](TBD)."
   ]
  },
  {
   "cell_type": "code",
   "execution_count": 3,
   "metadata": {},
   "outputs": [],
   "source": [
    "import pyuppaal as pyu\n",
    "\n",
    "pyu.set_verifyta_path(\"D:\\\\uppaal\\\\bin-Windows\\\\verifyta.exe\")\n",
    "# pyu.set_verifyta_path(\"your/path/to/verifyta.exe\") # Set the path to verifyta.exe"
   ]
  },
  {
   "cell_type": "markdown",
   "metadata": {},
   "source": [
    "## A simple example"
   ]
  },
  {
   "cell_type": "markdown",
   "metadata": {},
   "source": [
    "Pyuppaal is designed as a tool to solve partially observable systems and provide counter examples for safety properties. \n",
    "\n",
    "With this purpose, pyuppaal provides a simple interface to create and manipulate UPPAAL models. The following example shows how to create a simple model and how to check if a given property is satisfied."
   ]
  },
  {
   "cell_type": "markdown",
   "metadata": {},
   "source": [
    "We will use [pyuppaal_demo_PipeNet.xml](TBD) as an example model in the following usage examples.\n",
    "\n",
    "![pipeNetModel](pipeNetModel.png)\n",
    "\n",
    "In this model, there is a pipe net that has hidden paths between the Entry and three different Exits. The guard on the edge is the falling time for each path, e.g., if a ball goes through hidden_path1, it will take `T1_Min` to `T1_Max` seconds.\n",
    "One day, two balls are put to the Entry at the global time (gclk) 0 and 1000, and observe the balls' at the global time 500 and 1550 from Exit1 and Exit2. "
   ]
  },
  {
   "cell_type": "code",
   "execution_count": 4,
   "metadata": {},
   "outputs": [
    {
     "name": "stdout",
     "output_type": "stream",
     "text": [
      "queries: ['E<> Monitor0.Obs2'] \n",
      "\n",
      "pattern: ['input_ball', 'hidden_path1', 'hidden_path3', 'exit1', 'input_ball', 'hidden_path1', 'hidden_path4', 'exit2'] \n",
      "\n",
      "trace: State [0]: ['PipeNet.Idle', 'Input._id16', 'Monitor0.Start', 'Observer._id19']\n",
      "global_variables [0]: None\n",
      "Clock_constraints [0]: [t(0) - gclk ≤ 0; t(0) - PipeNet.t ≤ 0; t(0) - Input.input_clk ≤ 0; t(0) - Observer.input_clk ≤ 0; gclk - PipeNet.t ≤ 0; PipeNet.t - Input.input_clk ≤ 0; Input.input_clk - Observer.input_clk ≤ 0; Observer.input_clk - t(0) ≤ 0; ]\n",
      "transitions [0]: input_ball: Input -> ['PipeNet']; Input._id16 -> Input._id17; PipeNet.Idle -> PipeNet.Cross1; \n",
      "-----------------------------------\n",
      "State [1]: ['PipeNet.Cross1', 'Input._id17', 'Monitor0.Start', 'Observer._id19']\n",
      "global_variables [1]: None\n",
      "Clock_constraints [1]: [t(0) - gclk ≤ 0; t(0) - PipeNet.t ≤ 0; t(0) - Input.input_clk ≤ 0; t(0) - Observer.input_clk ≤ 0; gclk - t(0) ≤ 500; gclk - PipeNet.t ≤ 0; PipeNet.t - Input.input_clk ≤ 0; Input.input_clk - Observer.input_clk ≤ 0; Observer.input_clk - gclk ≤ 0; ]\n",
      "transitions [1]: hidden_path1: PipeNet -> []; PipeNet.Cross1 -> PipeNet.Cross2; \n",
      "-----------------------------------\n",
      "State [2]: ['PipeNet.Cross2', 'Input._id17', 'Monitor0.Start', 'Observer._id19']\n",
      "global_variables [2]: None\n",
      "Clock_constraints [2]: [t(0) - gclk ≤ 0; t(0) - PipeNet.t ≤ 0; t(0) - Input.input_clk ≤ 0; t(0) - Observer.input_clk ≤ 0; gclk - t(0) ≤ 500; gclk - PipeNet.t ≤ 300; gclk - Input.input_clk ≤ 0; PipeNet.t - gclk ≤ -200; Input.input_clk - Observer.input_clk ≤ 0; Observer.input_clk - gclk ≤ 0; ]\n",
      "transitions [2]: hidden_path3: PipeNet -> []; PipeNet.Cross2 -> PipeNet.Exit1; \n",
      "-----------------------------------\n",
      "State [3]: ['PipeNet.Exit1', 'Input._id17', 'Monitor0.Start', 'Observer._id19']\n",
      "global_variables [3]: None\n",
      "Clock_constraints [3]: [t(0) - gclk ≤ 0; t(0) - PipeNet.t ≤ -200; t(0) - Input.input_clk ≤ 0; t(0) - Observer.input_clk ≤ 0; gclk - t(0) ≤ 500; gclk - Input.input_clk ≤ 0; PipeNet.t - gclk ≤ -200; Input.input_clk - Observer.input_clk ≤ 0; Observer.input_clk - gclk ≤ 0; ]\n",
      "transitions [3]: exit1: PipeNet -> ['Monitor0', 'Observer']; PipeNet.Exit1 -> PipeNet.Reset; Monitor0.Start -> Monitor0.Obs1; Observer._id19 -> Observer._id20; \n",
      "-----------------------------------\n",
      "State [4]: ['PipeNet.Reset', 'Input._id17', 'Monitor0.Obs1', 'Observer._id20']\n",
      "global_variables [4]: None\n",
      "Clock_constraints [4]: [t(0) - gclk ≤ -500; t(0) - PipeNet.t ≤ -200; t(0) - Input.input_clk ≤ 0; t(0) - Observer.input_clk ≤ 0; gclk - Input.input_clk ≤ 0; PipeNet.t - t(0) ≤ 300; Input.input_clk - Observer.input_clk ≤ 0; Observer.input_clk - t(0) ≤ 500; ]\n",
      "transitions [4]: None: PipeNet.Reset -> PipeNet.Idle\n",
      "-----------------------------------\n",
      "State [5]: ['PipeNet.Idle', 'Input._id17', 'Monitor0.Obs1', 'Observer._id20']\n",
      "global_variables [5]: None\n",
      "Clock_constraints [5]: [t(0) - gclk ≤ -500; t(0) - PipeNet.t ≤ 0; t(0) - Input.input_clk ≤ 0; t(0) - Observer.input_clk ≤ 0; gclk - t(0) ≤ 1000; gclk - PipeNet.t ≤ 300; gclk - Input.input_clk ≤ 0; PipeNet.t - gclk ≤ -200; Input.input_clk - Observer.input_clk ≤ 0; Observer.input_clk - gclk ≤ 0; ]\n",
      "transitions [5]: input_ball: Input -> ['PipeNet']; Input._id17 -> Input.pass; PipeNet.Idle -> PipeNet.Cross1; \n",
      "-----------------------------------\n",
      "State [6]: ['PipeNet.Cross1', 'Input.pass', 'Monitor0.Obs1', 'Observer._id20']\n",
      "global_variables [6]: None\n",
      "Clock_constraints [6]: [t(0) - gclk ≤ -1000; t(0) - PipeNet.t ≤ 0; t(0) - Input.input_clk ≤ 0; t(0) - Observer.input_clk ≤ 0; gclk - t(0) ≤ 1550; gclk - PipeNet.t ≤ 1000; PipeNet.t - Input.input_clk ≤ -1000; Input.input_clk - Observer.input_clk ≤ 0; Observer.input_clk - gclk ≤ 0; ]\n",
      "transitions [6]: hidden_path1: PipeNet -> []; PipeNet.Cross1 -> PipeNet.Cross2; \n",
      "-----------------------------------\n",
      "State [7]: ['PipeNet.Cross2', 'Input.pass', 'Monitor0.Obs1', 'Observer._id20']\n",
      "global_variables [7]: None\n",
      "Clock_constraints [7]: [t(0) - gclk ≤ 0; t(0) - PipeNet.t ≤ 0; t(0) - Input.input_clk ≤ 0; t(0) - Observer.input_clk ≤ 0; gclk - t(0) ≤ 1550; gclk - PipeNet.t ≤ 1300; gclk - Input.input_clk ≤ 0; PipeNet.t - gclk ≤ -1200; Input.input_clk - Observer.input_clk ≤ 0; Observer.input_clk - gclk ≤ 0; ]\n",
      "transitions [7]: hidden_path4: PipeNet -> []; PipeNet.Cross2 -> PipeNet.Exit2; \n",
      "-----------------------------------\n",
      "State [8]: ['PipeNet.Exit2', 'Input.pass', 'Monitor0.Obs1', 'Observer._id20']\n",
      "global_variables [8]: None\n",
      "Clock_constraints [8]: [t(0) - gclk ≤ 0; t(0) - PipeNet.t ≤ -200; t(0) - Input.input_clk ≤ 0; t(0) - Observer.input_clk ≤ 0; gclk - t(0) ≤ 1550; gclk - PipeNet.t ≤ 1300; gclk - Input.input_clk ≤ 0; PipeNet.t - t(0) ≤ 300; PipeNet.t - gclk ≤ -1200; Input.input_clk - Observer.input_clk ≤ 0; Observer.input_clk - gclk ≤ 0; ]\n",
      "transitions [8]: exit2: PipeNet -> ['Monitor0', 'Observer']; PipeNet.Exit2 -> PipeNet.Reset; Monitor0.Obs1 -> Monitor0.Obs2; Observer._id20 -> Observer.pass; \n",
      "-----------------------------------\n",
      "State [9]: ['PipeNet.Reset', 'Input.pass', 'Monitor0.Obs2', 'Observer.pass']\n",
      "global_variables [9]: None\n",
      "Clock_constraints [9]: [t(0) - gclk ≤ -1550; t(0) - PipeNet.t ≤ -250; t(0) - Input.input_clk ≤ 0; t(0) - Observer.input_clk ≤ 0; gclk - Input.input_clk ≤ 0; PipeNet.t - t(0) ≤ 300; Input.input_clk - Observer.input_clk ≤ 0; Observer.input_clk - t(0) ≤ 1550; ]\n",
      "\n"
     ]
    }
   ],
   "source": [
    "model_path = \"pyuppaal_demo_PipeNet.xml\" # Use the PipeNet-model.\n",
    "\n",
    "pipeNet = pyu.UModel(model_path) # Initialize the model from `xml` file.\n",
    "\n",
    "pipeNet.set_queries('E<> Monitor0.Obs2') # Set query(s).\n",
    "\n",
    "print(\"queries:\", pipeNet.queries, '\\n') # See available queries. \n",
    "\n",
    "trace = pipeNet.easy_verify() # Get one possible trace.\n",
    "\n",
    "print(\"pattern:\", trace.untime_pattern, '\\n') # Print patterns\n",
    "\n",
    "print(\"trace:\", trace) # Print trace."
   ]
  },
  {
   "cell_type": "markdown",
   "metadata": {},
   "source": [
    "## Add input and observation template"
   ]
  },
  {
   "cell_type": "markdown",
   "metadata": {},
   "source": [
    "As mentioned above, pyuppaal is designed to solve partially observable systems. To do so, pyuppaal allows you to add input and observation templates to the model. \n",
    "\n",
    "In pyuppaal, TimedActions is used to descripe inputs and observations. TimedActions is a class with three lists, containing actions, lower bounds and upper bounds of an input or observation.\n",
    "\n"
   ]
  },
  {
   "cell_type": "code",
   "execution_count": 5,
   "metadata": {},
   "outputs": [
    {
     "name": "stdout",
     "output_type": "stream",
     "text": [
      "State [0]: ['PipeNet.Idle', 'Input._id24', 'Monitor0.Start', 'Observer._id27', 'Monitor1._id32']\n",
      "global_variables [0]: None\n",
      "Clock_constraints [0]: [t(0) - gclk ≤ 0; t(0) - PipeNet.t ≤ 0; t(0) - Input.input_clk ≤ 0; t(0) - Observer.input_clk ≤ 0; gclk - PipeNet.t ≤ 0; PipeNet.t - Input.input_clk ≤ 0; Input.input_clk - Observer.input_clk ≤ 0; Observer.input_clk - t(0) ≤ 0; ]\n",
      "transitions [0]: input_ball: Input -> ['PipeNet', 'Monitor1']; Input._id24 -> Input._id25; PipeNet.Idle -> PipeNet.Cross1; Monitor1._id32 -> Monitor1._id33; \n",
      "-----------------------------------\n",
      "State [1]: ['PipeNet.Cross1', 'Input._id25', 'Monitor0.Start', 'Observer._id27', 'Monitor1._id33']\n",
      "global_variables [1]: None\n",
      "Clock_constraints [1]: [t(0) - gclk ≤ 0; t(0) - PipeNet.t ≤ 0; t(0) - Input.input_clk ≤ 0; t(0) - Observer.input_clk ≤ 0; gclk - t(0) ≤ 500; gclk - PipeNet.t ≤ 0; PipeNet.t - Input.input_clk ≤ 0; Input.input_clk - Observer.input_clk ≤ 0; Observer.input_clk - gclk ≤ 0; ]\n",
      "transitions [1]: hidden_path1: PipeNet -> ['Monitor1']; PipeNet.Cross1 -> PipeNet.Cross2; Monitor1._id33 -> Monitor1._id34; \n",
      "-----------------------------------\n",
      "State [2]: ['PipeNet.Cross2', 'Input._id25', 'Monitor0.Start', 'Observer._id27', 'Monitor1._id34']\n",
      "global_variables [2]: None\n",
      "Clock_constraints [2]: [t(0) - gclk ≤ 0; t(0) - PipeNet.t ≤ 0; t(0) - Input.input_clk ≤ 0; t(0) - Observer.input_clk ≤ 0; gclk - t(0) ≤ 500; gclk - PipeNet.t ≤ 300; gclk - Input.input_clk ≤ 0; PipeNet.t - gclk ≤ -200; Input.input_clk - Observer.input_clk ≤ 0; Observer.input_clk - gclk ≤ 0; ]\n",
      "transitions [2]: hidden_path3: PipeNet -> ['Monitor1']; PipeNet.Cross2 -> PipeNet.Exit1; Monitor1._id34 -> Monitor1._id35; \n",
      "-----------------------------------\n",
      "State [3]: ['PipeNet.Exit1', 'Input._id25', 'Monitor0.Start', 'Observer._id27', 'Monitor1._id35']\n",
      "global_variables [3]: None\n",
      "Clock_constraints [3]: [t(0) - gclk ≤ 0; t(0) - PipeNet.t ≤ -200; t(0) - Input.input_clk ≤ 0; t(0) - Observer.input_clk ≤ 0; gclk - t(0) ≤ 500; gclk - Input.input_clk ≤ 0; PipeNet.t - gclk ≤ -200; Input.input_clk - Observer.input_clk ≤ 0; Observer.input_clk - gclk ≤ 0; ]\n",
      "transitions [3]: exit1: PipeNet -> ['Monitor0', 'Observer', 'Monitor1']; PipeNet.Exit1 -> PipeNet.Reset; Monitor0.Start -> Monitor0.Obs1; Observer._id27 -> Observer._id28; Monitor1._id35 -> Monitor1._id36; \n",
      "-----------------------------------\n",
      "State [4]: ['PipeNet.Reset', 'Input._id25', 'Monitor0.Obs1', 'Observer._id28', 'Monitor1._id36']\n",
      "global_variables [4]: None\n",
      "Clock_constraints [4]: [t(0) - gclk ≤ -500; t(0) - PipeNet.t ≤ -200; t(0) - Input.input_clk ≤ 0; t(0) - Observer.input_clk ≤ 0; gclk - Input.input_clk ≤ 0; PipeNet.t - t(0) ≤ 300; Input.input_clk - Observer.input_clk ≤ 0; Observer.input_clk - t(0) ≤ 500; ]\n",
      "transitions [4]: None: PipeNet.Reset -> PipeNet.Idle\n",
      "-----------------------------------\n",
      "State [5]: ['PipeNet.Idle', 'Input._id25', 'Monitor0.Obs1', 'Observer._id28', 'Monitor1._id36']\n",
      "global_variables [5]: None\n",
      "Clock_constraints [5]: [t(0) - gclk ≤ -500; t(0) - PipeNet.t ≤ 0; t(0) - Input.input_clk ≤ 0; t(0) - Observer.input_clk ≤ 0; gclk - t(0) ≤ 1000; gclk - PipeNet.t ≤ 300; gclk - Input.input_clk ≤ 0; PipeNet.t - gclk ≤ -200; Input.input_clk - Observer.input_clk ≤ 0; Observer.input_clk - gclk ≤ 0; ]\n",
      "transitions [5]: input_ball: Input -> ['PipeNet', 'Monitor1']; Input._id25 -> Input.pass; PipeNet.Idle -> PipeNet.Cross1; Monitor1._id36 -> Monitor1._id37; \n",
      "-----------------------------------\n",
      "State [6]: ['PipeNet.Cross1', 'Input.pass', 'Monitor0.Obs1', 'Observer._id28', 'Monitor1._id37']\n",
      "global_variables [6]: None\n",
      "Clock_constraints [6]: [t(0) - gclk ≤ -1000; t(0) - PipeNet.t ≤ 0; t(0) - Input.input_clk ≤ 0; t(0) - Observer.input_clk ≤ 0; gclk - t(0) ≤ 1550; gclk - PipeNet.t ≤ 1000; PipeNet.t - Input.input_clk ≤ -1000; Input.input_clk - Observer.input_clk ≤ 0; Observer.input_clk - gclk ≤ 0; ]\n",
      "transitions [6]: hidden_path2: PipeNet -> ['Monitor1']; PipeNet.Cross1 -> PipeNet.Cross3; Monitor1._id37 -> Monitor1.fail5; \n",
      "-----------------------------------\n",
      "State [7]: ['PipeNet.Cross3', 'Input.pass', 'Monitor0.Obs1', 'Observer._id28', 'Monitor1.fail5']\n",
      "global_variables [7]: None\n",
      "Clock_constraints [7]: [t(0) - gclk ≤ 0; t(0) - PipeNet.t ≤ 0; t(0) - Input.input_clk ≤ 0; t(0) - Observer.input_clk ≤ 0; gclk - t(0) ≤ 1550; gclk - PipeNet.t ≤ 1300; gclk - Input.input_clk ≤ 0; PipeNet.t - gclk ≤ -1200; Input.input_clk - Observer.input_clk ≤ 0; Observer.input_clk - gclk ≤ 0; ]\n",
      "transitions [7]: hidden_path5: PipeNet -> []; PipeNet.Cross3 -> PipeNet.Exit2; \n",
      "-----------------------------------\n",
      "State [8]: ['PipeNet.Exit2', 'Input.pass', 'Monitor0.Obs1', 'Observer._id28', 'Monitor1.fail5']\n",
      "global_variables [8]: None\n",
      "Clock_constraints [8]: [t(0) - gclk ≤ 0; t(0) - PipeNet.t ≤ -200; t(0) - Input.input_clk ≤ 0; t(0) - Observer.input_clk ≤ 0; gclk - t(0) ≤ 1550; gclk - PipeNet.t ≤ 1300; gclk - Input.input_clk ≤ 0; PipeNet.t - t(0) ≤ 300; PipeNet.t - gclk ≤ -1200; Input.input_clk - Observer.input_clk ≤ 0; Observer.input_clk - gclk ≤ 0; ]\n",
      "transitions [8]: exit2: PipeNet -> ['Monitor0', 'Observer']; PipeNet.Exit2 -> PipeNet.Reset; Monitor0.Obs1 -> Monitor0.Obs2; Observer._id28 -> Observer.pass; \n",
      "-----------------------------------\n",
      "State [9]: ['PipeNet.Reset', 'Input.pass', 'Monitor0.Obs2', 'Observer.pass', 'Monitor1.fail5']\n",
      "global_variables [9]: None\n",
      "Clock_constraints [9]: [t(0) - gclk ≤ -1550; t(0) - PipeNet.t ≤ -250; t(0) - Input.input_clk ≤ 0; t(0) - Observer.input_clk ≤ 0; gclk - Input.input_clk ≤ 0; PipeNet.t - t(0) ≤ 300; Input.input_clk - Observer.input_clk ≤ 0; Observer.input_clk - t(0) ≤ 1550; ]\n",
      "\n"
     ]
    }
   ],
   "source": [
    "inputs = pyu.TimedActions(actions=['input_ball', 'input_ball'], lb=[0, 1000], ub=[0, 1000]) # Define an input.\n",
    "observations = pyu.TimedActions(actions=['exit1', 'exit2'], lb=[500, 1550], ub=[500, 1550]) # Define an observation.\n",
    "\n",
    "pipeNet.add_input_template(inputs) # Add input template.\n",
    "pipeNet.add_observer_template(observations) # Add observation template.\n",
    "\n",
    "traces = pipeNet.find_all_patterns() # Find all traces.\n",
    "print(str(traces[-1])) # Peek the last trace."
   ]
  },
  {
   "cell_type": "markdown",
   "metadata": {},
   "source": [
    "The input and observation template added by pyuppaal. The cache file `*_pattern.xml` can be find in the same directory of the input model.\n",
    "\n",
    "![pipeNetInput](pipeNetInput.png)\n",
    "\n",
    "![pipeNetObserver](pipeNetObserver.png)"
   ]
  },
  {
   "cell_type": "markdown",
   "metadata": {},
   "source": [
    "## Find all patterns"
   ]
  },
  {
   "cell_type": "markdown",
   "metadata": {},
   "source": [
    "Except from providing one possible pattern for a given model, pyuppaal can also provide all the possible patterns by automatically generating Monitor templates to remove the existing patterns."
   ]
  },
  {
   "cell_type": "code",
   "execution_count": 6,
   "metadata": {},
   "outputs": [
    {
     "name": "stdout",
     "output_type": "stream",
     "text": [
      "patterns: [['input_ball', 'hidden_path1', 'hidden_path3', 'exit1', 'input_ball', 'hidden_path1', 'hidden_path4', 'exit2'], ['input_ball', 'hidden_path1', 'hidden_path3', 'exit1', 'input_ball', 'hidden_path2', 'hidden_path5', 'exit2']] \n",
      "\n",
      "num patterns: 2 \n",
      "\n",
      "State [0]: ['PipeNet.Idle', 'Input._id24', 'Monitor0.Start', 'Observer._id27']\n",
      "global_variables [0]: None\n",
      "Clock_constraints [0]: [t(0) - gclk ≤ 0; t(0) - PipeNet.t ≤ 0; t(0) - Input.input_clk ≤ 0; t(0) - Observer.input_clk ≤ 0; gclk - PipeNet.t ≤ 0; PipeNet.t - Input.input_clk ≤ 0; Input.input_clk - Observer.input_clk ≤ 0; Observer.input_clk - t(0) ≤ 0; ]\n",
      "transitions [0]: input_ball: Input -> ['PipeNet']; Input._id24 -> Input._id25; PipeNet.Idle -> PipeNet.Cross1; \n",
      "-----------------------------------\n",
      "State [1]: ['PipeNet.Cross1', 'Input._id25', 'Monitor0.Start', 'Observer._id27']\n",
      "global_variables [1]: None\n",
      "Clock_constraints [1]: [t(0) - gclk ≤ 0; t(0) - PipeNet.t ≤ 0; t(0) - Input.input_clk ≤ 0; t(0) - Observer.input_clk ≤ 0; gclk - t(0) ≤ 500; gclk - PipeNet.t ≤ 0; PipeNet.t - Input.input_clk ≤ 0; Input.input_clk - Observer.input_clk ≤ 0; Observer.input_clk - gclk ≤ 0; ]\n",
      "transitions [1]: hidden_path1: PipeNet -> []; PipeNet.Cross1 -> PipeNet.Cross2; \n",
      "-----------------------------------\n",
      "State [2]: ['PipeNet.Cross2', 'Input._id25', 'Monitor0.Start', 'Observer._id27']\n",
      "global_variables [2]: None\n",
      "Clock_constraints [2]: [t(0) - gclk ≤ 0; t(0) - PipeNet.t ≤ 0; t(0) - Input.input_clk ≤ 0; t(0) - Observer.input_clk ≤ 0; gclk - t(0) ≤ 500; gclk - PipeNet.t ≤ 300; gclk - Input.input_clk ≤ 0; PipeNet.t - gclk ≤ -200; Input.input_clk - Observer.input_clk ≤ 0; Observer.input_clk - gclk ≤ 0; ]\n",
      "transitions [2]: hidden_path3: PipeNet -> []; PipeNet.Cross2 -> PipeNet.Exit1; \n",
      "-----------------------------------\n",
      "State [3]: ['PipeNet.Exit1', 'Input._id25', 'Monitor0.Start', 'Observer._id27']\n",
      "global_variables [3]: None\n",
      "Clock_constraints [3]: [t(0) - gclk ≤ 0; t(0) - PipeNet.t ≤ -200; t(0) - Input.input_clk ≤ 0; t(0) - Observer.input_clk ≤ 0; gclk - t(0) ≤ 500; gclk - Input.input_clk ≤ 0; PipeNet.t - gclk ≤ -200; Input.input_clk - Observer.input_clk ≤ 0; Observer.input_clk - gclk ≤ 0; ]\n",
      "transitions [3]: exit1: PipeNet -> ['Monitor0', 'Observer']; PipeNet.Exit1 -> PipeNet.Reset; Monitor0.Start -> Monitor0.Obs1; Observer._id27 -> Observer._id28; \n",
      "-----------------------------------\n",
      "State [4]: ['PipeNet.Reset', 'Input._id25', 'Monitor0.Obs1', 'Observer._id28']\n",
      "global_variables [4]: None\n",
      "Clock_constraints [4]: [t(0) - gclk ≤ -500; t(0) - PipeNet.t ≤ -200; t(0) - Input.input_clk ≤ 0; t(0) - Observer.input_clk ≤ 0; gclk - Input.input_clk ≤ 0; PipeNet.t - t(0) ≤ 300; Input.input_clk - Observer.input_clk ≤ 0; Observer.input_clk - t(0) ≤ 500; ]\n",
      "transitions [4]: None: PipeNet.Reset -> PipeNet.Idle\n",
      "-----------------------------------\n",
      "State [5]: ['PipeNet.Idle', 'Input._id25', 'Monitor0.Obs1', 'Observer._id28']\n",
      "global_variables [5]: None\n",
      "Clock_constraints [5]: [t(0) - gclk ≤ -500; t(0) - PipeNet.t ≤ 0; t(0) - Input.input_clk ≤ 0; t(0) - Observer.input_clk ≤ 0; gclk - t(0) ≤ 1000; gclk - PipeNet.t ≤ 300; gclk - Input.input_clk ≤ 0; PipeNet.t - gclk ≤ -200; Input.input_clk - Observer.input_clk ≤ 0; Observer.input_clk - gclk ≤ 0; ]\n",
      "transitions [5]: input_ball: Input -> ['PipeNet']; Input._id25 -> Input.pass; PipeNet.Idle -> PipeNet.Cross1; \n",
      "-----------------------------------\n",
      "State [6]: ['PipeNet.Cross1', 'Input.pass', 'Monitor0.Obs1', 'Observer._id28']\n",
      "global_variables [6]: None\n",
      "Clock_constraints [6]: [t(0) - gclk ≤ -1000; t(0) - PipeNet.t ≤ 0; t(0) - Input.input_clk ≤ 0; t(0) - Observer.input_clk ≤ 0; gclk - t(0) ≤ 1550; gclk - PipeNet.t ≤ 1000; PipeNet.t - Input.input_clk ≤ -1000; Input.input_clk - Observer.input_clk ≤ 0; Observer.input_clk - gclk ≤ 0; ]\n",
      "transitions [6]: hidden_path1: PipeNet -> []; PipeNet.Cross1 -> PipeNet.Cross2; \n",
      "-----------------------------------\n",
      "State [7]: ['PipeNet.Cross2', 'Input.pass', 'Monitor0.Obs1', 'Observer._id28']\n",
      "global_variables [7]: None\n",
      "Clock_constraints [7]: [t(0) - gclk ≤ 0; t(0) - PipeNet.t ≤ 0; t(0) - Input.input_clk ≤ 0; t(0) - Observer.input_clk ≤ 0; gclk - t(0) ≤ 1550; gclk - PipeNet.t ≤ 1300; gclk - Input.input_clk ≤ 0; PipeNet.t - gclk ≤ -1200; Input.input_clk - Observer.input_clk ≤ 0; Observer.input_clk - gclk ≤ 0; ]\n",
      "transitions [7]: hidden_path4: PipeNet -> []; PipeNet.Cross2 -> PipeNet.Exit2; \n",
      "-----------------------------------\n",
      "State [8]: ['PipeNet.Exit2', 'Input.pass', 'Monitor0.Obs1', 'Observer._id28']\n",
      "global_variables [8]: None\n",
      "Clock_constraints [8]: [t(0) - gclk ≤ 0; t(0) - PipeNet.t ≤ -200; t(0) - Input.input_clk ≤ 0; t(0) - Observer.input_clk ≤ 0; gclk - t(0) ≤ 1550; gclk - PipeNet.t ≤ 1300; gclk - Input.input_clk ≤ 0; PipeNet.t - t(0) ≤ 300; PipeNet.t - gclk ≤ -1200; Input.input_clk - Observer.input_clk ≤ 0; Observer.input_clk - gclk ≤ 0; ]\n",
      "transitions [8]: exit2: PipeNet -> ['Monitor0', 'Observer']; PipeNet.Exit2 -> PipeNet.Reset; Monitor0.Obs1 -> Monitor0.Obs2; Observer._id28 -> Observer.pass; \n",
      "-----------------------------------\n",
      "State [9]: ['PipeNet.Reset', 'Input.pass', 'Monitor0.Obs2', 'Observer.pass']\n",
      "global_variables [9]: None\n",
      "Clock_constraints [9]: [t(0) - gclk ≤ -1550; t(0) - PipeNet.t ≤ -250; t(0) - Input.input_clk ≤ 0; t(0) - Observer.input_clk ≤ 0; gclk - Input.input_clk ≤ 0; PipeNet.t - t(0) ≤ 300; Input.input_clk - Observer.input_clk ≤ 0; Observer.input_clk - t(0) ≤ 1550; ]\n",
      "\n"
     ]
    }
   ],
   "source": [
    "traces = pipeNet.find_all_patterns() # Find all possible traces.\n",
    "patterns = [t.untime_pattern for t in traces]\n",
    "\n",
    "print('patterns:', patterns, '\\n') # Print all patterns.\n",
    "\n",
    "print('num patterns:', len(patterns), '\\n') # Print the length of traces.\n",
    "\n",
    "print(str(traces[0])) # Print the first trace."
   ]
  },
  {
   "cell_type": "markdown",
   "metadata": {},
   "source": [
    "Monitor template 1 add by pyuppaal. The cache file `*_pattern.xml` can be find in the same directory of the input model.\n",
    "\n",
    "![pipeNetModelMonitor1](pipeNetMonitor1.png)"
   ]
  },
  {
   "cell_type": "markdown",
   "metadata": {},
   "source": [
    "All the possible patterns are shown below. The red path suggests the possible pattern that the first ball may go through. It can be easily analyzed that there are two possible patterns, green and yellow paths, for the second ball to reach exit2. Pyuppaal can detect all the possible patterns that can explain the inputs and observations.\n",
    "\n",
    "![pipeNetPatterns](pipeNetPatterns.png)"
   ]
  }
 ],
 "metadata": {
  "kernelspec": {
   "display_name": "Python 3.10.0 ('uppaal-controller')",
   "language": "python",
   "name": "python3"
  },
  "language_info": {
   "codemirror_mode": {
    "name": "ipython",
    "version": 3
   },
   "file_extension": ".py",
   "mimetype": "text/x-python",
   "name": "python",
   "nbconvert_exporter": "python",
   "pygments_lexer": "ipython3",
   "version": "3.10.0"
  },
  "orig_nbformat": 4,
  "vscode": {
   "interpreter": {
    "hash": "56566df51fada5dbe94783a4cf73a4d7ff5e19d113ce2a7b25aa204aee2829c7"
   }
  }
 },
 "nbformat": 4,
 "nbformat_minor": 2
}
