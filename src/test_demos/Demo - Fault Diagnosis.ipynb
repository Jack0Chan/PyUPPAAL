{
 "cells": [
  {
   "cell_type": "markdown",
   "metadata": {},
   "source": [
    "# Demo3 - Fault Diagnosis"
   ]
  },
  {
   "cell_type": "code",
   "execution_count": 1,
   "metadata": {},
   "outputs": [
    {
     "name": "stdout",
     "output_type": "stream",
     "text": [
      "1.2.1\n"
     ]
    }
   ],
   "source": [
    "import pyuppaal as pyu\n",
    "import os\n",
    "import time\n",
    "from typing import List, Tuple, Dict, Set, Optional, Union\n",
    "\n",
    "print(pyu.__version__)\n",
    "\n",
    "def bring_to_root(file_name: str):\n",
    "    # ROOT_DIR = os.path.dirname(os.path.abspath(__file__))\n",
    "    ROOT_DIR = os.path.dirname(\"C://Users//Taco//Documents//GitHub//cav2024//Demo-Diagnosability//\")\n",
    "    return os.path.join(ROOT_DIR, file_name)\n",
    "\n",
    "pyu.DeveloperTools.set_verifyta_path_dev()\n",
    "\n",
    "# If you want to see the detailed pattern, you need to keep tmp file for tracer.\n",
    "keep_tmp_file = False"
   ]
  },
  {
   "cell_type": "markdown",
   "metadata": {},
   "source": [
    "## Toy Example Diagnosability\n",
    "\n",
    "<img src=https://raw.githubusercontent.com/Jack0Chan/pyuppaal/main/src/test_integration/figs/Fault_Diagnosis.png width=400 />"
   ]
  },
  {
   "cell_type": "code",
   "execution_count": 2,
   "metadata": {},
   "outputs": [
    {
     "name": "stderr",
     "output_type": "stream",
     "text": [
      "   3-diagnosability for 'f':   0%|          | 0/64 [00:00<?, ?it/s]   3-diagnosability for 'f': 100%|██████████| 64/64 [00:06<00:00, 10.28it/s]\n",
      "   3-diagnosability for 'f':   6%|▋         | 4/64 [00:01<00:19,  3.08it/s]"
     ]
    },
    {
     "name": "stdout",
     "output_type": "stream",
     "text": [
      "   A is 3-diagnosable: True\n",
      "   B is 3-diagnosable: False\n"
     ]
    },
    {
     "name": "stderr",
     "output_type": "stream",
     "text": [
      "\n"
     ]
    }
   ],
   "source": [
    "A = pyu.UModel(bring_to_root('toy_model_diagnosable.xml'))\n",
    "B = pyu.UModel(bring_to_root('toy_model_not_diagnosable.xml'))\n",
    "\n",
    "# Load both models\n",
    "# A = pyu.UModel('model_A.xml')\n",
    "# B = pyu.UModel('model_B.xml')\n",
    "# Add observations, unobvservable events and faults\n",
    "sigma_o = ['a', 'b', 'c', 'action']\n",
    "sigma_un, sigma_f = ['f'], ['f']\n",
    "n = 3\n",
    "\n",
    "res_A = A.fault_diagnosability(fault=sigma_f[0], n=n, sigma_o=sigma_o, sigma_un=sigma_un, visual=True, keep_tmp_file=keep_tmp_file)\n",
    "res_B = B.fault_diagnosability(fault=sigma_f[0], n=n, sigma_o=sigma_o, sigma_un=sigma_un, visual=True, keep_tmp_file=keep_tmp_file)\n",
    "\n",
    "print(f\"   A is 3-diagnosable: {res_A[0]}\")\n",
    "print(f\"   B is 3-diagnosable: {res_B[0]}\")"
   ]
  }
 ],
 "metadata": {
  "kernelspec": {
   "display_name": "Python 3 (ipykernel)",
   "language": "python",
   "name": "python3"
  },
  "language_info": {
   "codemirror_mode": {
    "name": "ipython",
    "version": 3
   },
   "file_extension": ".py",
   "mimetype": "text/x-python",
   "name": "python",
   "nbconvert_exporter": "python",
   "pygments_lexer": "ipython3",
   "version": "3.10.13"
  }
 },
 "nbformat": 4,
 "nbformat_minor": 2
}
