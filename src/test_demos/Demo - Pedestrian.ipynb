{
 "cells": [
  {
   "cell_type": "markdown",
   "metadata": {},
   "source": [
    "# Pedestrian"
   ]
  },
  {
   "cell_type": "code",
   "execution_count": 1,
   "metadata": {},
   "outputs": [
    {
     "name": "stdout",
     "output_type": "stream",
     "text": [
      "1.2.1\n"
     ]
    }
   ],
   "source": [
    "import os\n",
    "\n",
    "import pyuppaal as pyu\n",
    "from pyuppaal import UModel, Verifyta\n",
    "from pyuppaal.monitors import Monitors\n",
    "\n",
    "print(pyu.__version__)\n",
    "\n",
    "def bring_to_root(file_name: str):\n",
    "    # ROOT_DIR = os.path.dirname(os.path.abspath(__file__))\n",
    "    ROOT_DIR = os.path.dirname(\"C://Users//Taco//Documents//GitHub//cav2024//Demo-Pedestrian//\")\n",
    "    return os.path.join(ROOT_DIR, file_name)\n",
    "\n",
    "pyu.DeveloperTools.set_verifyta_path_dev()"
   ]
  },
  {
   "cell_type": "code",
   "execution_count": 2,
   "metadata": {},
   "outputs": [],
   "source": [
    "# Load the `xml` model\n",
    "pipeNet = UModel(bring_to_root(\"pedestrian.xml\"))\n",
    "# save as a new file in order not to overwrite current file\n",
    "pipeNet = pipeNet.save_as(bring_to_root(\"demo_pedestrian.xml\"))"
   ]
  },
  {
   "cell_type": "markdown",
   "metadata": {},
   "source": [
    "#### Verifyta"
   ]
  },
  {
   "cell_type": "code",
   "execution_count": 3,
   "metadata": {},
   "outputs": [
    {
     "name": "stdout",
     "output_type": "stream",
     "text": [
      "{'cCrss-pCheckLight-pRed-pCrss', 'pCheckLight-pRed-pCrss-cCrss'}\n"
     ]
    }
   ],
   "source": [
    "# we enumerate all the options for verifyta.\n",
    "verify_options = [' -t 0 -o 0',\n",
    "                  ' -t 0 -o 1',\n",
    "                  ' -t 0 -o 2',\n",
    "                  ' -t 1 -o 0',\n",
    "                  ' -t 1 -o 1',\n",
    "                  ' -t 1 -o 2',\n",
    "                  ' -t 1 -o 3',\n",
    "                  ' -t 1 -o 4',\n",
    "                  ' -t 2 -o 0', \n",
    "                  ' -t 2 -o 1',\n",
    "                  ' -t 2 -o 2',\n",
    "                  ' -t 2 -o 3',\n",
    "                  ' -t 2 -o 4'\n",
    "                  ] \n",
    "\n",
    "# diagnostic_options = [f' -t {i}']\n",
    "\n",
    "res = []\n",
    "\n",
    "focused_actions = [\"pCheckLight\", \"pGreen\",\n",
    "                       \"pRed\", \"pYellow\", \"pCrss\", \"cCrss\"]\n",
    "for i, verify_option in enumerate(verify_options):\n",
    "    res.append(pipeNet.easy_verify(verify_options=verify_option,keep_tmp_file=False).filter_by_actions(focused_actions).untime_pattern)\n",
    "\n",
    "\n",
    "print(set([ \"-\".join(r) for r in res]))\n",
    "\n",
    "    "
   ]
  },
  {
   "cell_type": "code",
   "execution_count": 4,
   "metadata": {},
   "outputs": [
    {
     "name": "stdout",
     "output_type": "stream",
     "text": [
      "['pCheckLight', 'pRed', 'pCrss', 'cCrss']\n",
      "['cCrss', 'pCheckLight', 'pRed', 'pCrss']\n",
      "['pCheckLight', 'pGreen', 'pCrss', 'cCrss']\n",
      "['pCheckLight', 'pYellow', 'pCrss', 'cCrss']\n"
     ]
    }
   ],
   "source": [
    "# Load the model\n",
    "M = UModel(\"pedestrian.xml\")\n",
    "M.queries = \"E<> (PPedestrian.Crossing and PCar.Crossing)\"\n",
    "traces = pipeNet.find_all_patterns(focused_actions=[\"pCheckLight\", \"pGreen\", \"pRed\", \"pYellow\", \"pCrss\", \"cCrss\"],keep_tmp_file=False)\n",
    "\n",
    "for trace in traces:\n",
    "    print(trace.untime_pattern)"
   ]
  },
  {
   "cell_type": "code",
   "execution_count": 5,
   "metadata": {},
   "outputs": [
    {
     "data": {
      "text/plain": [
       "```mermaid\n",
       "graph TD\n",
       "PCar--cCheckLight-->PTrafficLights\n",
       "PTrafficLights--cGreen,cRed,cYellow-->PCar\n",
       "PTrafficLights--pGreen,pRed,pYellow-->PPedestrian\n",
       "PPedestrian--pCheckLight-->PTrafficLights\n",
       "```"
      ]
     },
     "execution_count": 5,
     "metadata": {},
     "output_type": "execute_result"
    }
   ],
   "source": [
    "M.get_communication_graph()"
   ]
  }
 ],
 "metadata": {
  "kernelspec": {
   "display_name": "Python 3 (ipykernel)",
   "language": "python",
   "name": "python3"
  },
  "language_info": {
   "codemirror_mode": {
    "name": "ipython",
    "version": 3
   },
   "file_extension": ".py",
   "mimetype": "text/x-python",
   "name": "python",
   "nbconvert_exporter": "python",
   "pygments_lexer": "ipython3",
   "version": "3.10.13"
  }
 },
 "nbformat": 4,
 "nbformat_minor": 2
}
