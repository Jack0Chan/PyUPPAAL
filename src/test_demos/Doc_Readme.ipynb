{
 "cells": [
  {
   "cell_type": "markdown",
   "metadata": {},
   "source": [
    "# Introduction\n",
    "\n",
    "[![Documentation Status](https://readthedocs.org/projects/pyuppaal/badge/?version=latest)](https://pyuppaal.readthedocs.io/en/latest/?badge=latest) \n",
    "[![PyPI version](https://badge.fury.io/py/pyuppaal.svg)](https://badge.fury.io/py/pyuppaal)\n",
    "![](https://img.shields.io/badge/test-passing-brightgreen)\n",
    "[![Licence](https://img.shields.io/github/license/jack0chan/pyuppaal)](https://opensource.org/licenses/mit-license.php)\n",
    "![](https://img.shields.io/badge/platform-Windows,%20Linux,%20Darwin-blue) \n",
    "\n",
    "`PyUPPAAL` is a python package developed basically for reflecting UPPAAL's model editing, verification, and counter-example parsing operations into scripts. Implementing iterative model checking workflow is a typical application of pyuppaal, such as CEGAR, CEGIS, fault diagnosis, risk analysis, ect. We will add references and case studies for these problems. Some function have been implemented such as `find_all_patterns()`, `fault_diagnosability()`, `fault_identification()`, and `fault_tolerance()`.\n",
    "\n",
    "Notice: \n",
    "\n",
    "- report issues / requirements at: [github-issues](https://github.com/Jack0Chan/PyUPPAAL/issues).\n",
    "- more demos for basic & advanced usage will come soon.\n",
    "- [todo] Support for *SMC* analyzing."
   ]
  },
  {
   "cell_type": "markdown",
   "metadata": {},
   "source": [
    "Demos are provided to help users get familiar with `PyUPPAAL`\n",
    "\n",
    "<a href=\"https://github.com/Jack0Chan/PyUPPAAL/blob/main/src/test_demos/Demo1-PipeNet.ipynb\">\n",
    "    <img src=\"https://raw.githubusercontent.com/Jack0Chan/pyuppaal/main/src/test_demos/figs/readme1.jpg\" width=\"270px\" alt=\"\">\n",
    "</a>\n",
    "<a href=\"https://github.com/Jack0Chan/PyUPPAAL/blob/main/src/test_demos/Demo4-Scripted%20Model%20Construction.ipynb\">\n",
    "    <img src=\"https://raw.githubusercontent.com/Jack0Chan/pyuppaal/main/src/test_demos/figs/readme2.jpg\" width=\"270px\" alt=\"\">\n",
    "</a>\n",
    "<a href=\"https://github.com/Jack0Chan/PyUPPAAL/blob/main/src/test_demos/Demo2-Pedestrian.ipynb\">\n",
    "    <img src=\"https://raw.githubusercontent.com/Jack0Chan/pyuppaal/main/src/test_demos/figs/readme3.jpg\" width=\"270px\" alt=\"\">\n",
    "</a>\n",
    "<a href=\"https://github.com/Jack0Chan/PyUPPAAL/blob/main/src/test_demos/Demo5-Trace%20Parser.ipynb\">\n",
    "    <img src=\"https://raw.githubusercontent.com/Jack0Chan/pyuppaal/main/src/test_demos/figs/readme4.jpg\" width=\"270px\" alt=\"\">\n",
    "</a>\n",
    "<a href=\"https://github.com/Jack0Chan/PyUPPAAL/blob/main/src/test_demos/Demo3-Fault%20Diagnosis.ipynb\">\n",
    "    <img src=\"https://raw.githubusercontent.com/Jack0Chan/pyuppaal/main/src/test_demos/figs/readme5.jpg\" width=\"270px\" alt=\"\">\n",
    "</a>"
   ]
  },
  {
   "cell_type": "markdown",
   "metadata": {},
   "source": [
    "# Quickstart\n",
    "\n",
    "## 1. Installation\n",
    "\n",
    "`pip install pyuppaal`\n",
    "\n",
    "## 2. Before Coding\n",
    "\n",
    "Be sure to set the `verifyta_path` in your first line of code, which serves as model checking engine: [Download UPPAAL4.x/5.x](https://uppaal.org/downloads/).\n",
    "\n",
    "`pyuppaal.set_verifyta_path(\"your/path/to//verifyta.exe\")`\n"
   ]
  },
  {
   "cell_type": "markdown",
   "metadata": {},
   "source": [
    "## 3. Load, Edit, and Verify a Model\n",
    "\n",
    "1. Firstly we load the model [demo.xml](https://github.com/Jack0Chan/PyUPPAAL/blob/main/src/test_demos/demo.xml) shown below. \n",
    "2. Then you can verify, and return the verify results as terminal outputs, or parsed SimTrace.\n",
    "3. In this demo, we just edit the `queries` of the `.xml` model, and we also provide a demo showing how to edit the template, locations, edges, etc.: [Demo-Scripted Model Construction](https://github.com/Jack0Chan/PyUPPAAL/blob/main/src/test_demos/Demo4-Scripted%20Model%20Construction.ipynb).\n",
    "\n",
    "<img src=https://raw.githubusercontent.com/Jack0Chan/pyuppaal/main/src/test_demos/figs/demo.png width=250 />"
   ]
  },
  {
   "cell_type": "code",
   "execution_count": 1,
   "metadata": {},
   "outputs": [
    {
     "name": "stdout",
     "output_type": "stream",
     "text": [
      "pyuppaal version: 1.2.1\n",
      "\n",
      "======== terminal res ========\n",
      "Writing example trace to demo-1.xtr\n",
      "Options for the verification:\n",
      "  Generating shortest trace\n",
      "  Search order is breadth first\n",
      "  Using conservative space optimisation\n",
      "  Seed is 1713425560\n",
      "  State space representation uses minimal constraint systems\n",
      "\u001b[2K\n",
      "Verifying formula 1 at /nta/queries/query[1]/formula\n",
      "\u001b[2K -- Formula is satisfied.\n",
      "\n",
      "======== parsed res ========\n",
      "untime pattern: ['a', 'b']\n",
      "full trace: State [0]: ['P1.start']\n",
      "global_variables [0]: None\n",
      "Clock_constraints [0]: [t(0) - P1.t ≤ 0; P1.t - t(0) ≤ 10; ]\n",
      "transitions [0]: a: P1 -> ; P1.start -> P1._id2;\n",
      "-----------------------------------\n",
      "State [1]: ['P1._id2']\n",
      "global_variables [1]: None\n",
      "Clock_constraints [1]: [t(0) - P1.t ≤ -10; ]\n",
      "transitions [1]: b: P1 -> ; P1._id2 -> P1.pass;\n",
      "-----------------------------------\n",
      "State [2]: ['P1.pass']\n",
      "global_variables [2]: None\n",
      "Clock_constraints [2]: [t(0) - P1.t ≤ -10; ]\n",
      "\n"
     ]
    }
   ],
   "source": [
    "import pyuppaal\n",
    "from pyuppaal import UModel\n",
    "\n",
    "print(f\"pyuppaal version: {pyuppaal.__version__}\\n\")\n",
    "pyuppaal.set_verifyta_path(r\"C:\\Users\\10262\\Documents\\GitHub\\cav2024\\bin\\uppaal64-4.1.26\\bin-Windows\\verifyta.exe\")\n",
    "\n",
    "umodel = UModel('demo.xml') # load the model\n",
    "umodel.queries = ['E<> P1.pass']\n",
    "\n",
    "# verify and return the terminal result.\n",
    "print(f\"======== terminal res ========\\n{umodel.verify()}\")\n",
    "\n",
    "# verify and return the parsed trace as simulation trace: SimTrace.\n",
    "simulation_trace = umodel.easy_verify() \n",
    "print(\"======== parsed res ========\") \n",
    "print(f\"untime pattern: {simulation_trace.untime_pattern}\")\n",
    "print(f\"full trace: {simulation_trace}\")"
   ]
  },
  {
   "cell_type": "markdown",
   "metadata": {},
   "source": [
    "## 4. Find all patterns\n",
    "\n",
    "Now we want find all possible patterns that leads to `P1.pass`. The red line is pattern1, and the green line is pattern2.\n",
    "\n",
    "<img src=https://raw.githubusercontent.com/Jack0Chan/pyuppaal/main/src/test_demos/figs/demo_patterns.png width=250 />"
   ]
  },
  {
   "cell_type": "code",
   "execution_count": 2,
   "metadata": {},
   "outputs": [
    {
     "name": "stdout",
     "output_type": "stream",
     "text": [
      "pattern1:  ['a', 'b']\n",
      "pattern2:  ['c', 'd']\n"
     ]
    }
   ],
   "source": [
    "for i, st in enumerate(umodel.find_all_patterns()):\n",
    "    print(f'pattern{i+1}: ', st.untime_pattern)"
   ]
  },
  {
   "cell_type": "markdown",
   "metadata": {},
   "source": [
    "## 4. Verify with Multi-threads"
   ]
  },
  {
   "cell_type": "code",
   "execution_count": 3,
   "metadata": {},
   "outputs": [
    {
     "name": "stdout",
     "output_type": "stream",
     "text": [
      "1.2.1\n",
      "Verify with for loop, time usage 9.384526014328003\n",
      "Verify with multi-threads, time usage 1.61281418800354\n"
     ]
    }
   ],
   "source": [
    "import pyuppaal as pyu\n",
    "import time\n",
    "import multiprocessing.dummy as mp\n",
    "\n",
    "print(pyu.__version__)\n",
    "# set verifyta path\n",
    "pyu.set_verifyta_path(r\"C:\\Users\\10262\\Documents\\GitHub\\cav2024\\bin\\uppaal64-4.1.26\\bin-Windows\\verifyta.exe\")\n",
    "\n",
    "model_path_list = ['demo.xml', 'demo_new.xml'] * 100\n",
    "trace_path_list = ['demo_trace.xtr', 'demo_new_grace.xtr'] * 100\n",
    "# for loop\n",
    "t0 = time.time()\n",
    "for model, trace in zip(model_path_list, trace_path_list):\n",
    "    pyu.Verifyta().verify(model_path=model, trace_path=trace)\n",
    "print(f'Verify with for loop, time usage {time.time() - t0}')\n",
    "\n",
    "# multi-threads\n",
    "t0 = time.time()\n",
    "# pyu.Verifytaeasy_verify(model_path=model_path_list, trace_path=trace_path_list, num_threads=20)\n",
    "p = mp.Pool()\n",
    "p.starmap(pyu.Verifyta().verify, zip(model_path_list, trace_path_list))\n",
    "print(f'Verify with multi-threads, time usage {time.time() - t0}')\n"
   ]
  },
  {
   "cell_type": "markdown",
   "metadata": {},
   "source": [
    "## 5. Get Communication Graph\n",
    "\n",
    "For models with multiple processes, you can use `umod.get_communication_graph()` method to visualize the sturcture of your UPPAAL model.\n",
    "\n",
    "An example communication graph of a complex model in [Demo_PipeNet](https://pyuppaal.readthedocs.io/en/latest/Demo1-PipeNet.html#visualize-the-architecture) is shown below:\n",
    "\n",
    "[![](https://mermaid.ink/img/pako:eNpVjs0KwjAQhF-l7Lk56DEHT714UUGPC7JttjaQpCHdiFL67kYo_pxmmG8GZoZuNAwaboniUF0aDCcb-cCCYR9iLnJsJ053TmuglH3LtSXnlNp92qtRih9WtoV8d39o84OgBs_JkzXlwYyhqhBkYM8IuljDPWUnCBiWUqUs4_kZOtCSMteQoyHhxlL57kH35CZeXq-ESg8?type=jpg)](https://mermaid.live/edit#pako:eNpVjs0KwjAQhF-l7Lk56DEHT714UUGPC7JttjaQpCHdiFL67kYo_pxmmG8GZoZuNAwaboniUF0aDCcb-cCCYR9iLnJsJ053TmuglH3LtSXnlNp92qtRih9WtoV8d39o84OgBs_JkzXlwYyhqhBkYM8IuljDPWUnCBiWUqUs4_kZOtCSMteQoyHhxlL57kH35CZeXq-ESg8)"
   ]
  },
  {
   "cell_type": "markdown",
   "metadata": {},
   "source": [
    "## 6. Backup of old docs\n",
    "\n",
    "Demos are provided to help users get familiar with `PyUPPAAL` (can not be rendered by github):\n",
    "<div style=\"display: flex; flex-wrap: wrap; align-items: flex-start;\">\n",
    "    <div style=\"margin: 10px; width: 300px;\">\n",
    "        <img src=\"https://raw.githubusercontent.com/Jack0Chan/pyuppaal/main/src/test_demos/figs/pipeNetPatterns.png\" style=\"width: 300px; height: 200px; object-fit: cover;\">\n",
    "        <h5 style=\"margin: 0 0 4px 0; font-size: 14px;\"><a href=\"https://github.com/Jack0Chan/PyUPPAAL/blob/main/src/test_demos/Demo1-PipeNet.ipynb\">Demo-PipeNet</a></h5>\n",
    "        <p style=\"margin: 0; font-size: 14px;\">This demo demonstrates how to</p>\n",
    "        <ol style=\"margin: 0; padding-left: 20px; font-size: 14px;\">\n",
    "            <li>Load and verify a model.</li>\n",
    "            <li>Model the input & observation sequence.</li>\n",
    "            <li>Build communication graph.</li>\n",
    "            <li>Find all patterns.</li>\n",
    "        </ol>\n",
    "    </div>\n",
    "    <div style=\"margin: 10px; width: 300px;\">\n",
    "        <img src=\"https://raw.githubusercontent.com/Jack0Chan/pyuppaal/main/src/test_demos/figs/scripted_model_building_receiver.png\" style=\"width: 300px; height: 200px; object-fit: cover;\" alt=\"描述2\">\n",
    "        <h5 style=\"margin: 0 0 4px 0; font-size: 14px;\"><a href=\"https://github.com/Jack0Chan/PyUPPAAL/blob/main/src/test_demos/Demo4-Scripted%20Model%20Construction.ipynb\">Demo-Scripted Model Construction</a></h5>\n",
    "        <p style=\"margin: 0; font-size: 14px;\">This demo constructs a model solely with PyUPPAAL APIs, including:</p>\n",
    "        <ol style=\"margin: 0; padding-left: 20px; font-size: 14px;\">\n",
    "            <li>Construct <code>Template</code> with <code>Edge</code>, <code>Location</code>.</li>\n",
    "            <li>Set <code>Declarations</code>, <code>Systems</code>, <code>Queries</code>.</li>\n",
    "            <li>Verify the constructed model.</li>\n",
    "        </ol>\n",
    "    </div>\n",
    "    <div style=\"margin: 10px; width: 300px;\">\n",
    "        <img src=\"https://raw.githubusercontent.com/Jack0Chan/pyuppaal/main/src/test_demos/figs/pedestrian_overall.png\" style=\"width: 300px; height: 200px; object-fit: cover;\" alt=\"描述3\">\n",
    "        <h5 style=\"margin: 0 0 4px 0; font-size: 14px;\"><a href=\"https://github.com/Jack0Chan/PyUPPAAL/blob/main/src/test_demos/Demo2-Pedestrian.ipynb\">Demo-Pedestrain</a></h5>\n",
    "        <p style=\"margin: 0; font-size: 14px;\">This demo shows how to identify all event sequences that could result in a fault state, and see you can get ALL possible patterns only with PyUPPAAL <code>find_all_patterns()</code>.</p>\n",
    "    </div>\n",
    "    <div style=\"margin: 10px; width: 300px;\">\n",
    "        <img src=\"https://raw.githubusercontent.com/Jack0Chan/pyuppaal/main/src/test_demos/figs/npn_monitors.png\" style=\"width: 300px; height: 200px; object-fit: cover;\" alt=\"描述3\">\n",
    "        <h5 style=\"margin: 0 0 4px 0; font-size: 14px;\"><a href=\"https://github.com/Jack0Chan/PyUPPAAL/blob/main/src/test_demos/Demo5-Trace%20Parser.ipynb\">Demo-Trace Parser</a></h5>\n",
    "        <p style=\"margin: 0; font-size: 14px; font-size: 14px;\">In this demo, you will learn how to model the <code>input</code> and <code>observations</code> events of a descrete event system (DES), and how to extract information from parsed counter example.</p>\n",
    "    </div>\n",
    "    <div style=\"margin: 10px; width: 300px;\">\n",
    "        <img src=\"https://raw.githubusercontent.com/Jack0Chan/pyuppaal/main/src/test_demos/figs/diagnosis_identification.png\" style=\"width: 300px; height: 200px; object-fit: cover;\" alt=\"描述3\">\n",
    "        <h5 style=\"margin: 0 0 4px 0; font-size: 14px;\"><a href=\"https://github.com/Jack0Chan/PyUPPAAL/blob/main/src/test_demos/Demo3-Fault%20Diagnosis.ipynb\">Demo-Fault Identification and Diagnosability</a></h5>\n",
    "        <p style=\"margin: 0; font-size: 14px;\">In this demo, you will analyze the identification and diagnosability of certain fault, wich advanced methods of <code>pyuppaal</code>.</p>\n",
    "    </div>\n",
    "</div>"
   ]
  },
  {
   "cell_type": "markdown",
   "metadata": {},
   "source": []
  }
 ],
 "metadata": {
  "kernelspec": {
   "display_name": "Python 3 (ipykernel)",
   "language": "python",
   "name": "python3"
  },
  "language_info": {
   "codemirror_mode": {
    "name": "ipython",
    "version": 3
   },
   "file_extension": ".py",
   "mimetype": "text/x-python",
   "name": "python",
   "nbconvert_exporter": "python",
   "pygments_lexer": "ipython3",
   "version": "3.9.19"
  },
  "vscode": {
   "interpreter": {
    "hash": "cbab80897c756e21206e83b1602264f7bed4b229d7a86fb97552ee165cb35ec2"
   }
  }
 },
 "nbformat": 4,
 "nbformat_minor": 2
}
