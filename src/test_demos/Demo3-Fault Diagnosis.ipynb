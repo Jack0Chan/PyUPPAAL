{
 "cells": [
  {
   "cell_type": "markdown",
   "metadata": {},
   "source": [
    "# Demo3 - Fault Diagnosis\n",
    "\n",
    "**Note: we are woking on CAV-2024 tool paper. The documentation will be updated to a structure similar to Demo1-PipeNet before 2024.4.1.**\n",
    "\n",
    "<img src=https://raw.githubusercontent.com/Jack0Chan/pyuppaal/main/src/test_demos/models.jpg width=300 />"
   ]
  },
  {
   "cell_type": "code",
   "execution_count": 3,
   "metadata": {},
   "outputs": [
    {
     "name": "stdout",
     "output_type": "stream",
     "text": [
      "1.2.0\n"
     ]
    }
   ],
   "source": [
    "# setup pyuppaal\n",
    "import pyuppaal\n",
    "from pyuppaal import UModel\n",
    "\n",
    "print(pyuppaal.__version__)\n",
    "pyuppaal.set_verifyta_path(r\"C:\\Users\\Taco\\Documents\\GitHub\\cav2024\\bin\\uppaal64-4.1.26\\bin-Windows\\verifyta.exe\")"
   ]
  },
  {
   "cell_type": "code",
   "execution_count": 4,
   "metadata": {},
   "outputs": [
    {
     "name": "stdout",
     "output_type": "stream",
     "text": [
      "Model A is 3-diagnosable: True.\n",
      "Model B is 3-diagnosable: False, reason: ['c', 'a', 'b', 'a'].\n",
      "['a', 'b', 'a'] can detect 'f'. Model A: True, Model B: False.\n",
      "['a', 'a', 'a'] can detect 'f'. Model A: True, Model B: True.\n"
     ]
    }
   ],
   "source": [
    "# load models, and set observations, unobvservable events\n",
    "m_a, m_b = UModel('model_A.xml'), UModel('model_B.xml')\n",
    "sigma_o, sigma_un = ['a', 'b', 'c'], ['f']\n",
    "\n",
    "# n-diagnosability for fault 'f'\n",
    "res_a = m_a.fault_diagnosability(fault='f', n=3, sigma_o=sigma_o, sigma_un=sigma_un)\n",
    "res_b = m_b.fault_diagnosability(fault='f', n=3, sigma_o=sigma_o, sigma_un=sigma_un)\n",
    "print(f\"Model A is 3-diagnosable: {res_a[0]}.\")\n",
    "print(f\"Model B is 3-diagnosable: {res_b[0]}, reason: {res_b[1].untime_pattern}.\")\n",
    "# identification for fault 'f' with o1 = ['a', 'b', 'a'] and o2 = ['a', 'a', 'a']\n",
    "o1, o2 = ['a', 'b', 'a'], ['a', 'a', 'a']\n",
    "res1_a = m_a.fault_identification(o1, fault='f', sigma_o=sigma_o, sigma_un=sigma_un)\n",
    "res1_b = m_b.fault_identification(o1, fault='f', sigma_o=sigma_o, sigma_un=sigma_un)\n",
    "print(f\"{o1} can detect 'f'. Model A: {res1_a[0]}, Model B: {res1_b[0]}.\")\n",
    "res2_a = m_a.fault_identification(o2, fault='f', sigma_o=sigma_o, sigma_un=sigma_un)\n",
    "res2_b = m_b.fault_identification(o2, fault='f', sigma_o=sigma_o, sigma_un=sigma_un)\n",
    "print(f\"{o2} can detect 'f'. Model A: {res2_a[0]}, Model B: {res2_b[0]}.\")"
   ]
  }
 ],
 "metadata": {
  "kernelspec": {
   "display_name": "python310",
   "language": "python",
   "name": "python3"
  },
  "language_info": {
   "codemirror_mode": {
    "name": "ipython",
    "version": 3
   },
   "file_extension": ".py",
   "mimetype": "text/x-python",
   "name": "python",
   "nbconvert_exporter": "python",
   "pygments_lexer": "ipython3",
   "version": "3.10.13"
  }
 },
 "nbformat": 4,
 "nbformat_minor": 2
}
