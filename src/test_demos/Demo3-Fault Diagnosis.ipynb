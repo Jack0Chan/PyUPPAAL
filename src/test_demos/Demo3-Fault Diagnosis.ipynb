{
 "cells": [
  {
   "cell_type": "markdown",
   "metadata": {},
   "source": [
    "# Demo3 - Fault Diagnosis\n",
    "\n",
    "**Note: we are woking on CAV-2024 tool paper. The documentation will be updated to a structure similar to Demo1-PipeNet before 2024.4.1.**\n",
    "\n",
    "<img src=https://raw.githubusercontent.com/Jack0Chan/pyuppaal/main/src/test_demos/models.jpg width=300 />"
   ]
  },
  {
   "cell_type": "code",
   "execution_count": 1,
   "metadata": {},
   "outputs": [
    {
     "name": "stdout",
     "output_type": "stream",
     "text": [
      "1.2.0\n"
     ]
    }
   ],
   "source": [
    "# setup pyuppaal\n",
    "import pyuppaal\n",
    "from pyuppaal import UModel\n",
    "\n",
    "print(pyuppaal.__version__)\n",
    "pyuppaal.set_verifyta_path(r\"C:\\Users\\Taco\\Documents\\GitHub\\cav2024\\bin\\uppaal64-4.1.26\\bin-Windows\\verifyta.exe\")"
   ]
  },
  {
   "cell_type": "code",
   "execution_count": 2,
   "metadata": {},
   "outputs": [
    {
     "name": "stdout",
     "output_type": "stream",
     "text": [
      "['a', 'a', 'a'] can detect 'f'. Model A: True,  Model B: True.\n",
      "['a', 'b', 'a'] can detect 'f'. Model A: False, Model B: True.\n",
      "Model A is 3-diagnosable: False, reason: ['c', 'a', 'b', 'a'].\n",
      "Model B is 3-diagnosable: True.\n"
     ]
    }
   ],
   "source": [
    "m_a, m_b = UModel('model_A.xml'), UModel('model_B.xml')\n",
    "sigma_o, sigma_un = ['a', 'b', 'c'], ['f']\n",
    "\n",
    "# identification for fault 'f' with o1 = ['a', 'a', 'a'] and o2 = ['a', 'b', 'a']\n",
    "o1, o2 = ['a', 'a', 'a'], ['a', 'b', 'a']\n",
    "res1_a = m_a.fault_identification(o1, fault='f', sigma_o=sigma_o, sigma_un=sigma_un)\n",
    "res1_b = m_b.fault_identification(o1, fault='f', sigma_o=sigma_o, sigma_un=sigma_un)\n",
    "print(f\"{o1} can detect 'f'. Model A: {res1_a[0]},  Model B: {res1_b[0]}.\")\n",
    "res2_a = m_a.fault_identification(o2, fault='f', sigma_o=sigma_o, sigma_un=sigma_un)\n",
    "res2_b = m_b.fault_identification(o2, fault='f', sigma_o=sigma_o, sigma_un=sigma_un)\n",
    "print(f\"{o2} can detect 'f'. Model A: {res2_a[0]}, Model B: {res2_b[0]}.\")\n",
    "# n-diagnosability for fault 'f', for n=3\n",
    "res_a = m_a.fault_diagnosability(fault='f', n=3, sigma_o=sigma_o, sigma_un=sigma_un)\n",
    "res_b = m_b.fault_diagnosability(fault='f', n=3, sigma_o=sigma_o, sigma_un=sigma_un)\n",
    "print(f\"Model A is 3-diagnosable: {res_a[0]}, reason: {res_a[1].untime_pattern}.\")\n",
    "print(f\"Model B is 3-diagnosable: {res_b[0]}.\")"
   ]
  }
 ],
 "metadata": {
  "kernelspec": {
   "display_name": "python310",
   "language": "python",
   "name": "python3"
  },
  "language_info": {
   "codemirror_mode": {
    "name": "ipython",
    "version": 3
   },
   "file_extension": ".py",
   "mimetype": "text/x-python",
   "name": "python",
   "nbconvert_exporter": "python",
   "pygments_lexer": "ipython3",
   "version": "3.10.13"
  }
 },
 "nbformat": 4,
 "nbformat_minor": 2
}
