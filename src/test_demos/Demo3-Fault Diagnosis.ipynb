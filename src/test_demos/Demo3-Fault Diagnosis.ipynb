{
 "cells": [
  {
   "cell_type": "markdown",
   "metadata": {},
   "source": [
    "# Demo3 - Fault Diagnosis and Identification\n",
    "\n",
    "This demo shows two slightly different automata, `Model_A` and `Model_B`, with observable actions $\\Sigma^o$ = `[a, b, c]`, and unobservable actions $\\Sigma^{un}$ = `[f]`. The following four propositions presented are logically straightforward and easily reasoned, as they are based on a simple example:\n",
    "\n",
    "1. Suffix `aaa` implies `f`. For suffix `aaa`, both `Model_A` and `Model_B` identify `f`, as it can only be observed post-occurrence of `f`.\n",
    "2. Suffix `aba` does not confirm $f$ in `Model_A` The sequence $aba$ can occur during normal and fault conditions in `Model_A`. Therefore, `aba` does not conclusively suggest `f` has occurred.\n",
    "3. Fault `f` in `Model_A` is not 3-Diagnosable. Given that the observation suffix `aba`, covering three events, occurs in both normal and fault modes of `Model_A`, it's impossible to unequivocally diagnose `f` within this span. Thus, `Model_A` is not 3-diagnosable.\n",
    "4. Fault `f` in `Model_B` is 3-Diagnosable. In `Model_B`, the three-event suffixes `[abb, bbb]` are exclusive to the normal mode and absent in the fault mode. Conversely, `[aaa, aab, aba, bab, baa, bab]` are unique to the fault mode. The absence of common suffixes between modes in `Model_B` guarantees its 3-diagnosability, ensuring accurate fault identification from any three-event sequence.\n",
    "5. You can download the models: [model_A.xml](https://github.com/Jack0Chan/PyUPPAAL/blob/main/src/test_demos/model_A.xml) and [model_B.xml](https://github.com/Jack0Chan/PyUPPAAL/blob/main/src/test_demos/model_B.xml).\n",
    "\n",
    "<img src=https://raw.githubusercontent.com/Jack0Chan/pyuppaal/main/src/test_demos/figs/diagnosis_identification.png width=400 />"
   ]
  },
  {
   "cell_type": "code",
   "execution_count": 3,
   "metadata": {},
   "outputs": [
    {
     "name": "stdout",
     "output_type": "stream",
     "text": [
      "1.2.1\n"
     ]
    }
   ],
   "source": [
    "import pyuppaal\n",
    "from pyuppaal import UModel\n",
    "\n",
    "print(pyuppaal.__version__)\n",
    "pyuppaal.set_verifyta_path(r\"C:\\Users\\10262\\Documents\\GitHub\\cav2024\\bin\\uppaal64-4.1.26\\bin-Windows\\verifyta.exe\")"
   ]
  },
  {
   "cell_type": "code",
   "execution_count": 2,
   "metadata": {},
   "outputs": [
    {
     "name": "stdout",
     "output_type": "stream",
     "text": [
      "['a', 'a', 'a'] can identify 'f'. Model A: True,  Model B: True.\n",
      "['a', 'b', 'a'] can identify 'f'. Model A: False, Model B: True.\n",
      "Model A is 3-diagnosable: False, reason: ['c', 'a', 'b', 'a'].\n",
      "Model B is 3-diagnosable: True.\n"
     ]
    }
   ],
   "source": [
    "m_a, m_b = UModel('model_A.xml'), UModel('model_B.xml')\n",
    "sigma_o, sigma_un = ['a', 'b', 'c'], ['f']\n",
    "\n",
    "# identification for fault 'f' with o1 = ['a', 'a', 'a'] and o2 = ['a', 'b', 'a']\n",
    "o1, o2 = ['a', 'a', 'a'], ['a', 'b', 'a']\n",
    "res1_a = m_a.fault_identification(o1, fault='f', sigma_o=sigma_o, sigma_un=sigma_un)\n",
    "res1_b = m_b.fault_identification(o1, fault='f', sigma_o=sigma_o, sigma_un=sigma_un)\n",
    "print(f\"{o1} can identify 'f'. Model A: {res1_a[0]},  Model B: {res1_b[0]}.\")\n",
    "res2_a = m_a.fault_identification(o2, fault='f', sigma_o=sigma_o, sigma_un=sigma_un)\n",
    "res2_b = m_b.fault_identification(o2, fault='f', sigma_o=sigma_o, sigma_un=sigma_un)\n",
    "print(f\"{o2} can identify 'f'. Model A: {res2_a[0]}, Model B: {res2_b[0]}.\")\n",
    "# n-diagnosability for fault 'f', for n=3\n",
    "res2_a = m_a.fault_diagnosability(fault='f', n=3, sigma_o=sigma_o, sigma_un=sigma_un)\n",
    "res2_b = m_b.fault_diagnosability(fault='f', n=3, sigma_o=sigma_o, sigma_un=sigma_un)\n",
    "print(f\"Model A is 3-diagnosable: {res2_a[0]}, reason: {res2_a[1].untime_pattern}.\")\n",
    "print(f\"Model B is 3-diagnosable: {res2_b[0]}.\")\n",
    "\n",
    "assert res1_a[0] == True\n",
    "assert res1_b[0] == True\n",
    "assert res2_a[0] == False\n",
    "assert res2_b[0] == True"
   ]
  }
 ],
 "metadata": {
  "kernelspec": {
   "display_name": "python310",
   "language": "python",
   "name": "python3"
  },
  "language_info": {
   "codemirror_mode": {
    "name": "ipython",
    "version": 3
   },
   "file_extension": ".py",
   "mimetype": "text/x-python",
   "name": "python",
   "nbconvert_exporter": "python",
   "pygments_lexer": "ipython3",
   "version": "3.9.19"
  }
 },
 "nbformat": 4,
 "nbformat_minor": 2
}
