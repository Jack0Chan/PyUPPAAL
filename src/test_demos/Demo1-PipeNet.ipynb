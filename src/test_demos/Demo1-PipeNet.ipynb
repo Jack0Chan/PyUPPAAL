{
 "cells": [
  {
   "cell_type": "markdown",
   "metadata": {},
   "source": [
    "# Demo1 - PipeNet\n",
    "\n",
    "We will use [demo_PipeNet.xml](https://github.com/Jack0Chan/pyuppaal/blob/main/src/test_integration/demo_PipeNet.xml) as an example to help understand how `pauppaal` can contribute to scientific research **partially observable** system."
   ]
  },
  {
   "cell_type": "markdown",
   "metadata": {},
   "source": [
    "### 1. Problem Description\n",
    "\n",
    "There is a pipe-net that has invisible paths between the `Entry` and three different `Exits`. One day, two balls are put into the `Entry` at the global time (gclk) 0 and 1000, and are observed from `Exit1` and `Exit2` at the global time 500 and 1550. \n",
    "\n",
    "You want to know what happends to the balls -- all possible paths that can lead to such a input-observation."
   ]
  },
  {
   "cell_type": "markdown",
   "metadata": {},
   "source": [
    "### 2. Modeling the PipeNet\n",
    "\n",
    "We have modeled the PipeNet with UPPAAL, you can download via [this link].\n",
    "\n",
    "As shown in the figure below, the guard on the edge is the falling time for each path, e.g., if a ball goes through hidden_path1, it will take `T1_Min` to `T1_Max` seconds.\n",
    "\n",
    "<img src=https://raw.githubusercontent.com/Jack0Chan/pyuppaal/main/src/test_integration/figs/pipeNetModel.png width=400 />"
   ]
  },
  {
   "cell_type": "markdown",
   "metadata": {},
   "source": [
    "### 3. Load the Model and Set Inputs & Observations\n",
    "\n",
    "Now we will \n",
    "1. add an `Input` template that puts the balls into the `Entry` at `gclk==0` and `gclk==1000`.\n",
    "2. add an `Observet` template that indicates the observations from `Exit1` at `gclk==500`, and `Exit2` at `gclk==1550`.\n",
    "3. Get one possible pattern that simulates the inputs & observations.\n",
    "\n",
    "In pyuppaal, inputs & observations are described by `TimedActions`, which is a class with three lists:\n",
    "1. `actions: List[str]`, \n",
    "2. `lower bounds: List[int]`, suggesting the guard and \n",
    "3. `upper bounds: List[int]`, suggesting the invariant."
   ]
  },
  {
   "cell_type": "code",
   "execution_count": 2,
   "metadata": {},
   "outputs": [
    {
     "name": "stdout",
     "output_type": "stream",
     "text": [
      "pattern: ['input_ball', 'hidden_path1', 'hidden_path3', 'exit1', 'input_ball', 'hidden_path1', 'hidden_path4', 'exit2']\n",
      "trace: State [0]: ['PipeNet.Idle', 'Input._id8', 'Observer._id11']\n",
      "global_variables [0]: None\n",
      "Clock_constraints [0]: [t(0) - gclk ≤ 0; t(0) - PipeNet.t ≤ 0; t(0) - Input.gclk ≤ 0; t(0) - Observer.gclk ≤ 0; gclk - PipeNet.t ≤ 0; PipeNet.t - Input.gclk ≤ 0; Input.gclk - Observer.gclk ≤ 0; Observer.gclk - t(0) ≤ 0; ]\n",
      "transitions [0]: input_ball: Input -> PipeNet; Input._id8 -> Input._id9; PipeNet.Idle -> PipeNet.Cross1;\n",
      "-----------------------------------\n",
      "State [1]: ['PipeNet.Cross1', 'Input._id9', 'Observer._id11']\n",
      "global_variables [1]: None\n",
      "Clock_constraints [1]: [t(0) - gclk ≤ 0; t(0) - PipeNet.t ≤ 0; t(0) - Input.gclk ≤ 0; t(0) - Observer.gclk ≤ 0; gclk - t(0) ≤ 500; gclk - PipeNet.t ≤ 0; PipeNet.t - Input.gclk ≤ 0; Input.gclk - Observer.gclk ≤ 0; Observer.gclk - gclk ≤ 0; ]\n",
      "transitions [1]: hidden_path1: PipeNet -> ; PipeNet.Cross1 -> PipeNet.Cross2;\n",
      "-----------------------------------\n",
      "State [2]: ['PipeNet.Cross2', 'Input._id9', 'Observer._id11']\n",
      "global_variables [2]: None\n",
      "Clock_constraints [2]: [t(0) - gclk ≤ 0; t(0) - PipeNet.t ≤ 0; t(0) - Input.gclk ≤ 0; t(0) - Observer.gclk ≤ 0; gclk - t(0) ≤ 500; gclk - PipeNet.t ≤ 300; gclk - Input.gclk ≤ 0; PipeNet.t - gclk ≤ -200; Input.gclk - Observer.gclk ≤ 0; Observer.gclk - gclk ≤ 0; ]\n",
      "transitions [2]: hidden_path3: PipeNet -> ; PipeNet.Cross2 -> PipeNet.Exit1;\n",
      "-----------------------------------\n",
      "State [3]: ['PipeNet.Exit1', 'Input._id9', 'Observer._id11']\n",
      "global_variables [3]: None\n",
      "Clock_constraints [3]: [t(0) - gclk ≤ 0; t(0) - PipeNet.t ≤ -200; t(0) - Input.gclk ≤ 0; t(0) - Observer.gclk ≤ 0; gclk - t(0) ≤ 500; gclk - Input.gclk ≤ 0; PipeNet.t - gclk ≤ -200; Input.gclk - Observer.gclk ≤ 0; Observer.gclk - gclk ≤ 0; ]\n",
      "transitions [3]: exit1: PipeNet -> Observer; PipeNet.Exit1 -> PipeNet.Reset; Observer._id11 -> Observer._id12;\n",
      "-----------------------------------\n",
      "State [4]: ['PipeNet.Reset', 'Input._id9', 'Observer._id12']\n",
      "global_variables [4]: None\n",
      "Clock_constraints [4]: [t(0) - gclk ≤ -500; t(0) - PipeNet.t ≤ -200; t(0) - Input.gclk ≤ 0; t(0) - Observer.gclk ≤ 0; gclk - Input.gclk ≤ 0; PipeNet.t - t(0) ≤ 300; Input.gclk - Observer.gclk ≤ 0; Observer.gclk - t(0) ≤ 500; ]\n",
      "transitions [4]: None: PipeNet -> PipeNet; PipeNet.Reset -> PipeNet.Idle;\n",
      "-----------------------------------\n",
      "State [5]: ['PipeNet.Idle', 'Input._id9', 'Observer._id12']\n",
      "global_variables [5]: None\n",
      "Clock_constraints [5]: [t(0) - gclk ≤ -500; t(0) - PipeNet.t ≤ 0; t(0) - Input.gclk ≤ 0; t(0) - Observer.gclk ≤ 0; gclk - t(0) ≤ 1000; gclk - PipeNet.t ≤ 300; gclk - Input.gclk ≤ 0; PipeNet.t - gclk ≤ -200; Input.gclk - Observer.gclk ≤ 0; Observer.gclk - gclk ≤ 0; ]\n",
      "transitions [5]: input_ball: Input -> PipeNet; Input._id9 -> Input.pass; PipeNet.Idle -> PipeNet.Cross1;\n",
      "-----------------------------------\n",
      "State [6]: ['PipeNet.Cross1', 'Input.pass', 'Observer._id12']\n",
      "global_variables [6]: None\n",
      "Clock_constraints [6]: [t(0) - gclk ≤ -1000; t(0) - PipeNet.t ≤ 0; t(0) - Input.gclk ≤ 0; t(0) - Observer.gclk ≤ 0; gclk - t(0) ≤ 1550; gclk - PipeNet.t ≤ 1000; PipeNet.t - Input.gclk ≤ -1000; Input.gclk - Observer.gclk ≤ 0; Observer.gclk - gclk ≤ 0; ]\n",
      "transitions [6]: hidden_path1: PipeNet -> ; PipeNet.Cross1 -> PipeNet.Cross2;\n",
      "-----------------------------------\n",
      "State [7]: ['PipeNet.Cross2', 'Input.pass', 'Observer._id12']\n",
      "global_variables [7]: None\n",
      "Clock_constraints [7]: [t(0) - gclk ≤ 0; t(0) - PipeNet.t ≤ 0; t(0) - Input.gclk ≤ 0; t(0) - Observer.gclk ≤ 0; gclk - t(0) ≤ 1550; gclk - PipeNet.t ≤ 1300; gclk - Input.gclk ≤ 0; PipeNet.t - gclk ≤ -1200; Input.gclk - Observer.gclk ≤ 0; Observer.gclk - gclk ≤ 0; ]\n",
      "transitions [7]: hidden_path4: PipeNet -> ; PipeNet.Cross2 -> PipeNet.Exit2;\n",
      "-----------------------------------\n",
      "State [8]: ['PipeNet.Exit2', 'Input.pass', 'Observer._id12']\n",
      "global_variables [8]: None\n",
      "Clock_constraints [8]: [t(0) - gclk ≤ 0; t(0) - PipeNet.t ≤ -200; t(0) - Input.gclk ≤ 0; t(0) - Observer.gclk ≤ 0; gclk - t(0) ≤ 1550; gclk - PipeNet.t ≤ 1300; gclk - Input.gclk ≤ 0; PipeNet.t - t(0) ≤ 300; PipeNet.t - gclk ≤ -1200; Input.gclk - Observer.gclk ≤ 0; Observer.gclk - gclk ≤ 0; ]\n",
      "transitions [8]: exit2: PipeNet -> Observer; PipeNet.Exit2 -> PipeNet.Reset; Observer._id12 -> Observer.pass;\n",
      "-----------------------------------\n",
      "State [9]: ['PipeNet.Reset', 'Input.pass', 'Observer.pass']\n",
      "global_variables [9]: None\n",
      "Clock_constraints [9]: [t(0) - gclk ≤ -1550; t(0) - PipeNet.t ≤ -250; t(0) - Input.gclk ≤ 0; t(0) - Observer.gclk ≤ 0; gclk - Input.gclk ≤ 0; PipeNet.t - t(0) ≤ 300; Input.gclk - Observer.gclk ≤ 0; Observer.gclk - t(0) ≤ 1550; ]\n",
      "\n"
     ]
    }
   ],
   "source": [
    "import pyuppaal as pyu\n",
    "\n",
    "VERIFYTA_PATH = \"uppaal\\\\uppaal64-4.1.26\\\\bin-Windows\\\\verifyta.exe\"\n",
    "# set verifyta path\n",
    "pyu.set_verifyta_path(VERIFYTA_PATH)\n",
    "\n",
    "# Load the `xml` model\n",
    "pipeNet = pyu.UModel(\"demo_PipeNet.xml\")\n",
    "# save as a new file in order not to overwrite current file\n",
    "pipeNet = pipeNet.save_as(\"demo_PipeNet_new.xml\")\n",
    "\n",
    "# Define the input.\n",
    "inputs = [('input_ball', 0, 0), ('input_ball', 1000, 1000)]\n",
    "# Define the observation.\n",
    "observations = [('exit1', 500, 500), ('exit2', 1550, 1550)]\n",
    "# Add input template.\n",
    "pipeNet.add_input_monitor(inputs)\n",
    "\n",
    "# Focused Actions is xxxxxxxxx(if this comment is not completed, please report the issue :>, thanks)\n",
    "fc = ['exit1', 'exit2', 'exit3']\n",
    "# Add observation template.\n",
    "pipeNet.add_observer_monitor(observations, focused_actions=fc)\n",
    "\n",
    "# Query whether the model can simulate the inputs & observations\n",
    "pipeNet.queries = 'E<> Observer.pass'\n",
    "# Get one possible trace.\n",
    "trace = pipeNet.easy_verify()\n",
    "print(\"pattern:\", trace.untime_pattern)\n",
    "print(\"trace:\", trace)"
   ]
  },
  {
   "cell_type": "markdown",
   "metadata": {},
   "source": [
    "The `Input` and `Observation` template created by `pyuppaal`. The cache file `*_pattern.xml` can be found in the same directory of the input model.\n",
    "<br><br>\n",
    "<img src=\"https://raw.githubusercontent.com/Jack0Chan/pyuppaal/main/src/test_integration/figs/pipeNetInput.png\" width=300 />\n",
    "<img src=\"https://raw.githubusercontent.com/Jack0Chan/pyuppaal/main/src/test_integration/figs/pipeNetObserver.png\" width=350 />\n",
    "<img src=\"https://raw.githubusercontent.com/Jack0Chan/pyuppaal/main/src/test_integration/figs/pipeNetModel.png\" width=350 />\n",
    "<br><br>\n",
    "\n",
    "In This example, we know the exact time of the inputs & observations, and thus `lower_bounds == upper_bounds`. If you are not sure about the exact time, or you just want to add uncertainty, e.g., the first ball goes from `Exit1` at gclk $\\in$ [490, 510], you can just set the lower bound to 490, and the upper bound to 510."
   ]
  },
  {
   "cell_type": "markdown",
   "metadata": {},
   "source": [
    "### 4. Visualize the Architecture\n",
    "\n",
    "You can visualize the architecture by getting the communication graph in [mermaid](https://mermaid.live/) format. \n",
    "\n",
    "[![](https://mermaid.ink/img/pako:eNpVjs0KwjAQhF-l7Lk56DEHT714UUGPC7JttjaQpCHdiFL67kYo_pxmmG8GZoZuNAwaboniUF0aDCcb-cCCYR9iLnJsJ053TmuglH3LtSXnlNp92qtRih9WtoV8d39o84OgBs_JkzXlwYyhqhBkYM8IuljDPWUnCBiWUqUs4_kZOtCSMteQoyHhxlL57kH35CZeXq-ESg8?type=png)](https://mermaid.live/edit#pako:eNpVjs0KwjAQhF-l7Lk56DEHT714UUGPC7JttjaQpCHdiFL67kYo_pxmmG8GZoZuNAwaboniUF0aDCcb-cCCYR9iLnJsJ053TmuglH3LtSXnlNp92qtRih9WtoV8d39o84OgBs_JkzXlwYyhqhBkYM8IuljDPWUnCBiWUqUs4_kZOtCSMteQoyHhxlL57kH35CZeXq-ESg8)"
   ]
  },
  {
   "cell_type": "code",
   "execution_count": 3,
   "metadata": {},
   "outputs": [
    {
     "name": "stdout",
     "output_type": "stream",
     "text": [
      "```mermaid\n",
      "graph TD\n",
      "PipeNet\n",
      "Input\n",
      "Observer\n",
      "Input--input_ball-->PipeNet\n",
      "PipeNet--exit3-->Observer\n",
      "PipeNet--exit2-->Observer\n",
      "PipeNet--exit1-->Observer```\n"
     ]
    }
   ],
   "source": [
    "# visualize via https://mermaid.live/\n",
    "cg = pipeNet.get_communication_graph(is_beautify=False)\n",
    "print(cg)"
   ]
  },
  {
   "cell_type": "markdown",
   "metadata": {},
   "source": [
    "### 5. Find all patterns\n",
    "\n",
    "You can get all possible patterns by the following code, and all possible patterns are shown in the figure below. \n",
    "\n",
    "1. The first observation at `Exit1` is suggested by the red line. \n",
    "2. The second observation at `Exit2` is suggested by 2 the green and yellow line, meaning there are two possible patterns for this observation.\n",
    "   \n",
    "<img src=https://raw.githubusercontent.com/Jack0Chan/pyuppaal/main/src/test_integration/figs/pipeNetPatterns.png width=300 />"
   ]
  },
  {
   "cell_type": "code",
   "execution_count": 15,
   "metadata": {},
   "outputs": [
    {
     "name": "stdout",
     "output_type": "stream",
     "text": [
      "pattern1 ['input_ball', 'hidden_path1', 'hidden_path3', 'exit1', 'input_ball', 'hidden_path1', 'hidden_path4', 'exit2']\n",
      "pattern2 ['input_ball', 'hidden_path1', 'hidden_path3', 'exit1', 'input_ball', 'hidden_path2', 'hidden_path5', 'exit2']\n",
      "\n",
      "pattern1 ['input_ball', 'hidden_path1', 'hidden_path3', 'exit1', 'input_ball', 'hidden_path1', 'hidden_path4', 'exit2']\n",
      "pattern2 ['input_ball', 'hidden_path1', 'hidden_path3', 'exit1', 'input_ball', 'hidden_path2', 'hidden_path5', 'exit2']\n"
     ]
    }
   ],
   "source": [
    "# Find all possible traces.\n",
    "traces = pipeNet.find_all_patterns()\n",
    "# print patterns.\n",
    "for i, trace in enumerate(traces):\n",
    "    print(f'pattern{i+1}', trace.untime_pattern)\n",
    "print()\n",
    "assert len(traces)==2\n",
    "\n",
    "# alternative method with iterator\n",
    "all_patterns_iter =  pipeNet.find_all_patterns_iter()\n",
    "traces = list(all_patterns_iter)\n",
    "for i, trace in enumerate(traces):\n",
    "    print(f'pattern{i+1}', trace.untime_pattern)\n",
    "assert len(traces)==2"
   ]
  },
  {
   "cell_type": "markdown",
   "metadata": {},
   "source": [
    "While extracting all patterns, pyuppaal constructs Monitors based on historical patterns. The figure below shows one of the monitors constructed by pyuppaal. You can get more details from the cache file `*_pattern.xml` that is in the same directory of the input model.\n",
    "\n",
    "<img src=https://raw.githubusercontent.com/Jack0Chan/pyuppaal/main/src/test_integration/figs/pipeNetMonitor1.png width=100% />"
   ]
  },
  {
   "cell_type": "markdown",
   "metadata": {},
   "source": [
    "## Full Code"
   ]
  },
  {
   "cell_type": "code",
   "execution_count": 17,
   "metadata": {},
   "outputs": [
    {
     "name": "stdout",
     "output_type": "stream",
     "text": [
      "pattern: ['input_ball', 'hidden_path1', 'hidden_path3', 'exit1', 'input_ball', 'hidden_path1', 'hidden_path4', 'exit2']\n",
      "```mermaid\n",
      "graph TD\n",
      "PipeNet\n",
      "Input\n",
      "Observer\n",
      "Input--input_ball-->PipeNet\n",
      "PipeNet--exit3-->Observer\n",
      "PipeNet--exit2-->Observer\n",
      "PipeNet--exit1-->Observer```\n",
      "pattern1 ['input_ball', 'hidden_path1', 'hidden_path3', 'exit1', 'input_ball', 'hidden_path1', 'hidden_path4', 'exit2']\n",
      "pattern2 ['input_ball', 'hidden_path1', 'hidden_path3', 'exit1', 'input_ball', 'hidden_path2', 'hidden_path5', 'exit2']\n",
      "pattern1 ['input_ball', 'hidden_path1', 'hidden_path3', 'exit1', 'input_ball', 'hidden_path1', 'hidden_path4', 'exit2']\n",
      "pattern2 ['input_ball', 'hidden_path1', 'hidden_path3', 'exit1', 'input_ball', 'hidden_path2', 'hidden_path5', 'exit2']\n"
     ]
    }
   ],
   "source": [
    "import pyuppaal as pyu\n",
    "\n",
    "VERIFYTA_PATH = \"uppaal\\\\uppaal64-4.1.26\\\\bin-Windows\\\\verifyta.exe\"\n",
    "# set verifyta path\n",
    "pyu.set_verifyta_path(VERIFYTA_PATH)\n",
    "\n",
    "# Load the `xml` model\n",
    "pipeNet = pyu.UModel(\"demo_PipeNet.xml\")\n",
    "# save as a new file in order not to overwrite current file\n",
    "pipeNet = pipeNet.save_as(\"demo_PipeNet_new.xml\")\n",
    "\n",
    "# Define the input.\n",
    "inputs = [('input_ball', 0, 0), ('input_ball', 1000, 1000)]\n",
    "# Define the observation.\n",
    "observations = [('exit1', 500, 500), ('exit2', 1550, 1550)]\n",
    "# Add input template.\n",
    "pipeNet.add_input_monitor(inputs)\n",
    "# Add observation template.\n",
    "# raise ValueError(\"这里别忘了添加focused actions\")\n",
    "pipeNet.add_observer_monitor(observations, focused_actions=['exit1', 'exit2', 'exit3'])\n",
    "\n",
    "# Query whether the model can simulate the inputs & observations\n",
    "pipeNet.queries = 'E<> Observer.pass'\n",
    "# Get one possible trace.\n",
    "trace = pipeNet.easy_verify()\n",
    "print(\"pattern:\", trace.untime_pattern)\n",
    "# Too long to show. Run it by yourself :)\n",
    "# print(\"trace:\", trace)\n",
    "\n",
    "# visualize via https://mermaid.live/\n",
    "cg = pipeNet.get_communication_graph(is_beautify=False)\n",
    "print(cg)\n",
    "\n",
    "# Find all possible traces.\n",
    "traces = pipeNet.find_all_patterns()\n",
    "# print patterns.\n",
    "for i, trace in enumerate(traces):\n",
    "    print(f'pattern{i+1}', trace.untime_pattern)\n",
    "\n",
    "# alternative method with iterator\n",
    "all_patterns_iter =  pipeNet.find_all_patterns_iter()\n",
    "traces = list(all_patterns_iter)\n",
    "for i, trace in enumerate(traces):\n",
    "    print(f'pattern{i+1}', trace.untime_pattern)\n",
    "assert len(traces)==2"
   ]
  }
 ],
 "metadata": {
  "kernelspec": {
   "display_name": "Python 3 (ipykernel)",
   "language": "python",
   "name": "python3"
  },
  "language_info": {
   "codemirror_mode": {
    "name": "ipython",
    "version": 3
   },
   "file_extension": ".py",
   "mimetype": "text/x-python",
   "name": "python",
   "nbconvert_exporter": "python",
   "pygments_lexer": "ipython3",
   "version": "3.10.13"
  },
  "vscode": {
   "interpreter": {
    "hash": "cbab80897c756e21206e83b1602264f7bed4b229d7a86fb97552ee165cb35ec2"
   }
  }
 },
 "nbformat": 4,
 "nbformat_minor": 2
}
