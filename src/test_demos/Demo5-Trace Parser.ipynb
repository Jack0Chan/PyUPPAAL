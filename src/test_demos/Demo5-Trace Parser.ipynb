{
 "cells": [
  {
   "cell_type": "markdown",
   "metadata": {},
   "source": [
    "# Demo5 - Trace Parser\n",
    "\n",
    "**Note: we are woking on CAV-2024 tool paper. The documentation will be updated to a structure similar to Demo1-PipeNet before 2024.4.1.**\n",
    "\n",
    "This demo indicates the usage of pyuppaal.SimTrace."
   ]
  },
  {
   "cell_type": "markdown",
   "metadata": {},
   "source": [
    "## 1. Problem Description\n",
    "\n",
    "Coming soon..\n",
    "\n",
    "<img src=https://raw.githubusercontent.com/Jack0Chan/pyuppaal/main/src/test_demos/trace_parser.png width=1200 />"
   ]
  },
  {
   "cell_type": "markdown",
   "metadata": {},
   "source": [
    "## 2. Code"
   ]
  },
  {
   "cell_type": "code",
   "execution_count": 3,
   "metadata": {},
   "outputs": [
    {
     "name": "stdout",
     "output_type": "stream",
     "text": [
      "State [0]: ['input._id7', 'nodeInput._id2', 'path._id0', 'nodeOut._id5', 'Monitor0._id11']\n",
      "global_variables [0]: None\n",
      "Clock_constraints [0]: [t(0) - gclk ≤ 0; t(0) - nodeInput.t ≤ 0; t(0) - path.t ≤ 0; gclk - nodeInput.t ≤ 0; nodeInput.t - path.t ≤ 0; path.t - t(0) ≤ 0; ]\n",
      "transitions [0]: sigIn: input -> nodeInput; input._id7 -> input._id8; nodeInput._id2 -> nodeInput._id4;\n",
      "-----------------------------------\n",
      "State [1]: ['input._id8', 'nodeInput._id4', 'path._id0', 'nodeOut._id5', 'Monitor0._id11']\n",
      "global_variables [1]: None\n",
      "Clock_constraints [1]: [t(0) - gclk ≤ 0; t(0) - nodeInput.t ≤ 0; t(0) - path.t ≤ 0; gclk - nodeInput.t ≤ 0; nodeInput.t - path.t ≤ 0; path.t - t(0) ≤ 0; ]\n",
      "transitions [1]: actPath: nodeInput -> path; nodeInput._id4 -> nodeInput.Refratory; path._id0 -> path.Conducting;\n",
      "-----------------------------------\n",
      "State [2]: ['input._id8', 'nodeInput.Refratory', 'path.Conducting', 'nodeOut._id5', 'Monitor0._id11']\n",
      "global_variables [2]: None\n",
      "Clock_constraints [2]: [t(0) - gclk ≤ 0; t(0) - nodeInput.t ≤ 0; t(0) - path.t ≤ 0; gclk - t(0) ≤ 30; gclk - nodeInput.t ≤ 0; nodeInput.t - path.t ≤ 0; path.t - gclk ≤ 0; ]\n",
      "transitions [2]: actNode: path -> nodeOut; path.Conducting -> path._id0; nodeOut._id5 -> nodeOut._id6;\n",
      "-----------------------------------\n",
      "State [3]: ['input._id8', 'nodeInput.Refratory', 'path._id0', 'nodeOut._id6', 'Monitor0._id11']\n",
      "global_variables [3]: None\n",
      "Clock_constraints [3]: [t(0) - gclk ≤ 0; t(0) - nodeInput.t ≤ 0; t(0) - path.t ≤ 0; gclk - t(0) ≤ 30; gclk - nodeInput.t ≤ 0; nodeInput.t - path.t ≤ 0; path.t - gclk ≤ 0; ]\n",
      "transitions [3]: sigOut: nodeOut -> Monitor0; nodeOut._id6 -> nodeOut._id5; Monitor0._id11 -> Monitor0._id12;\n",
      "-----------------------------------\n",
      "State [4]: ['input._id8', 'nodeInput.Refratory', 'path._id0', 'nodeOut._id5', 'Monitor0._id12']\n",
      "global_variables [4]: None\n",
      "Clock_constraints [4]: [t(0) - gclk ≤ -30; t(0) - nodeInput.t ≤ 0; t(0) - path.t ≤ 0; gclk - t(0) ≤ 50; gclk - nodeInput.t ≤ 0; nodeInput.t - path.t ≤ 0; path.t - gclk ≤ 0; ]\n",
      "transitions [4]: sigIn: input -> ; input._id8 -> input._id9;\n",
      "-----------------------------------\n",
      "State [5]: ['input._id9', 'nodeInput.Refratory', 'path._id0', 'nodeOut._id5', 'Monitor0._id12']\n",
      "global_variables [5]: None\n",
      "Clock_constraints [5]: [t(0) - gclk ≤ -50; t(0) - nodeInput.t ≤ 0; t(0) - path.t ≤ 0; gclk - t(0) ≤ 100; gclk - nodeInput.t ≤ 0; nodeInput.t - path.t ≤ 0; path.t - gclk ≤ 0; ]\n",
      "transitions [5]: None: nodeInput -> nodeInput; nodeInput.Refratory -> nodeInput._id2;\n",
      "-----------------------------------\n",
      "State [6]: ['input._id9', 'nodeInput._id2', 'path._id0', 'nodeOut._id5', 'Monitor0._id12']\n",
      "global_variables [6]: None\n",
      "Clock_constraints [6]: [t(0) - gclk ≤ -50; t(0) - nodeInput.t ≤ 0; t(0) - path.t ≤ 0; gclk - t(0) ≤ 100; gclk - nodeInput.t ≤ 0; nodeInput.t - path.t ≤ 0; path.t - gclk ≤ 0; ]\n",
      "transitions [6]: sigIn: input -> nodeInput; input._id9 -> input.Finish; nodeInput._id2 -> nodeInput._id4;\n",
      "-----------------------------------\n",
      "State [7]: ['input.Finish', 'nodeInput._id4', 'path._id0', 'nodeOut._id5', 'Monitor0._id12']\n",
      "global_variables [7]: None\n",
      "Clock_constraints [7]: [t(0) - gclk ≤ -100; t(0) - nodeInput.t ≤ 0; t(0) - path.t ≤ 0; gclk - nodeInput.t ≤ 100; nodeInput.t - path.t ≤ -100; path.t - t(0) ≤ 100; ]\n",
      "transitions [7]: actPath: nodeInput -> path; nodeInput._id4 -> nodeInput.Refratory; path._id0 -> path.Conducting;\n",
      "-----------------------------------\n",
      "State [8]: ['input.Finish', 'nodeInput.Refratory', 'path.Conducting', 'nodeOut._id5', 'Monitor0._id12']\n",
      "global_variables [8]: None\n",
      "Clock_constraints [8]: [t(0) - gclk ≤ -100; t(0) - nodeInput.t ≤ 0; t(0) - path.t ≤ 0; gclk - t(0) ≤ 130; gclk - nodeInput.t ≤ 100; nodeInput.t - path.t ≤ 0; path.t - gclk ≤ -100; ]\n",
      "transitions [8]: actNode: path -> nodeOut; path.Conducting -> path._id0; nodeOut._id5 -> nodeOut._id6;\n",
      "-----------------------------------\n",
      "State [9]: ['input.Finish', 'nodeInput.Refratory', 'path._id0', 'nodeOut._id6', 'Monitor0._id12']\n",
      "global_variables [9]: None\n",
      "Clock_constraints [9]: [t(0) - gclk ≤ -100; t(0) - nodeInput.t ≤ 0; t(0) - path.t ≤ 0; gclk - t(0) ≤ 130; gclk - nodeInput.t ≤ 100; nodeInput.t - path.t ≤ 0; path.t - gclk ≤ -100; ]\n",
      "transitions [9]: sigOut: nodeOut -> Monitor0; nodeOut._id6 -> nodeOut._id5; Monitor0._id12 -> Monitor0.pass;\n",
      "-----------------------------------\n",
      "State [10]: ['input.Finish', 'nodeInput.Refratory', 'path._id0', 'nodeOut._id5', 'Monitor0.pass']\n",
      "global_variables [10]: None\n",
      "Clock_constraints [10]: [t(0) - gclk ≤ -130; t(0) - nodeInput.t ≤ 0; t(0) - path.t ≤ 0; gclk - t(0) ≤ 200; gclk - nodeInput.t ≤ 100; nodeInput.t - path.t ≤ 0; path.t - gclk ≤ -100; ]\n",
      "\n"
     ]
    }
   ],
   "source": [
    "import pyuppaal\n",
    "from pyuppaal import UModel\n",
    "\n",
    "pyuppaal.set_verifyta_path(r\"C:\\Users\\Taco\\Documents\\GitHub\\cav2024\\bin\\uppaal64-4.1.26\\bin-Windows\\verifyta.exe\")\n",
    "\n",
    "umodel = UModel('ToyInformation.xml')\n",
    "trace = umodel.easy_verify()\n",
    "print(trace)"
   ]
  },
  {
   "cell_type": "markdown",
   "metadata": {},
   "source": [
    "## 1. Path Conduction Info\n",
    "\n",
    "From the printed trace information above, we can extract path conduction info:\n",
    "\n",
    "State [2]: ['input._id8', 'nodeInput.Refratory', 'path.Conducting', 'nodeOut._id5', 'Monitor0._id11']\n",
    "\n",
    "global_variables [2]: None\n",
    "\n",
    "Clock_constraints [2]: [t(0) - gclk ≤ 0; t(0) - nodeInput.t ≤ 0; <font color=\"red\">t(0) - path.t ≤ 0; gclk - t(0) ≤ 30;</font>  gclk - nodeInput.t ≤ 0; nodeInput.t - path.t ≤ 0; <font color=\"red\">path.t - gclk ≤ 0; </font>]  \n",
    "\n",
    "transitions [2]: actNode: path -> ['nodeOut']; path.Conducting -> path._id0; nodeOut._id5 -> nodeOut._id6;\n",
    "\n",
    "<!-- <font color=\"red\">233 </font> -->\n",
    "\n",
    "We can infer `0 <= path.t <=30` from the red component.\n",
    "\n",
    "<img src=https://raw.githubusercontent.com/Jack0Chan/pyuppaal/main/src/test_demos/conduction_1.png width=300 />\n",
    "<img src=https://raw.githubusercontent.com/Jack0Chan/pyuppaal/main/src/test_demos/conduction_2.png width=300 />"
   ]
  },
  {
   "cell_type": "markdown",
   "metadata": {},
   "source": [
    "## 2.Node Refractory Info\n",
    "\n",
    "State [5]: ['input._id9', 'nodeInput.Refratory', 'path._id0', 'nodeOut._id5', 'Monitor0._id12']\n",
    "global_variables [5]: None\n",
    "Clock_constraints [5]: [t(0) - gclk ≤ -50; t(0) - nodeInput.t ≤ 0; t(0) - path.t ≤ 0; gclk - t(0) ≤ 100; gclk - nodeInput.t ≤ 0; nodeInput.t - path.t ≤ 30; path.t - gclk ≤ -30; ]\n",
    "transitions [5]: None: nodeInput.Refratory -> nodeInput._id2\n",
    "\n",
    "<img src=https://raw.githubusercontent.com/Jack0Chan/pyuppaal/main/src/test_demos/refractory_1.png width=300 />\n",
    "<img src=https://raw.githubusercontent.com/Jack0Chan/pyuppaal/main/src/test_demos/refractory_2.png width=300 />"
   ]
  }
 ],
 "metadata": {
  "kernelspec": {
   "display_name": "Python 3 (ipykernel)",
   "language": "python",
   "name": "python3"
  },
  "language_info": {
   "codemirror_mode": {
    "name": "ipython",
    "version": 3
   },
   "file_extension": ".py",
   "mimetype": "text/x-python",
   "name": "python",
   "nbconvert_exporter": "python",
   "pygments_lexer": "ipython3",
   "version": "3.10.13"
  }
 },
 "nbformat": 4,
 "nbformat_minor": 2
}
