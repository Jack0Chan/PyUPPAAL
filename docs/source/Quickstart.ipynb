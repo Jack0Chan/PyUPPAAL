{
 "cells": [
  {
   "cell_type": "markdown",
   "metadata": {},
   "source": [
    "# Introduction\n",
    "\n",
    "pyUPPAAL is a research tool that can simulate, verify and modify UPPAAL models with python. It can also help to analyze counter-examples in .xml format. Note that the implementations are based on verifyta and the built-in xml package.\n",
    "With this package, you can do\n",
    "\n",
    "1. run any UPPAAL commands with multi-process that is valid with verifyta.\n",
    "\n",
    "2. modify a .xml model, including templates, declarations, system declarations, and queries. It has a powerful method find_all_patterns that can get all different untimed traces that can explain current inputs-obs.\n",
    "\n",
    "3. analyze a counter-example file, and return input-observation-based analysis.\n",
    "\n",
    "4. analyze the *SMC* simulation results.\n",
    "\n",
    "\n",
    "\n",
    "# Quickstart\n",
    "\n",
    "## Something to prepare\n",
    "\n",
    "### Installation\n",
    "To install `pyuppaal`, simply run this simple command:"
   ]
  },
  {
   "cell_type": "code",
   "execution_count": 1,
   "metadata": {},
   "outputs": [
    {
     "name": "stdout",
     "output_type": "stream",
     "text": [
      "Requirement already satisfied: pyuppaal in c:\\python310\\lib\\site-packages (0.1.12)\n",
      "Requirement already satisfied: myst-parser in c:\\python310\\lib\\site-packages (from pyuppaal) (0.18.0)\n",
      "Requirement already satisfied: jinja2 in c:\\python310\\lib\\site-packages (from myst-parser->pyuppaal) (3.1.2)\n",
      "Requirement already satisfied: typing-extensions in c:\\python310\\lib\\site-packages (from myst-parser->pyuppaal) (4.3.0)\n",
      "Requirement already satisfied: docutils<0.19,>=0.15 in c:\\users\\22215\\appdata\\roaming\\python\\python310\\site-packages (from myst-parser->pyuppaal) (0.17.1)\n",
      "Requirement already satisfied: mdit-py-plugins~=0.3.0 in c:\\python310\\lib\\site-packages (from myst-parser->pyuppaal) (0.3.0)\n",
      "Requirement already satisfied: sphinx<6,>=4 in c:\\python310\\lib\\site-packages (from myst-parser->pyuppaal) (5.1.1)\n",
      "Requirement already satisfied: markdown-it-py<3.0.0,>=1.0.0 in c:\\python310\\lib\\site-packages (from myst-parser->pyuppaal) (2.1.0)\n",
      "Requirement already satisfied: pyyaml in c:\\python310\\lib\\site-packages (from myst-parser->pyuppaal) (6.0)\n",
      "Requirement already satisfied: mdurl~=0.1 in c:\\python310\\lib\\site-packages (from markdown-it-py<3.0.0,>=1.0.0->myst-parser->pyuppaal) (0.1.2)\n",
      "Requirement already satisfied: babel>=1.3 in c:\\python310\\lib\\site-packages (from sphinx<6,>=4->myst-parser->pyuppaal) (2.10.3)\n",
      "Requirement already satisfied: alabaster<0.8,>=0.7 in c:\\python310\\lib\\site-packages (from sphinx<6,>=4->myst-parser->pyuppaal) (0.7.12)\n",
      "Requirement already satisfied: sphinxcontrib-devhelp in c:\\python310\\lib\\site-packages (from sphinx<6,>=4->myst-parser->pyuppaal) (1.0.2)\n",
      "Requirement already satisfied: sphinxcontrib-serializinghtml>=1.1.5 in c:\\python310\\lib\\site-packages (from sphinx<6,>=4->myst-parser->pyuppaal) (1.1.5)\n",
      "Requirement already satisfied: sphinxcontrib-applehelp in c:\\python310\\lib\\site-packages (from sphinx<6,>=4->myst-parser->pyuppaal) (1.0.2)\n",
      "Requirement already satisfied: sphinxcontrib-qthelp in c:\\python310\\lib\\site-packages (from sphinx<6,>=4->myst-parser->pyuppaal) (1.0.3)\n",
      "Requirement already satisfied: Pygments>=2.0 in c:\\python310\\lib\\site-packages (from sphinx<6,>=4->myst-parser->pyuppaal) (2.12.0)\n",
      "Requirement already satisfied: sphinxcontrib-htmlhelp>=2.0.0 in c:\\python310\\lib\\site-packages (from sphinx<6,>=4->myst-parser->pyuppaal) (2.0.0)\n",
      "Requirement already satisfied: requests>=2.5.0 in c:\\python310\\lib\\site-packages (from sphinx<6,>=4->myst-parser->pyuppaal) (2.28.1)\n",
      "Requirement already satisfied: imagesize in c:\\python310\\lib\\site-packages (from sphinx<6,>=4->myst-parser->pyuppaal) (1.4.1)\n",
      "Requirement already satisfied: snowballstemmer>=1.1 in c:\\python310\\lib\\site-packages (from sphinx<6,>=4->myst-parser->pyuppaal) (2.2.0)\n",
      "Requirement already satisfied: colorama>=0.3.5 in c:\\python310\\lib\\site-packages (from sphinx<6,>=4->myst-parser->pyuppaal) (0.4.5)\n",
      "Requirement already satisfied: sphinxcontrib-jsmath in c:\\python310\\lib\\site-packages (from sphinx<6,>=4->myst-parser->pyuppaal) (1.0.1)\n",
      "Requirement already satisfied: packaging in c:\\python310\\lib\\site-packages (from sphinx<6,>=4->myst-parser->pyuppaal) (21.3)\n",
      "Requirement already satisfied: MarkupSafe>=2.0 in c:\\python310\\lib\\site-packages (from jinja2->myst-parser->pyuppaal) (2.1.1)\n",
      "Requirement already satisfied: pytz>=2015.7 in c:\\python310\\lib\\site-packages (from babel>=1.3->sphinx<6,>=4->myst-parser->pyuppaal) (2022.1)\n",
      "Requirement already satisfied: urllib3<1.27,>=1.21.1 in c:\\python310\\lib\\site-packages (from requests>=2.5.0->sphinx<6,>=4->myst-parser->pyuppaal) (1.26.11)\n",
      "Requirement already satisfied: charset-normalizer<3,>=2 in c:\\python310\\lib\\site-packages (from requests>=2.5.0->sphinx<6,>=4->myst-parser->pyuppaal) (2.1.0)\n",
      "Requirement already satisfied: certifi>=2017.4.17 in c:\\python310\\lib\\site-packages (from requests>=2.5.0->sphinx<6,>=4->myst-parser->pyuppaal) (2022.6.15)\n",
      "Requirement already satisfied: idna<4,>=2.5 in c:\\python310\\lib\\site-packages (from requests>=2.5.0->sphinx<6,>=4->myst-parser->pyuppaal) (3.3)\n",
      "Requirement already satisfied: pyparsing!=3.0.5,>=2.0.2 in c:\\python310\\lib\\site-packages (from packaging->sphinx<6,>=4->myst-parser->pyuppaal) (3.0.9)\n",
      "Note: you may need to restart the kernel to use updated packages.\n"
     ]
    }
   ],
   "source": [
    "pip install pyuppaal"
   ]
  },
  {
   "cell_type": "markdown",
   "metadata": {},
   "source": [
    "### Get started\n",
    "\n",
    "Begin by importing the `pyuppaal` module:"
   ]
  },
  {
   "cell_type": "code",
   "execution_count": 2,
   "metadata": {},
   "outputs": [],
   "source": [
    "import pyuppaal as pyu"
   ]
  },
  {
   "cell_type": "markdown",
   "metadata": {},
   "source": [
    "### Set verifyta path first!\n",
    "\n",
    "You **MUST** set the verifyta path firstly before verification!"
   ]
  },
  {
   "cell_type": "code",
   "execution_count": 3,
   "metadata": {},
   "outputs": [],
   "source": [
    "pyu.set_verifyta_path(r'C:/Users/22215/OneDrive/Software/UPPAAL/bin-Windows/verifyta.exe')"
   ]
  },
  {
   "cell_type": "markdown",
   "metadata": {},
   "source": [
    "## Try some simple verification!\n",
    "\n",
    "Choose the model file you want to verify, as well as the path you want to save the result, you can complete a simple verifivation:"
   ]
  },
  {
   "cell_type": "code",
   "execution_count": 4,
   "metadata": {},
   "outputs": [
    {
     "name": "stdout",
     "output_type": "stream",
     "text": [
      "[('set UPPAAL_COMPILE_ONLY=&&C:/Users/22215/OneDrive/Software/UPPAAL/bin-Windows/verifyta.exe -t 1 -X C:\\\\Users\\\\22215\\\\OneDrive\\\\Coding\\\\Github\\\\pyuppaal\\\\src\\\\tests\\\\verifyta_demo1_trace C:\\\\Users\\\\22215\\\\OneDrive\\\\Coding\\\\Github\\\\pyuppaal\\\\src\\\\tests\\\\verifyta_demo1.xml', 'Options for the verification:\\n  Generating shortest trace\\n  Search order is breadth first\\n  Using conservative space optimisation\\n  Seed is 1662373020\\n  State space representation uses minimal constraint systems\\n\\x1b[2K\\nVerifying formula 1 at /nta/queries/query[1]/formula\\n\\x1b[2K -- Formula is NOT satisfied.\\nXMLTrace outputted to: C:\\\\Users\\\\22215\\\\OneDrive\\\\Coding\\\\Github\\\\pyuppaal\\\\src\\\\tests\\\\verifyta_demo1_trace1.xml\\n')]\n"
     ]
    }
   ],
   "source": [
    "# Two paths you choose\n",
    "p1_model_path = r'C:\\Users\\22215\\OneDrive\\Coding\\Github\\pyuppaal\\src\\tests\\verifyta_demo1.xml'\n",
    "p1_trace_path = r'C:\\Users\\22215\\OneDrive\\Coding\\Github\\pyuppaal\\src\\tests\\verifyta_demo1_trace.xml'\n",
    "# The result will be written in the target file, and the procedure information is saved in res1\n",
    "res1 = pyu.simple_verify(model_path=p1_model_path, trace_path=p1_trace_path)\n",
    "print(res1)"
   ]
  },
  {
   "cell_type": "markdown",
   "metadata": {},
   "source": [
    "## Get timed trace easily\n",
    "\n",
    "You can also  get a timed trace with the same params:"
   ]
  },
  {
   "cell_type": "code",
   "execution_count": 5,
   "metadata": {},
   "outputs": [
    {
     "name": "stdout",
     "output_type": "stream",
     "text": [
      "State [0]: ['P2.A']\n",
      "global_variables [0]: []\n",
      "Clock_constraints [0]: [t(0) - P2.t ≤ 0; P2.t - t(0) ≤ 10; ]\n",
      "transitions [0]: None: P2.A -> P2.B\n",
      "-----------------------------------\n",
      "State [1]: ['P2.B']\n",
      "global_variables [1]: []\n",
      "Clock_constraints [1]: [t(0) - P2.t ≤ -10; P2.t - t(0) ≤ 10; ]\n",
      "transitions [1]: None: P2.B -> P2.C\n",
      "-----------------------------------\n",
      "State [2]: ['P2.C']\n",
      "global_variables [2]: []\n",
      "Clock_constraints [2]: [t(0) - P2.t ≤ -10; P2.t - t(0) ≤ 20; ]\n",
      "\n"
     ]
    }
   ],
   "source": [
    "p1_model_path =  r'C:\\Users\\22215\\OneDrive\\Coding\\Github\\pyuppaal\\src\\tests\\verifyta_demo2.xml'\n",
    "p1_trace_path =  r'C:\\Users\\22215\\OneDrive\\Coding\\Github\\pyuppaal\\src\\tests\\verifyta_demo2_trace-1.xtr'\n",
    "simtracer = pyu.get_timed_trace(p1_model_path, p1_trace_path,hold=True)\n",
    "print(simtracer)"
   ]
  },
  {
   "cell_type": "markdown",
   "metadata": {},
   "source": [
    "## Find a pattern\n",
    "\n",
    "You can quickly find a pattern with plentiful params, e.g., inputs, observations, actions:"
   ]
  },
  {
   "cell_type": "code",
   "execution_count": 6,
   "metadata": {},
   "outputs": [
    {
     "data": {
      "text/plain": [
       "('E<> Monitor0.pass',\n",
       " ['input_ball',\n",
       "  'input_ball',\n",
       "  'hidden_path1',\n",
       "  'hidden_path3',\n",
       "  'exit1',\n",
       "  'input_ball',\n",
       "  'input_ball',\n",
       "  'hidden_path1',\n",
       "  'hidden_path4',\n",
       "  'exit2'])"
      ]
     },
     "execution_count": 6,
     "metadata": {},
     "output_type": "execute_result"
    }
   ],
   "source": [
    "model_path = r'C:\\Users\\22215\\OneDrive\\Coding\\Github\\pyuppaal\\src\\tests\\pyuppaal_demo_PipeNet.xml'\n",
    "# input at 0 and 1000\n",
    "inputs = pyu.TimedActions(actions=['input_ball', 'input_ball'], lb=[0, 1000], ub=[0,1000])\n",
    "# observe at 500 and 1550\n",
    "observations = pyu.TimedActions(actions=['exit1', 'exit2'], lb=[500, 1550], ub=[500, 1550])\n",
    "# concerned actions\n",
    "hidden_actions = ['hidden_path1', 'hidden_path2', 'hidden_path3', 'hidden_path4', 'hidden_path5', 'hidden_path6']\n",
    "input_actions = ['input_ball']\n",
    "observe_actions = ['exit1','exit2','exit3']\n",
    "focused_actions = list(set(hidden_actions+input_actions+observe_actions))\n",
    "# find a pattern\n",
    "pyu.find_a_pattern(model_path=model_path,inputs=inputs, observes=observations, observe_actions=observe_actions, focused_actions=None, hold=False)"
   ]
  },
  {
   "cell_type": "markdown",
   "metadata": {},
   "source": [
    "## Find all patterns\n",
    "\n",
    "You can also find all patterns:"
   ]
  },
  {
   "cell_type": "code",
   "execution_count": 7,
   "metadata": {},
   "outputs": [
    {
     "data": {
      "text/plain": [
       "[('E<> Monitor0.pass',\n",
       "  ['input_ball',\n",
       "   'input_ball',\n",
       "   'hidden_path1',\n",
       "   'hidden_path3',\n",
       "   'exit1',\n",
       "   'input_ball',\n",
       "   'input_ball',\n",
       "   'hidden_path1',\n",
       "   'hidden_path4',\n",
       "   'exit2']),\n",
       " ('E<> Monitor0.pass && !Monitor1.pass',\n",
       "  ['input_ball',\n",
       "   'input_ball',\n",
       "   'hidden_path1',\n",
       "   'hidden_path3',\n",
       "   'exit1',\n",
       "   'input_ball',\n",
       "   'input_ball',\n",
       "   'hidden_path2',\n",
       "   'hidden_path5',\n",
       "   'exit2'])]"
      ]
     },
     "execution_count": 7,
     "metadata": {},
     "output_type": "execute_result"
    }
   ],
   "source": [
    "pyu.find_all_patterns(model_path=model_path,inputs=inputs, observes=observations, observe_actions=observe_actions, hold=False, max_patterns = 2)"
   ]
  },
  {
   "cell_type": "markdown",
   "metadata": {},
   "source": [
    "## Generate communication graph\n",
    "\n",
    "You can easily generate your communication graph to plentiful type, e.g., `.md`, `.png`, `.svg` and `.pdf`:"
   ]
  },
  {
   "cell_type": "code",
   "execution_count": 8,
   "metadata": {},
   "outputs": [],
   "source": [
    "model_path = r'C:\\Users\\22215\\OneDrive\\Coding\\Github\\pyuppaal\\src\\tests\\Pedestrian.xml'\n",
    "# just take .png as an example\n",
    "save_path = r'C:\\Users\\22215\\OneDrive\\Coding\\Github\\pyuppaal\\src\\tests\\Pedestrian.png'\n",
    "pyu.get_communication_graph(model_path,save_path)"
   ]
  }
 ],
 "metadata": {
  "kernelspec": {
   "display_name": "Python 3.10.6 64-bit",
   "language": "python",
   "name": "python3"
  },
  "language_info": {
   "codemirror_mode": {
    "name": "ipython",
    "version": 3
   },
   "file_extension": ".py",
   "mimetype": "text/x-python",
   "name": "python",
   "nbconvert_exporter": "python",
   "pygments_lexer": "ipython3",
   "version": "3.10.6"
  },
  "orig_nbformat": 4,
  "vscode": {
   "interpreter": {
    "hash": "369f2c481f4da34e4445cda3fffd2e751bd1c4d706f27375911949ba6bb62e1c"
   }
  }
 },
 "nbformat": 4,
 "nbformat_minor": 2
}
